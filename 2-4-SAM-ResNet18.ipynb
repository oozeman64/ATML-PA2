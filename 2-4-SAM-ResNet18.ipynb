{
 "cells": [
  {
   "cell_type": "markdown",
   "metadata": {},
   "source": [
    "## SAM with ResNet18\n",
    "\n",
    "#### Source Domains: PACS Art/Painting, Cartoon, Photo\n",
    "#### Target Domain: PACS Sketch"
   ]
  },
  {
   "cell_type": "code",
   "execution_count": 1,
   "metadata": {},
   "outputs": [],
   "source": [
    "import torch\n",
    "import torchvision\n",
    "from torchvision import datasets\n",
    "from torch.utils.data import DataLoader, ConcatDataset\n",
    "\n",
    "device = \"cuda\" if torch.cuda.is_available() else \"mps\" if torch.mps.is_available() else \"cpu\""
   ]
  },
  {
   "cell_type": "code",
   "execution_count": 2,
   "metadata": {},
   "outputs": [],
   "source": [
    "class SAM(torch.optim.Optimizer):\n",
    "    def __init__(self, params, base_optimizer, rho=0.05, adaptive=False, **kwargs):\n",
    "        self.rho = rho\n",
    "        self.adaptive = adaptive\n",
    "        defaults = dict(rho=rho, adaptive=adaptive, **kwargs)\n",
    "        super(SAM, self).__init__(params, defaults)\n",
    "        self.base_optimizer = base_optimizer(self.param_groups, **kwargs)\n",
    "        self.param_groups = self.base_optimizer.param_groups\n",
    "\n",
    "    @torch.no_grad()\n",
    "    def first_step(self, zero_grad=False):\n",
    "        grad_norm = self._grad_norm()\n",
    "        scale = self.rho / (grad_norm + 1e-12)\n",
    "\n",
    "        for group in self.param_groups:\n",
    "            for p in group['params']:\n",
    "                if p.grad is None:\n",
    "                    continue\n",
    "                e_w = (torch.pow(p, 2) if self.adaptive else 1.0) * p.grad * scale.to(p)\n",
    "                p.add_(e_w)  # ascent step\n",
    "                self.state[p]['e_w'] = e_w\n",
    "\n",
    "        if zero_grad:\n",
    "            self.zero_grad()\n",
    "\n",
    "    @torch.no_grad()\n",
    "    def second_step(self, zero_grad=False):\n",
    "        for group in self.param_groups:\n",
    "            for p in group['params']:\n",
    "                if p.grad is None:\n",
    "                    continue\n",
    "                p.sub_(self.state[p]['e_w'])  # restore original weights\n",
    "        self.base_optimizer.step()\n",
    "        if zero_grad:\n",
    "            self.zero_grad()\n",
    "\n",
    "    @torch.no_grad()\n",
    "    def step(self, closure=None):\n",
    "        raise NotImplementedError\n",
    "\n",
    "    def _grad_norm(self):\n",
    "        shared_device = self.param_groups[0]['params'][0].device\n",
    "        norm = torch.norm(\n",
    "            torch.stack([\n",
    "                ((torch.abs(p) if self.adaptive else 1.0) * p.grad).norm(p=2).to(shared_device)\n",
    "                for group in self.param_groups for p in group['params']\n",
    "                if p.grad is not None\n",
    "            ]),\n",
    "            p=2\n",
    "        )\n",
    "        return norm"
   ]
  },
  {
   "cell_type": "code",
   "execution_count": 3,
   "metadata": {},
   "outputs": [],
   "source": [
    "model = torchvision.models.resnet18(weights='IMAGENET1K_V1')\n",
    "\n",
    "for param in model.parameters():\n",
    "    param.requires_grad = False\n",
    "model.fc = torch.nn.Linear(model.fc.in_features, 7)\n",
    "\n",
    "optim = SAM(model.parameters(), torch.optim.Adam, lr=5e-5, rho=0.05)\n",
    "\n",
    "criterion = torch.nn.CrossEntropyLoss()"
   ]
  },
  {
   "cell_type": "code",
   "execution_count": 4,
   "metadata": {},
   "outputs": [],
   "source": [
    "imagenet_mean = [0.485, 0.456, 0.406]\n",
    "imagenet_std = [0.229, 0.224, 0.225]\n",
    "\n",
    "transform = torchvision.transforms.Compose([\n",
    "    torchvision.transforms.Resize((224, 224)),\n",
    "    torchvision.transforms.ToTensor(),\n",
    "    torchvision.transforms.Normalize(imagenet_mean, imagenet_std)\n",
    "])\n",
    "\n",
    "art_dir = \"data/pacs_data/pacs_data/art_painting\"\n",
    "cartoon_dir = \"data/pacs_data/pacs_data/cartoon\"\n",
    "photo_dir = \"data/pacs_data/pacs_data/photo\"\n",
    "sketch_dir = \"data/pacs_data/pacs_data/sketch\"\n",
    "\n",
    "art_dataset = datasets.ImageFolder(root=art_dir, transform=transform)\n",
    "cartoon_dataset = datasets.ImageFolder(root=cartoon_dir, transform=transform)\n",
    "photo_dataset = datasets.ImageFolder(root=photo_dir, transform=transform)\n",
    "sketch_dataset = datasets.ImageFolder(root=sketch_dir, transform=transform)\n",
    "\n",
    "art_loader = DataLoader(\n",
    "    art_dataset,\n",
    "    batch_size=32,\n",
    "    shuffle=True,\n",
    "    num_workers=2,\n",
    "    pin_memory=True\n",
    ")\n",
    "\n",
    "cartoon_loader = DataLoader(\n",
    "    cartoon_dataset,\n",
    "    batch_size=32,\n",
    "    shuffle=True,\n",
    "    num_workers=2,\n",
    "    pin_memory=True\n",
    ")\n",
    "\n",
    "photo_loader = DataLoader(\n",
    "    photo_dataset,\n",
    "    batch_size=32,\n",
    "    shuffle=True,\n",
    "    num_workers=2,\n",
    "    pin_memory=True\n",
    ")\n",
    "\n",
    "sketch_loader = DataLoader( # This is also the test domain loader\n",
    "    sketch_dataset,\n",
    "    batch_size=32,\n",
    "    shuffle=True,\n",
    "    num_workers=2,\n",
    "    pin_memory=True\n",
    ")\n",
    "\n",
    "source_dataset = ConcatDataset([art_dataset, cartoon_dataset, photo_dataset])\n",
    "\n",
    "source_loader = DataLoader(\n",
    "    source_dataset,\n",
    "    batch_size=32,\n",
    "    shuffle=True,\n",
    "    num_workers=2,\n",
    "    pin_memory=True\n",
    ")\n",
    "\n",
    "pacs_classes = sketch_dataset.classes\n",
    "\n",
    "envs = [art_loader, cartoon_loader, photo_loader]"
   ]
  },
  {
   "cell_type": "code",
   "execution_count": 5,
   "metadata": {},
   "outputs": [],
   "source": [
    "def train_epoch(model, loader, criterion, optimizer, device):\n",
    "    model.to(device)\n",
    "    model.train()\n",
    "    running_loss, correct, total = 0.0, 0, 0\n",
    "\n",
    "    for inputs, labels in loader:\n",
    "        inputs, labels = inputs.to(device), labels.to(device)\n",
    "\n",
    "        # ---- SAM first step (ascent) ----\n",
    "        outputs = model(inputs)\n",
    "        loss = criterion(outputs, labels)\n",
    "        loss.backward()\n",
    "        optimizer.first_step(zero_grad=True)  # perturb weights\n",
    "\n",
    "        # ---- SAM second step (descent) ----\n",
    "        criterion(model(inputs), labels).backward()\n",
    "        optimizer.second_step(zero_grad=True)\n",
    "\n",
    "        # ---- Track loss and accuracy (use unperturbed outputs) ----\n",
    "        running_loss += loss.item() * inputs.size(0)\n",
    "        _, predicted = outputs.max(1)\n",
    "        total += labels.size(0)\n",
    "        correct += predicted.eq(labels).sum().item()\n",
    "\n",
    "    avg_loss = running_loss / total\n",
    "    accuracy = 100. * correct / total\n",
    "    return avg_loss, accuracy\n"
   ]
  },
  {
   "cell_type": "code",
   "execution_count": 6,
   "metadata": {},
   "outputs": [],
   "source": [
    "def evaluate(model, test_loader, device):\n",
    "    model.to(device)\n",
    "    model.eval()\n",
    "    correct = 0\n",
    "    total = 0\n",
    "\n",
    "    with torch.no_grad():\n",
    "        for images, labels in test_loader:\n",
    "            images = images.to(device)\n",
    "            labels = labels.to(device)\n",
    "            preds = model(images)\n",
    "            preds = torch.argmax(preds, dim=1)\n",
    "            correct += (preds == labels).sum().item()\n",
    "            total += labels.size(0)\n",
    "    accuracy = correct / total * 100\n",
    "    return accuracy"
   ]
  },
  {
   "cell_type": "code",
   "execution_count": 7,
   "metadata": {},
   "outputs": [
    {
     "name": "stdout",
     "output_type": "stream",
     "text": [
      "Epoch 1: Loss:  1.8926 | | Train Accuracy:  23.42%\n",
      "Epoch 2: Loss:  1.5966 | | Train Accuracy:  45.32%\n",
      "Epoch 3: Loss:  1.3800 | | Train Accuracy:  58.71%\n",
      "Epoch 4: Loss:  1.2184 | | Train Accuracy:  67.57%\n",
      "Epoch 5: Loss:  1.0890 | | Train Accuracy:  72.63%\n",
      "Epoch 6: Loss:  0.9885 | | Train Accuracy:  76.18%\n",
      "Epoch 7: Loss:  0.9089 | | Train Accuracy:  78.95%\n",
      "Epoch 8: Loss:  0.8510 | | Train Accuracy:  79.50%\n",
      "Epoch 9: Loss:  0.7967 | | Train Accuracy:  81.36%\n",
      "Epoch 10: Loss:  0.7508 | | Train Accuracy:  82.13%\n",
      "Epoch 11: Loss:  0.7119 | | Train Accuracy:  82.88%\n",
      "Epoch 12: Loss:  0.6785 | | Train Accuracy:  83.47%\n",
      "Epoch 13: Loss:  0.6531 | | Train Accuracy:  83.98%\n",
      "Epoch 14: Loss:  0.6313 | | Train Accuracy:  84.36%\n",
      "Epoch 15: Loss:  0.6072 | | Train Accuracy:  84.72%\n",
      "Epoch 16: Loss:  0.5842 | | Train Accuracy:  84.72%\n",
      "Epoch 17: Loss:  0.5693 | | Train Accuracy:  85.45%\n",
      "Epoch 18: Loss:  0.5553 | | Train Accuracy:  85.43%\n",
      "Epoch 19: Loss:  0.5397 | | Train Accuracy:  85.60%\n",
      "Epoch 20: Loss:  0.5278 | | Train Accuracy:  86.19%\n",
      "Epoch 21: Loss:  0.5147 | | Train Accuracy:  86.29%\n",
      "Epoch 22: Loss:  0.5036 | | Train Accuracy:  86.79%\n",
      "Epoch 23: Loss:  0.4937 | | Train Accuracy:  86.77%\n",
      "Epoch 24: Loss:  0.4776 | | Train Accuracy:  87.36%\n",
      "Epoch 25: Loss:  0.4752 | | Train Accuracy:  87.02%\n",
      "Epoch 26: Loss:  0.4620 | | Train Accuracy:  87.28%\n",
      "Epoch 27: Loss:  0.4589 | | Train Accuracy:  87.45%\n",
      "Epoch 28: Loss:  0.4503 | | Train Accuracy:  87.61%\n",
      "Epoch 29: Loss:  0.4496 | | Train Accuracy:  87.28%\n",
      "Epoch 30: Loss:  0.4424 | | Train Accuracy:  87.17%\n",
      "Epoch 31: Loss:  0.4330 | | Train Accuracy:  87.55%\n",
      "Epoch 32: Loss:  0.4270 | | Train Accuracy:  87.69%\n",
      "Epoch 33: Loss:  0.4188 | | Train Accuracy:  88.01%\n",
      "Epoch 34: Loss:  0.4152 | | Train Accuracy:  88.01%\n",
      "Epoch 35: Loss:  0.4078 | | Train Accuracy:  88.35%\n",
      "Epoch 36: Loss:  0.4070 | | Train Accuracy:  88.07%\n",
      "Epoch 37: Loss:  0.3989 | | Train Accuracy:  88.52%\n",
      "Epoch 38: Loss:  0.3945 | | Train Accuracy:  88.01%\n",
      "Epoch 39: Loss:  0.3978 | | Train Accuracy:  87.76%\n",
      "Epoch 40: Loss:  0.3893 | | Train Accuracy:  88.68%\n",
      "Epoch 41: Loss:  0.3918 | | Train Accuracy:  88.19%\n",
      "Epoch 42: Loss:  0.3835 | | Train Accuracy:  88.37%\n",
      "Epoch 43: Loss:  0.3757 | | Train Accuracy:  88.65%\n",
      "Epoch 44: Loss:  0.3811 | | Train Accuracy:  88.55%\n",
      "Epoch 45: Loss:  0.3752 | | Train Accuracy:  89.00%\n",
      "Epoch 46: Loss:  0.3697 | | Train Accuracy:  88.93%\n",
      "Epoch 47: Loss:  0.3694 | | Train Accuracy:  88.93%\n",
      "Epoch 48: Loss:  0.3573 | | Train Accuracy:  89.26%\n",
      "Epoch 49: Loss:  0.3612 | | Train Accuracy:  89.01%\n",
      "Epoch 50: Loss:  0.3585 | | Train Accuracy:  89.21%\n"
     ]
    }
   ],
   "source": [
    "train_acc = 0\n",
    "num_epochs = 50\n",
    "for epoch in range(num_epochs):\n",
    "    train_loss, train_acc = train_epoch(model, source_loader, criterion, optim, device)\n",
    "    print(f\"Epoch {epoch+1}: Loss:  {train_loss:.4f} | | Train Accuracy:  {train_acc:.2f}%\")"
   ]
  },
  {
   "cell_type": "markdown",
   "metadata": {},
   "source": [
    "### Evaluation on Source Domains"
   ]
  },
  {
   "cell_type": "code",
   "execution_count": 8,
   "metadata": {},
   "outputs": [
    {
     "name": "stdout",
     "output_type": "stream",
     "text": [
      "Art Accuracy: 88.18%\n",
      "Cartoon Accuracy: 87.20%\n",
      "Photo Accuracy: 97.43%\n",
      "\n",
      "All Source Domains Accuracy: 90.35%\n"
     ]
    }
   ],
   "source": [
    "art_accuracy = evaluate(model, art_loader, device)\n",
    "print(f\"Art Accuracy: {art_accuracy:.2f}%\")\n",
    "\n",
    "cartoon_accuracy = evaluate(model, cartoon_loader, device)\n",
    "print(f\"Cartoon Accuracy: {cartoon_accuracy:.2f}%\")\n",
    "\n",
    "photo_accuracy = evaluate(model, photo_loader, device)\n",
    "print(f\"Photo Accuracy: {photo_accuracy:.2f}%\")\n",
    "\n",
    "source_accuracy = evaluate(model, source_loader, device)\n",
    "print(f\"\\nAll Source Domains Accuracy: {source_accuracy:.2f}%\")"
   ]
  },
  {
   "cell_type": "markdown",
   "metadata": {},
   "source": [
    "### Evaluation on Test Domain"
   ]
  },
  {
   "cell_type": "code",
   "execution_count": 9,
   "metadata": {},
   "outputs": [
    {
     "name": "stdout",
     "output_type": "stream",
     "text": [
      "Sketch Accuracy: 38.58%\n"
     ]
    }
   ],
   "source": [
    "sketch_accuracy = evaluate(model, sketch_loader, device)\n",
    "print(f\"Sketch Accuracy: {sketch_accuracy:.2f}%\")"
   ]
  }
 ],
 "metadata": {
  "kernelspec": {
   "display_name": "Python 3",
   "language": "python",
   "name": "python3"
  },
  "language_info": {
   "codemirror_mode": {
    "name": "ipython",
    "version": 3
   },
   "file_extension": ".py",
   "mimetype": "text/x-python",
   "name": "python",
   "nbconvert_exporter": "python",
   "pygments_lexer": "ipython3",
   "version": "3.13.0"
  }
 },
 "nbformat": 4,
 "nbformat_minor": 2
}
