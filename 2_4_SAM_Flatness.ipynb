{
 "cells": [
  {
   "cell_type": "code",
   "execution_count": 43,
   "id": "48b6d5fe",
   "metadata": {},
   "outputs": [],
   "source": [
    "import torch\n",
    "import torch.nn as nn\n",
    "import matplotlib.pyplot as plt\n",
    "from torchvision import datasets, transforms, models\n",
    "from torch.utils.data import DataLoader, ConcatDataset, random_split\n",
    "import random\n",
    "import numpy as np\n",
    "import os\n",
    "\n",
    "device = \"cuda\" if torch.cuda.is_available() else \"cpu\""
   ]
  },
  {
   "cell_type": "code",
   "execution_count": 44,
   "id": "d72af086",
   "metadata": {},
   "outputs": [
    {
     "name": "stdout",
     "output_type": "stream",
     "text": [
      "Fixed random seed: 42\n"
     ]
    }
   ],
   "source": [
    "def fix_random_seed(seed=42):\n",
    "    random.seed(seed)\n",
    "    np.random.seed(seed)\n",
    "    os.environ[\"PYTHONHASHSEED\"] = str(seed)\n",
    "    torch.manual_seed(seed)\n",
    "    torch.cuda.manual_seed(seed)\n",
    "    torch.cuda.manual_seed_all(seed)\n",
    "    torch.backends.cudnn.deterministic = True\n",
    "    torch.backends.cudnn.benchmark = False\n",
    "    print(f\"Fixed random seed: {seed}\")\n",
    "\n",
    "fix_random_seed(42)\n",
    "\n",
    "# For deterministic DataLoader behavior\n",
    "def seed_worker(worker_id):\n",
    "    worker_seed = torch.initial_seed() % 2**32\n",
    "    np.random.seed(worker_seed)\n",
    "    random.seed(worker_seed)"
   ]
  },
  {
   "cell_type": "code",
   "execution_count": 45,
   "id": "2c99a88b",
   "metadata": {},
   "outputs": [],
   "source": [
    "# --- Constants ---\n",
    "imagenet_mean = [0.485, 0.456, 0.406]\n",
    "imagenet_std = [0.229, 0.224, 0.225]\n",
    "BATCH_SIZE = 512\n",
    "NUM_WORKERS = 0\n",
    "TRAIN_RATIO = 0.95\n",
    "VAL_RATIO = 0.05\n",
    "\n",
    "# --- Transform ---\n",
    "transform = transforms.Compose([\n",
    "    transforms.Resize((224, 224)),\n",
    "    transforms.ToTensor(),\n",
    "    transforms.Normalize(imagenet_mean, imagenet_std)\n",
    "])\n",
    "\n",
    "# --- Directories ---\n",
    "art_dir = \"data/pacs_data/pacs_data/art_painting\"\n",
    "cartoon_dir = \"data/pacs_data/pacs_data/cartoon\"\n",
    "photo_dir = \"data/pacs_data/pacs_data/photo\"\n",
    "sketch_dir = \"data/pacs_data/pacs_data/sketch\"\n",
    "\n",
    "# --- Datasets ---\n",
    "art_dataset = datasets.ImageFolder(root=art_dir, transform=transform)\n",
    "cartoon_dataset = datasets.ImageFolder(root=cartoon_dir, transform=transform)\n",
    "photo_dataset = datasets.ImageFolder(root=photo_dir, transform=transform)\n",
    "sketch_dataset = datasets.ImageFolder(root=sketch_dir, transform=transform)  # target domain\n",
    "\n",
    "# --- Seed setup for reproducibility ---\n",
    "g = torch.Generator()\n",
    "g.manual_seed(42)\n",
    "\n",
    "def seed_worker(worker_id):\n",
    "    worker_seed = torch.initial_seed() % 2**32\n",
    "    torch.manual_seed(worker_seed)\n",
    "    torch.cuda.manual_seed_all(worker_seed)\n",
    "\n",
    "# --- Split each train domain into train/val ---\n",
    "def split_dataset(dataset, ratio=TRAIN_RATIO, generator=g):\n",
    "    total_size = len(dataset)\n",
    "    train_size = int(ratio * total_size)\n",
    "    val_size = total_size - train_size\n",
    "    return random_split(dataset, [train_size, val_size], generator=generator)\n",
    "\n",
    "art_train, art_val = split_dataset(art_dataset)\n",
    "cartoon_train, cartoon_val = split_dataset(cartoon_dataset)\n",
    "photo_train, photo_val = split_dataset(photo_dataset)\n",
    "\n",
    "combined_train_dataset = ConcatDataset([art_train, cartoon_train, photo_train])\n",
    "combined_val_dataset = ConcatDataset([art_val, cartoon_val, photo_val])\n",
    "\n",
    "train_loader = DataLoader(\n",
    "    combined_train_dataset,\n",
    "    batch_size=BATCH_SIZE,\n",
    "    shuffle=True,\n",
    "    num_workers=NUM_WORKERS,\n",
    "    pin_memory=True,\n",
    "    worker_init_fn=seed_worker,\n",
    "    generator=g\n",
    ")\n",
    "\n",
    "val_loader = DataLoader(\n",
    "    combined_val_dataset,\n",
    "    batch_size=BATCH_SIZE,\n",
    "    shuffle=False,\n",
    "    num_workers=NUM_WORKERS,\n",
    "    pin_memory=True,\n",
    "    worker_init_fn=seed_worker,\n",
    "    generator=g\n",
    ")"
   ]
  },
  {
   "cell_type": "code",
   "execution_count": 46,
   "id": "3cc61069",
   "metadata": {},
   "outputs": [
    {
     "name": "stdout",
     "output_type": "stream",
     "text": [
      "Subset created: 575 samples out of 5757\n"
     ]
    }
   ],
   "source": [
    "# --- Create a smaller subset of training data for gradient-based flatness analysis ---\n",
    "from torch.utils.data import Subset\n",
    "\n",
    "# Fraction of training data to use (e.g. 2%)\n",
    "SMALL_TRAIN_FRACTION = .1\n",
    "\n",
    "small_train_size = int(len(combined_train_dataset) * SMALL_TRAIN_FRACTION)\n",
    "small_indices = torch.randperm(len(combined_train_dataset), generator=g)[:small_train_size]\n",
    "\n",
    "small_train_subset = Subset(combined_train_dataset, small_indices)\n",
    "\n",
    "small_train_loader = DataLoader(\n",
    "    small_train_subset,\n",
    "    batch_size=512,  # smaller batch helps keep GPU memory low\n",
    "    shuffle=True,\n",
    "    num_workers=0,\n",
    "    pin_memory=True,\n",
    "    worker_init_fn=seed_worker,\n",
    "    generator=g\n",
    ")\n",
    "\n",
    "print(f\"Subset created: {len(small_train_subset)} samples out of {len(combined_train_dataset)}\")\n"
   ]
  },
  {
   "cell_type": "code",
   "execution_count": 47,
   "id": "b32156ba",
   "metadata": {},
   "outputs": [
    {
     "data": {
      "text/plain": [
       "<All keys matched successfully>"
      ]
     },
     "execution_count": 47,
     "metadata": {},
     "output_type": "execute_result"
    }
   ],
   "source": [
    "# Same architecture for both\n",
    "def get_model():\n",
    "    model = models.resnet18(weights=None)\n",
    "    model.fc = nn.Linear(model.fc.in_features, 7)\n",
    "    return model.to(device)\n",
    "\n",
    "erm_model = get_model()\n",
    "erm_model.load_state_dict(torch.load(\"models/sam_64.pth\", map_location=device))\n",
    "\n",
    "sam_model = get_model()\n",
    "sam_model.load_state_dict(torch.load(\"models/erm_sgd_64.pth\", map_location=device))\n"
   ]
  },
  {
   "cell_type": "code",
   "execution_count": 48,
   "id": "5eb9c8eb",
   "metadata": {},
   "outputs": [],
   "source": [
    "def compute_loss(model, loader, criterion):\n",
    "    model.eval()\n",
    "    total_loss = 0.0\n",
    "    with torch.no_grad():\n",
    "        for x, y in loader:\n",
    "            x, y = x.to(device), y.to(device)\n",
    "            outputs = model(x)\n",
    "            loss = criterion(outputs, y)\n",
    "            total_loss += loss.item() * x.size(0)\n",
    "    return total_loss / len(loader.dataset)\n"
   ]
  },
  {
   "cell_type": "code",
   "execution_count": 49,
   "id": "864c936d",
   "metadata": {},
   "outputs": [],
   "source": [
    "def perturb_and_measure(model, loader, epsilons, criterion):\n",
    "    original_params = [p.clone() for p in model.parameters()]\n",
    "    losses = []\n",
    "\n",
    "    for eps in epsilons:\n",
    "        # Generate a random direction\n",
    "        directions = [torch.randn_like(p) for p in model.parameters()]\n",
    "        norm = torch.sqrt(sum((d**2).sum() for d in directions))\n",
    "        directions = [d / norm for d in directions]  # unit vector\n",
    "\n",
    "        # Apply perturbation\n",
    "        with torch.no_grad():\n",
    "            for p, d in zip(model.parameters(), directions):\n",
    "                p.add_(eps * d)\n",
    "\n",
    "        loss = compute_loss(model, loader, criterion)\n",
    "        losses.append(loss)\n",
    "\n",
    "        # Restore original parameters\n",
    "        with torch.no_grad():\n",
    "            for p, orig in zip(model.parameters(), original_params):\n",
    "                p.copy_(orig)\n",
    "\n",
    "    return losses\n"
   ]
  },
  {
   "cell_type": "code",
   "execution_count": 50,
   "id": "0cd47977",
   "metadata": {},
   "outputs": [],
   "source": [
    "def gradient_direction_perturbation(model, loader, criterion, epsilons, device):\n",
    "    model.to(device)\n",
    "    model.eval()\n",
    "    \n",
    "    # 1️⃣ Compute gradient of training loss (use val loader or small batch)\n",
    "    inputs, labels = next(iter(loader))\n",
    "    inputs, labels = inputs.to(device), labels.to(device)\n",
    "\n",
    "    # zero grad\n",
    "    for p in model.parameters():\n",
    "        if p.grad is not None:\n",
    "            p.grad.zero_()\n",
    "    \n",
    "    outputs = model(inputs)\n",
    "    loss = criterion(outputs, labels)\n",
    "    loss.backward()\n",
    "\n",
    "    # collect gradients and their L2 norm\n",
    "    grads = [p.grad.clone() for p in model.parameters() if p.grad is not None]\n",
    "    grad_norm = torch.sqrt(sum((g**2).sum() for g in grads))\n",
    "\n",
    "    # normalize direction\n",
    "    grads = [g / (grad_norm + 1e-12) for g in grads]\n",
    "\n",
    "    # store original params\n",
    "    original_params = [p.clone() for p in model.parameters()]\n",
    "    losses = []\n",
    "\n",
    "    # 2️⃣ Perturb along gradient direction\n",
    "    for eps in epsilons:\n",
    "        with torch.no_grad():\n",
    "            for p, g in zip(model.parameters(), grads):\n",
    "                p.add_(eps * g)\n",
    "\n",
    "        # evaluate loss on val set\n",
    "        total_loss, total_samples = 0.0, 0\n",
    "        with torch.no_grad():\n",
    "            for x, y in loader:\n",
    "                x, y = x.to(device), y.to(device)\n",
    "                preds = model(x)\n",
    "                l = criterion(preds, y)\n",
    "                total_loss += l.item() * x.size(0)\n",
    "                total_samples += x.size(0)\n",
    "        losses.append(total_loss / total_samples)\n",
    "\n",
    "        # restore params\n",
    "        with torch.no_grad():\n",
    "            for p, orig in zip(model.parameters(), original_params):\n",
    "                p.copy_(orig)\n",
    "\n",
    "    return losses"
   ]
  },
  {
   "cell_type": "code",
   "execution_count": 51,
   "id": "b13dcd22",
   "metadata": {},
   "outputs": [],
   "source": [
    "# criterion = nn.CrossEntropyLoss()\n",
    "# epsilons = torch.linspace(0, 10, 50).tolist()  # adjust range if needed\n",
    "\n",
    "# erm_losses = perturb_and_measure(erm_model, small_train_loader, epsilons, criterion)\n",
    "# sam_losses = perturb_and_measure(sam_model, small_train_loader, epsilons, criterion)\n",
    "\n",
    "# plt.figure(figsize=(7,5))\n",
    "# plt.plot(epsilons, erm_losses, 'r-o', label='ERM')\n",
    "# plt.plot(epsilons, sam_losses, 'b-o', label='SAM')\n",
    "# plt.xlabel(\"Perturbation magnitude (ε)\")\n",
    "# plt.ylabel(\"Validation Loss\")\n",
    "# plt.title(\"Flatness Comparison: SAM vs ERM\")\n",
    "# plt.legend()\n",
    "# plt.grid(True)\n",
    "# plt.show()\n"
   ]
  },
  {
   "cell_type": "code",
   "execution_count": 52,
   "id": "2fc35524",
   "metadata": {},
   "outputs": [
    {
     "data": {
      "image/png": "[encoded data removed]",
      "text/plain": [
       "<Figure size 700x500 with 1 Axes>"
      ]
     },
     "metadata": {},
     "output_type": "display_data"
    }
   ],
   "source": [
    "criterion = nn.CrossEntropyLoss()\n",
    "epsilons = torch.linspace(10, 20, 5).tolist()  # adjust range if needed\n",
    "\n",
    "erm_losses = gradient_direction_perturbation(erm_model, small_train_loader, criterion, epsilons, device)\n",
    "sam_losses = gradient_direction_perturbation(sam_model, small_train_loader, criterion, epsilons, device)\n",
    "\n",
    "plt.figure(figsize=(7,5))\n",
    "plt.plot(epsilons, erm_losses, 'r-o', label='ERM (gradient direction)')\n",
    "plt.plot(epsilons, sam_losses, 'b-o', label='SAM (gradient direction)')\n",
    "plt.xlabel(\"Perturbation magnitude (ε)\")\n",
    "plt.ylabel(\"Validation Loss\")\n",
    "plt.title(\"Flatness along gradient direction — SAM vs ERM\")\n",
    "plt.legend()\n",
    "plt.grid(True)\n",
    "plt.show()"
   ]
  }
 ],
 "metadata": {
  "kernelspec": {
   "display_name": "Python 3",
   "language": "python",
   "name": "python3"
  },
  "language_info": {
   "codemirror_mode": {
    "name": "ipython",
    "version": 3
   },
   "file_extension": ".py",
   "mimetype": "text/x-python",
   "name": "python",
   "nbconvert_exporter": "python",
   "pygments_lexer": "ipython3",
   "version": "3.13.0"
  }
 },
 "nbformat": 4,
 "nbformat_minor": 5
}
