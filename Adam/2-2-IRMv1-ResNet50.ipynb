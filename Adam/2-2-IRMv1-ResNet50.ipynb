{
 "cells": [
  {
   "cell_type": "code",
   "execution_count": 1,
   "metadata": {},
   "outputs": [
    {
     "name": "stdout",
     "output_type": "stream",
     "text": [
      "cuda\n"
     ]
    }
   ],
   "source": [
    "import torch\n",
    "from domainbed.algorithms import IRM\n",
    "from domainbed import algorithms, networks\n",
    "import torchvision\n",
    "from torchvision import datasets\n",
    "from torch.utils.data import DataLoader, ConcatDataset\n",
    "\n",
    "device = \"cuda\" if torch.cuda.is_available() else \"mps\" if torch.mps.is_available() else \"cpu\"\n",
    "print(device)"
   ]
  },
  {
   "cell_type": "code",
   "execution_count": null,
   "metadata": {},
   "outputs": [],
   "source": [
    "imagenet_mean = [0.485, 0.456, 0.406]\n",
    "imagenet_std = [0.229, 0.224, 0.225]\n",
    "\n",
    "transform = torchvision.transforms.Compose([\n",
    "    torchvision.transforms.Resize((224, 224)),\n",
    "    torchvision.transforms.ToTensor(),\n",
    "    torchvision.transforms.Normalize(imagenet_mean, imagenet_std)\n",
    "])\n",
    "\n",
    "art_dir = \"../data/pacs_data/pacs_data/art_painting\"\n",
    "cartoon_dir = \"../data/pacs_data/pacs_data/cartoon\"\n",
    "photo_dir = \"../data/pacs_data/pacs_data/photo\"\n",
    "sketch_dir = \"../data/pacs_data/pacs_data/sketch\"\n",
    "\n",
    "art_dataset = datasets.ImageFolder(root=art_dir, transform=transform)\n",
    "cartoon_dataset = datasets.ImageFolder(root=cartoon_dir, transform=transform)\n",
    "photo_dataset = datasets.ImageFolder(root=photo_dir, transform=transform)\n",
    "sketch_dataset = datasets.ImageFolder(root=sketch_dir, transform=transform)\n",
    "\n",
    "art_loader = DataLoader(\n",
    "    art_dataset,\n",
    "    batch_size=32,\n",
    "    shuffle=True,\n",
    "    num_workers=2,\n",
    "    pin_memory=True\n",
    ")\n",
    "\n",
    "cartoon_loader = DataLoader(\n",
    "    cartoon_dataset,\n",
    "    batch_size=32,\n",
    "    shuffle=True,\n",
    "    num_workers=2,\n",
    "    pin_memory=True\n",
    ")\n",
    "\n",
    "photo_loader = DataLoader(\n",
    "    photo_dataset,\n",
    "    batch_size=32,\n",
    "    shuffle=True,\n",
    "    num_workers=2,\n",
    "    pin_memory=True\n",
    ")\n",
    "\n",
    "sketch_loader = DataLoader( # This is also the test domain loader\n",
    "    sketch_dataset,\n",
    "    batch_size=32,\n",
    "    shuffle=True,\n",
    "    num_workers=2,\n",
    "    pin_memory=True\n",
    ")\n",
    "\n",
    "source_dataset = ConcatDataset([art_dataset, cartoon_dataset, photo_dataset])\n",
    "\n",
    "source_loader = DataLoader(\n",
    "    source_dataset,\n",
    "    batch_size=32,\n",
    "    shuffle=True,\n",
    "    num_workers=2,\n",
    "    pin_memory=True\n",
    ")\n",
    "\n",
    "pacs_classes = sketch_dataset.classes\n",
    "\n",
    "envs = [art_loader, cartoon_loader, photo_loader]"
   ]
  },
  {
   "cell_type": "code",
   "execution_count": 3,
   "metadata": {},
   "outputs": [],
   "source": [
    "def evaluate(model, loader, device):\n",
    "    model.eval()\n",
    "    correct = total = 0\n",
    "    with torch.no_grad():\n",
    "        for x, y in loader:\n",
    "            x, y = x.to(device), y.to(device)\n",
    "            preds = model.predict(x)\n",
    "            correct += (torch.argmax(preds, dim=1) == y).sum().item()\n",
    "            total += y.size(0)\n",
    "    return 100 * correct / total"
   ]
  },
  {
   "cell_type": "code",
   "execution_count": 4,
   "metadata": {},
   "outputs": [
    {
     "name": "stderr",
     "output_type": "stream",
     "text": [
      "c:\\Program Files\\Python313\\Lib\\site-packages\\torchvision\\models\\_utils.py:208: UserWarning: The parameter 'pretrained' is deprecated since 0.13 and may be removed in the future, please use 'weights' instead.\n",
      "  warnings.warn(\n",
      "c:\\Program Files\\Python313\\Lib\\site-packages\\torchvision\\models\\_utils.py:223: UserWarning: Arguments other than a weight enum or `None` for 'weights' are deprecated since 0.13 and may be removed in the future. The current behavior is equivalent to passing `weights=ResNet50_Weights.IMAGENET1K_V1`. You can also use `weights=ResNet50_Weights.DEFAULT` to get the most up-to-date weights.\n",
      "  warnings.warn(msg)\n"
     ]
    }
   ],
   "source": [
    "\n",
    "\n",
    "# --- Hyperparameters ---\n",
    "hparams = {\n",
    "    'lr': 5e-5,\n",
    "    'weight_decay': 0.0,\n",
    "    'irm_lambda': 1e2,\n",
    "    'irm_penalty_anneal_iters': 500,\n",
    "\n",
    "    'nonlinear_classifier': 0,\n",
    "    'resnet18': 0,\n",
    "    'resnet50_augmix': 0,\n",
    "    'resnet_dropout': 0.0,\n",
    "    'freeze_bn': 1,\n",
    "\n",
    "    'mlp_width': 1024,\n",
    "    'mlp_depth': 3,\n",
    "    'mlp_dropout': 0.1,\n",
    "    'vit': 0,\n",
    "    'dinov2': 0,\n",
    "    'vit_dropout': 0.0,\n",
    "    'vit_attn_tune': 0,\n",
    "}\n",
    "\n",
    "# --- Initialize IRM ---\n",
    "irm = algorithms.IRM(\n",
    "    input_shape=(3, 224, 224),\n",
    "    num_classes=7,\n",
    "    num_domains=3,\n",
    "    hparams=hparams\n",
    ").to(device)\n"
   ]
  },
  {
   "cell_type": "code",
   "execution_count": 5,
   "metadata": {},
   "outputs": [
    {
     "name": "stdout",
     "output_type": "stream",
     "text": [
      "Epoch 1: Loss 2.0211 | Penalty 0.0135\n",
      "Epoch 2: Loss 1.8529 | Penalty 0.0019\n",
      "Epoch 3: Loss 1.8536 | Penalty 0.0083\n",
      "Epoch 4: Loss 1.7267 | Penalty 0.0267\n",
      "Epoch 5: Loss 1.5446 | Penalty 0.0495\n",
      "Epoch 6: Loss 1.5711 | Penalty 0.0406\n",
      "Epoch 7: Loss 1.3225 | Penalty 0.0780\n",
      "Epoch 8: Loss 1.2488 | Penalty 0.0927\n",
      "Epoch 9: Loss 1.1006 | Penalty 0.0886\n",
      "Epoch 10: Loss 1.0906 | Penalty 0.0105\n",
      "Epoch 11: Loss 0.9228 | Penalty 0.0225\n",
      "Epoch 12: Loss 0.9930 | Penalty 0.0029\n",
      "Epoch 13: Loss 0.7422 | Penalty 0.0005\n",
      "Epoch 14: Loss 0.7960 | Penalty 0.0153\n",
      "Epoch 15: Loss 0.6843 | Penalty 0.0262\n",
      "Epoch 16: Loss 0.6545 | Penalty 0.0083\n",
      "Epoch 17: Loss 0.4529 | Penalty 0.0461\n",
      "Epoch 18: Loss 0.5245 | Penalty -0.0165\n",
      "Epoch 19: Loss 0.6504 | Penalty 0.0905\n",
      "Epoch 20: Loss 0.3709 | Penalty -0.0166\n",
      "Epoch 21: Loss 0.3590 | Penalty -0.0005\n",
      "Epoch 22: Loss 0.5656 | Penalty 0.0390\n",
      "Epoch 23: Loss 0.4181 | Penalty 0.0016\n",
      "Epoch 24: Loss 0.3185 | Penalty 0.0107\n",
      "Epoch 25: Loss 0.3388 | Penalty -0.0040\n",
      "Epoch 26: Loss 0.4006 | Penalty -0.0024\n",
      "Epoch 27: Loss 0.2841 | Penalty -0.0186\n",
      "Epoch 28: Loss 0.2648 | Penalty 0.0199\n",
      "Epoch 29: Loss 0.3595 | Penalty 0.0100\n",
      "Epoch 30: Loss 0.3255 | Penalty 0.0122\n",
      "Epoch 31: Loss 0.4479 | Penalty 0.0135\n",
      "Epoch 32: Loss 0.2676 | Penalty 0.0053\n",
      "Epoch 33: Loss 0.4017 | Penalty 0.0055\n",
      "Epoch 34: Loss 0.2270 | Penalty 0.0132\n",
      "Epoch 35: Loss 0.1940 | Penalty 0.0094\n",
      "Epoch 36: Loss 0.2838 | Penalty -0.0324\n",
      "Epoch 37: Loss 0.1573 | Penalty 0.0020\n",
      "Epoch 38: Loss 0.2360 | Penalty 0.0009\n",
      "Epoch 39: Loss 0.2872 | Penalty -0.0060\n",
      "Epoch 40: Loss 0.1182 | Penalty 0.0061\n",
      "Epoch 41: Loss 0.1350 | Penalty 0.0018\n",
      "Epoch 42: Loss 0.2455 | Penalty -0.0264\n",
      "Epoch 43: Loss 0.1761 | Penalty 0.0060\n",
      "Epoch 44: Loss 0.2133 | Penalty -0.0068\n",
      "Epoch 45: Loss 0.4052 | Penalty 0.0058\n",
      "Epoch 46: Loss 0.2057 | Penalty -0.0185\n",
      "Epoch 47: Loss 0.2230 | Penalty 0.0020\n",
      "Epoch 48: Loss 0.2402 | Penalty 0.0160\n",
      "Epoch 49: Loss 0.1993 | Penalty 0.0110\n",
      "Epoch 50: Loss 0.2361 | Penalty 0.0068\n"
     ]
    }
   ],
   "source": [
    "env_iters = [iter(loader) for loader in envs]\n",
    "\n",
    "num_epochs = 50\n",
    "for epoch in range(num_epochs):\n",
    "    minibatches = []\n",
    "\n",
    "    for i, env_iter in enumerate(env_iters):\n",
    "        try:\n",
    "            x, y = next(env_iter)\n",
    "        except StopIteration:\n",
    "            # Restart iterator when one env runs out\n",
    "            env_iters[i] = iter(envs[i])\n",
    "            x, y = next(env_iters[i])\n",
    "\n",
    "        minibatches.append((x.to(device), y.to(device)))\n",
    "\n",
    "    metrics = irm.update(minibatches)\n",
    "    print(f\"Epoch {epoch+1}: Loss {metrics['loss']:.4f} | Penalty {metrics['penalty']:.4f}\")"
   ]
  },
  {
   "cell_type": "code",
   "execution_count": 6,
   "metadata": {},
   "outputs": [
    {
     "name": "stdout",
     "output_type": "stream",
     "text": [
      "Sketch Accuracy: 65.92%\n"
     ]
    }
   ],
   "source": [
    "\n",
    "\n",
    "sketch_acc = evaluate(irm, sketch_loader, device)\n",
    "print(f\"Sketch Accuracy: {sketch_acc:.2f}%\")\n"
   ]
  },
  {
   "cell_type": "code",
   "execution_count": 7,
   "metadata": {},
   "outputs": [
    {
     "name": "stdout",
     "output_type": "stream",
     "text": [
      "Art Accuracy: 94.58%\n",
      "Cartoon Accuracy: 92.58%\n",
      "Photo Accuracy: 98.56%\n",
      "\n",
      "All Source Domains Accuracy: 94.90%\n"
     ]
    }
   ],
   "source": [
    "art_accuracy = evaluate(irm, art_loader, device)\n",
    "print(f\"Art Accuracy: {art_accuracy:.2f}%\")\n",
    "\n",
    "cartoon_accuracy = evaluate(irm, cartoon_loader, device)\n",
    "print(f\"Cartoon Accuracy: {cartoon_accuracy:.2f}%\")\n",
    "\n",
    "photo_accuracy = evaluate(irm, photo_loader, device)\n",
    "print(f\"Photo Accuracy: {photo_accuracy:.2f}%\")\n",
    "\n",
    "source_accuracy = evaluate(irm, source_loader, device)\n",
    "print(f\"\\nAll Source Domains Accuracy: {source_accuracy:.2f}%\")"
   ]
  }
 ],
 "metadata": {
  "kernelspec": {
   "display_name": "Python 3",
   "language": "python",
   "name": "python3"
  },
  "language_info": {
   "codemirror_mode": {
    "name": "ipython",
    "version": 3
   },
   "file_extension": ".py",
   "mimetype": "text/x-python",
   "name": "python",
   "nbconvert_exporter": "python",
   "pygments_lexer": "ipython3",
   "version": "3.13.0"
  }
 },
 "nbformat": 4,
 "nbformat_minor": 2
}
