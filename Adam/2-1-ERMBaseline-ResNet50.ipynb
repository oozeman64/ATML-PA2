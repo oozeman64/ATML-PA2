{
 "cells": [
  {
   "cell_type": "markdown",
   "metadata": {},
   "source": [
    "## ERM with ResNet50 - No-Adaption Baseline\n",
    "\n",
    "#### Source Domains: PACS Art/Painting, Cartoon, Photo\n",
    "#### Target Domain: PACS Sketch"
   ]
  },
  {
   "cell_type": "code",
   "execution_count": 1,
   "metadata": {},
   "outputs": [],
   "source": [
    "import torch\n",
    "import torchvision\n",
    "from torchvision import datasets\n",
    "from torch.utils.data import DataLoader, ConcatDataset\n",
    "\n",
    "device = \"cuda\" if torch.cuda.is_available() else \"mps\" if torch.mps.is_available() else \"cpu\""
   ]
  },
  {
   "cell_type": "code",
   "execution_count": 2,
   "metadata": {},
   "outputs": [],
   "source": [
    "model = torchvision.models.resnet50(weights='IMAGENET1K_V1')\n",
    "\n",
    "for param in model.parameters():\n",
    "    param.requires_grad = False\n",
    "model.fc = torch.nn.Linear(model.fc.in_features, 7)\n",
    "\n",
    "optim = torch.optim.Adam(model.fc.parameters(), lr=5e-5)\n",
    "\n",
    "criterion = torch.nn.CrossEntropyLoss()"
   ]
  },
  {
   "cell_type": "code",
   "execution_count": null,
   "metadata": {},
   "outputs": [],
   "source": [
    "imagenet_mean = [0.485, 0.456, 0.406]\n",
    "imagenet_std = [0.229, 0.224, 0.225]\n",
    "\n",
    "transform = torchvision.transforms.Compose([\n",
    "    torchvision.transforms.Resize((224, 224)),\n",
    "    torchvision.transforms.ToTensor(),\n",
    "    torchvision.transforms.Normalize(imagenet_mean, imagenet_std)\n",
    "])\n",
    "\n",
    "art_dir = \"../data/pacs_data/pacs_data/art_painting\"\n",
    "cartoon_dir = \"../data/pacs_data/pacs_data/cartoon\"\n",
    "photo_dir = \"../data/pacs_data/pacs_data/photo\"\n",
    "sketch_dir = \"../data/pacs_data/pacs_data/sketch\"\n",
    "\n",
    "art_dataset = datasets.ImageFolder(root=art_dir, transform=transform)\n",
    "cartoon_dataset = datasets.ImageFolder(root=cartoon_dir, transform=transform)\n",
    "photo_dataset = datasets.ImageFolder(root=photo_dir, transform=transform)\n",
    "sketch_dataset = datasets.ImageFolder(root=sketch_dir, transform=transform)\n",
    "\n",
    "art_loader = DataLoader(\n",
    "    art_dataset,\n",
    "    batch_size=32,\n",
    "    shuffle=True,\n",
    "    num_workers=2,\n",
    "    pin_memory=True\n",
    ")\n",
    "\n",
    "cartoon_loader = DataLoader(\n",
    "    cartoon_dataset,\n",
    "    batch_size=32,\n",
    "    shuffle=True,\n",
    "    num_workers=2,\n",
    "    pin_memory=True\n",
    ")\n",
    "\n",
    "photo_loader = DataLoader(\n",
    "    photo_dataset,\n",
    "    batch_size=32,\n",
    "    shuffle=True,\n",
    "    num_workers=2,\n",
    "    pin_memory=True\n",
    ")\n",
    "\n",
    "sketch_loader = DataLoader( # This is also the test domain loader\n",
    "    sketch_dataset,\n",
    "    batch_size=32,\n",
    "    shuffle=True,\n",
    "    num_workers=2,\n",
    "    pin_memory=True\n",
    ")\n",
    "\n",
    "source_dataset = ConcatDataset([art_dataset, cartoon_dataset, photo_dataset])\n",
    "\n",
    "source_loader = DataLoader(\n",
    "    source_dataset,\n",
    "    batch_size=32,\n",
    "    shuffle=True,\n",
    "    num_workers=2,\n",
    "    pin_memory=True\n",
    ")\n",
    "\n",
    "pacs_classes = sketch_dataset.classes"
   ]
  },
  {
   "cell_type": "code",
   "execution_count": 4,
   "metadata": {},
   "outputs": [],
   "source": [
    "def train_epoch(model, loader, criterion, optimizer, device):\n",
    "    model.to(device)\n",
    "    model.train()\n",
    "    running_loss, correct, total = 0.0, 0, 0\n",
    "\n",
    "    for inputs, labels in loader:\n",
    "        inputs, labels = inputs.to(device), labels.to(device)\n",
    "\n",
    "        optimizer.zero_grad()\n",
    "        outputs = model(inputs)\n",
    "        loss = criterion(outputs, labels)\n",
    "        loss.backward()\n",
    "        optimizer.step()\n",
    "\n",
    "        running_loss += loss.item() * inputs.size(0)\n",
    "        _, predicted = outputs.max(1)\n",
    "        total += labels.size(0)\n",
    "        correct += predicted.eq(labels).sum().item()\n",
    "\n",
    "    avg_loss = running_loss / total\n",
    "    accuracy = 100. * correct / total\n",
    "    return avg_loss, accuracy"
   ]
  },
  {
   "cell_type": "code",
   "execution_count": 5,
   "metadata": {},
   "outputs": [],
   "source": [
    "def evaluate(model, test_loader, device):\n",
    "    model.to(device)\n",
    "    model.eval()\n",
    "    correct = 0\n",
    "    total = 0\n",
    "\n",
    "    with torch.no_grad():\n",
    "        for images, labels in test_loader:\n",
    "            images = images.to(device)\n",
    "            labels = labels.to(device)\n",
    "            preds = model.forward(images)\n",
    "            preds = torch.argmax(preds, dim=1)\n",
    "            correct += (preds == labels).sum().item()\n",
    "            total += labels.size(0)\n",
    "    accuracy = correct / total * 100\n",
    "    return accuracy"
   ]
  },
  {
   "cell_type": "code",
   "execution_count": 6,
   "metadata": {},
   "outputs": [
    {
     "name": "stdout",
     "output_type": "stream",
     "text": [
      "Epoch 1.\n",
      "Loss:  1.6311 | Train Accuracy:  47.05%\n",
      "Epoch 2.\n",
      "Loss:  1.1899 | Train Accuracy:  76.43%\n",
      "Epoch 3.\n",
      "Loss:  0.9413 | Train Accuracy:  82.45%\n",
      "Epoch 4.\n",
      "Loss:  0.7865 | Train Accuracy:  84.53%\n",
      "Epoch 5.\n",
      "Loss:  0.6930 | Train Accuracy:  85.73%\n",
      "Epoch 6.\n",
      "Loss:  0.6313 | Train Accuracy:  86.03%\n",
      "Epoch 7.\n",
      "Loss:  0.5707 | Train Accuracy:  87.33%\n",
      "Epoch 8.\n",
      "Loss:  0.5284 | Train Accuracy:  87.41%\n",
      "Epoch 9.\n",
      "Loss:  0.4976 | Train Accuracy:  88.06%\n",
      "Epoch 10.\n",
      "Loss:  0.4753 | Train Accuracy:  88.34%\n",
      "Epoch 11.\n",
      "Loss:  0.4553 | Train Accuracy:  88.12%\n",
      "Epoch 12.\n",
      "Loss:  0.4336 | Train Accuracy:  88.88%\n",
      "Epoch 13.\n",
      "Loss:  0.4127 | Train Accuracy:  89.26%\n",
      "Epoch 14.\n",
      "Loss:  0.4068 | Train Accuracy:  88.98%\n",
      "Epoch 15.\n",
      "Loss:  0.3941 | Train Accuracy:  89.15%\n",
      "Epoch 16.\n",
      "Loss:  0.3860 | Train Accuracy:  88.98%\n",
      "Epoch 17.\n",
      "Loss:  0.3727 | Train Accuracy:  89.49%\n",
      "Epoch 18.\n",
      "Loss:  0.3610 | Train Accuracy:  89.97%\n",
      "Epoch 19.\n",
      "Loss:  0.3522 | Train Accuracy:  90.22%\n",
      "Epoch 20.\n",
      "Loss:  0.3483 | Train Accuracy:  90.22%\n",
      "Epoch 21.\n",
      "Loss:  0.3379 | Train Accuracy:  90.12%\n",
      "Epoch 22.\n",
      "Loss:  0.3360 | Train Accuracy:  90.14%\n",
      "Epoch 23.\n",
      "Loss:  0.3282 | Train Accuracy:  90.32%\n",
      "Epoch 24.\n",
      "Loss:  0.3203 | Train Accuracy:  90.55%\n",
      "Epoch 25.\n",
      "Loss:  0.3188 | Train Accuracy:  90.38%\n",
      "Epoch 26.\n",
      "Loss:  0.3157 | Train Accuracy:  90.73%\n",
      "Epoch 27.\n",
      "Loss:  0.3142 | Train Accuracy:  90.83%\n",
      "Epoch 28.\n",
      "Loss:  0.3069 | Train Accuracy:  90.91%\n",
      "Epoch 29.\n",
      "Loss:  0.2985 | Train Accuracy:  90.56%\n",
      "Epoch 30.\n",
      "Loss:  0.2944 | Train Accuracy:  91.19%\n",
      "Epoch 31.\n",
      "Loss:  0.2902 | Train Accuracy:  91.37%\n",
      "Epoch 32.\n",
      "Loss:  0.2913 | Train Accuracy:  91.47%\n",
      "Epoch 33.\n",
      "Loss:  0.2874 | Train Accuracy:  91.32%\n",
      "Epoch 34.\n",
      "Loss:  0.2820 | Train Accuracy:  91.37%\n",
      "Epoch 35.\n",
      "Loss:  0.2787 | Train Accuracy:  91.60%\n",
      "Epoch 36.\n",
      "Loss:  0.2820 | Train Accuracy:  91.55%\n",
      "Epoch 37.\n",
      "Loss:  0.2756 | Train Accuracy:  91.62%\n",
      "Epoch 38.\n",
      "Loss:  0.2758 | Train Accuracy:  91.60%\n",
      "Epoch 39.\n",
      "Loss:  0.2755 | Train Accuracy:  91.42%\n",
      "Epoch 40.\n",
      "Loss:  0.2716 | Train Accuracy:  91.49%\n",
      "Epoch 41.\n",
      "Loss:  0.2677 | Train Accuracy:  92.08%\n",
      "Epoch 42.\n",
      "Loss:  0.2590 | Train Accuracy:  92.15%\n",
      "Epoch 43.\n",
      "Loss:  0.2651 | Train Accuracy:  91.78%\n",
      "Epoch 44.\n",
      "Loss:  0.2602 | Train Accuracy:  92.13%\n",
      "Epoch 45.\n",
      "Loss:  0.2560 | Train Accuracy:  92.07%\n",
      "Epoch 46.\n",
      "Loss:  0.2622 | Train Accuracy:  92.10%\n",
      "Epoch 47.\n",
      "Loss:  0.2630 | Train Accuracy:  91.85%\n",
      "Epoch 48.\n",
      "Loss:  0.2481 | Train Accuracy:  92.28%\n",
      "Epoch 49.\n",
      "Loss:  0.2506 | Train Accuracy:  92.28%\n",
      "Epoch 50.\n",
      "Loss:  0.2517 | Train Accuracy:  92.16%\n"
     ]
    }
   ],
   "source": [
    "train_acc = 0\n",
    "num_epochs = 50\n",
    "for epoch in range(num_epochs):\n",
    "    train_loss, train_acc = train_epoch(model, source_loader, criterion, optim, device)\n",
    "    print(f\"Epoch {epoch+1}.\")\n",
    "    print(f\"Loss:  {train_loss:.4f} | Train Accuracy:  {train_acc:.2f}%\")"
   ]
  },
  {
   "cell_type": "markdown",
   "metadata": {},
   "source": [
    "### Evaluation on Source Domains"
   ]
  },
  {
   "cell_type": "code",
   "execution_count": 7,
   "metadata": {},
   "outputs": [
    {
     "name": "stdout",
     "output_type": "stream",
     "text": [
      "Art Accuracy: 91.99%\n",
      "Cartoon Accuracy: 90.83%\n",
      "Photo Accuracy: 98.68%\n",
      "\n",
      "All Source Domains Accuracy: 93.39%\n"
     ]
    }
   ],
   "source": [
    "art_accuracy = evaluate(model, art_loader, device)\n",
    "print(f\"Art Accuracy: {art_accuracy:.2f}%\")\n",
    "\n",
    "cartoon_accuracy = evaluate(model, cartoon_loader, device)\n",
    "print(f\"Cartoon Accuracy: {cartoon_accuracy:.2f}%\")\n",
    "\n",
    "photo_accuracy = evaluate(model, photo_loader, device)\n",
    "print(f\"Photo Accuracy: {photo_accuracy:.2f}%\")\n",
    "\n",
    "source_accuracy = evaluate(model, source_loader, device)\n",
    "print(f\"\\nAll Source Domains Accuracy: {source_accuracy:.2f}%\")"
   ]
  },
  {
   "cell_type": "markdown",
   "metadata": {},
   "source": [
    "### Evaluation on Test Domain"
   ]
  },
  {
   "cell_type": "code",
   "execution_count": 8,
   "metadata": {},
   "outputs": [
    {
     "name": "stdout",
     "output_type": "stream",
     "text": [
      "Sketch Accuracy: 55.76%\n"
     ]
    }
   ],
   "source": [
    "sketch_accuracy = evaluate(model, sketch_loader, device)\n",
    "print(f\"Sketch Accuracy: {sketch_accuracy:.2f}%\")"
   ]
  }
 ],
 "metadata": {
  "kernelspec": {
   "display_name": "Python 3",
   "language": "python",
   "name": "python3"
  },
  "language_info": {
   "codemirror_mode": {
    "name": "ipython",
    "version": 3
   },
   "file_extension": ".py",
   "mimetype": "text/x-python",
   "name": "python",
   "nbconvert_exporter": "python",
   "pygments_lexer": "ipython3",
   "version": "3.13.0"
  }
 },
 "nbformat": 4,
 "nbformat_minor": 2
}
