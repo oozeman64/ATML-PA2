{
 "cells": [
  {
   "cell_type": "markdown",
   "metadata": {},
   "source": [
    "## ERM with ResNet18 - No-Adaption Baseline\n",
    "\n",
    "#### Source Domains: PACS Art/Painting, Cartoon, Photo\n",
    "#### Target Domain: PACS Sketch"
   ]
  },
  {
   "cell_type": "code",
   "execution_count": 1,
   "metadata": {},
   "outputs": [],
   "source": [
    "import torch\n",
    "import torchvision\n",
    "from torchvision import datasets\n",
    "from torch.utils.data import DataLoader, ConcatDataset\n",
    "\n",
    "device = \"cuda\" if torch.cuda.is_available() else \"mps\" if torch.mps.is_available() else \"cpu\""
   ]
  },
  {
   "cell_type": "code",
   "execution_count": 2,
   "metadata": {},
   "outputs": [
    {
     "name": "stdout",
     "output_type": "stream",
     "text": [
      "Downloading: \"https://download.pytorch.org/models/resnet18-f37072fd.pth\" to C:\\Users\\muhus/.cache\\torch\\hub\\checkpoints\\resnet18-f37072fd.pth\n"
     ]
    },
    {
     "name": "stderr",
     "output_type": "stream",
     "text": [
      "100%|██████████| 44.7M/44.7M [00:04<00:00, 11.1MB/s]\n"
     ]
    }
   ],
   "source": [
    "model = torchvision.models.resnet18(weights='IMAGENET1K_V1')\n",
    "\n",
    "for param in model.parameters():\n",
    "    param.requires_grad = False\n",
    "model.fc = torch.nn.Linear(model.fc.in_features, 7)\n",
    "\n",
    "optim = torch.optim.Adam(model.fc.parameters(), lr=5e-5)\n",
    "\n",
    "criterion = torch.nn.CrossEntropyLoss()"
   ]
  },
  {
   "cell_type": "code",
   "execution_count": null,
   "metadata": {},
   "outputs": [],
   "source": [
    "imagenet_mean = [0.485, 0.456, 0.406]\n",
    "imagenet_std = [0.229, 0.224, 0.225]\n",
    "\n",
    "transform = torchvision.transforms.Compose([\n",
    "    torchvision.transforms.Resize((224, 224)),\n",
    "    torchvision.transforms.ToTensor(),\n",
    "    torchvision.transforms.Normalize(imagenet_mean, imagenet_std)\n",
    "])\n",
    "\n",
    "art_dir = \"../data/pacs_data/pacs_data/art_painting\"\n",
    "cartoon_dir = \"../data/pacs_data/pacs_data/cartoon\"\n",
    "photo_dir = \"../data/pacs_data/pacs_data/photo\"\n",
    "sketch_dir = \"../data/pacs_data/pacs_data/sketch\"\n",
    "\n",
    "art_dataset = datasets.ImageFolder(root=art_dir, transform=transform)\n",
    "cartoon_dataset = datasets.ImageFolder(root=cartoon_dir, transform=transform)\n",
    "photo_dataset = datasets.ImageFolder(root=photo_dir, transform=transform)\n",
    "sketch_dataset = datasets.ImageFolder(root=sketch_dir, transform=transform)\n",
    "\n",
    "art_loader = DataLoader(\n",
    "    art_dataset,\n",
    "    batch_size=32,\n",
    "    shuffle=True,\n",
    "    num_workers=2,\n",
    "    pin_memory=True\n",
    ")\n",
    "\n",
    "cartoon_loader = DataLoader(\n",
    "    cartoon_dataset,\n",
    "    batch_size=32,\n",
    "    shuffle=True,\n",
    "    num_workers=2,\n",
    "    pin_memory=True\n",
    ")\n",
    "\n",
    "photo_loader = DataLoader(\n",
    "    photo_dataset,\n",
    "    batch_size=32,\n",
    "    shuffle=True,\n",
    "    num_workers=2,\n",
    "    pin_memory=True\n",
    ")\n",
    "\n",
    "sketch_loader = DataLoader( # This is also the test domain loader\n",
    "    sketch_dataset,\n",
    "    batch_size=32,\n",
    "    shuffle=True,\n",
    "    num_workers=2,\n",
    "    pin_memory=True\n",
    ")\n",
    "\n",
    "source_dataset = ConcatDataset([art_dataset, cartoon_dataset, photo_dataset])\n",
    "\n",
    "source_loader = DataLoader(\n",
    "    source_dataset,\n",
    "    batch_size=32,\n",
    "    shuffle=True,\n",
    "    num_workers=2,\n",
    "    pin_memory=True\n",
    ")\n",
    "\n",
    "pacs_classes = sketch_dataset.classes"
   ]
  },
  {
   "cell_type": "code",
   "execution_count": 4,
   "metadata": {},
   "outputs": [],
   "source": [
    "def train_epoch(model, loader, criterion, optimizer, device):\n",
    "    model.to(device)\n",
    "    model.train()\n",
    "    running_loss, correct, total = 0.0, 0, 0\n",
    "\n",
    "    for inputs, labels in loader:\n",
    "        inputs, labels = inputs.to(device), labels.to(device)\n",
    "\n",
    "        optimizer.zero_grad()\n",
    "        outputs = model(inputs)\n",
    "        loss = criterion(outputs, labels)\n",
    "        loss.backward()\n",
    "        optimizer.step()\n",
    "\n",
    "        running_loss += loss.item() * inputs.size(0)\n",
    "        _, predicted = outputs.max(1)\n",
    "        total += labels.size(0)\n",
    "        correct += predicted.eq(labels).sum().item()\n",
    "\n",
    "    avg_loss = running_loss / total\n",
    "    accuracy = 100. * correct / total\n",
    "    return avg_loss, accuracy"
   ]
  },
  {
   "cell_type": "code",
   "execution_count": 5,
   "metadata": {},
   "outputs": [],
   "source": [
    "def evaluate(model, test_loader, device):\n",
    "    model.to(device)\n",
    "    model.eval()\n",
    "    correct = 0\n",
    "    total = 0\n",
    "\n",
    "    with torch.no_grad():\n",
    "        for images, labels in test_loader:\n",
    "            images = images.to(device)\n",
    "            labels = labels.to(device)\n",
    "            preds = model.forward(images)\n",
    "            preds = torch.argmax(preds, dim=1)\n",
    "            correct += (preds == labels).sum().item()\n",
    "            total += labels.size(0)\n",
    "    accuracy = correct / total * 100\n",
    "    return accuracy"
   ]
  },
  {
   "cell_type": "code",
   "execution_count": 6,
   "metadata": {},
   "outputs": [
    {
     "name": "stdout",
     "output_type": "stream",
     "text": [
      "Epoch 1.\n",
      "Loss:  1.7643 | Train Accuracy:  32.30%\n",
      "Epoch 2.\n",
      "Loss:  1.4580 | Train Accuracy:  53.98%\n",
      "Epoch 3.\n",
      "Loss:  1.2436 | Train Accuracy:  65.19%\n",
      "Epoch 4.\n",
      "Loss:  1.0898 | Train Accuracy:  71.35%\n",
      "Epoch 5.\n",
      "Loss:  0.9715 | Train Accuracy:  75.40%\n",
      "Epoch 6.\n",
      "Loss:  0.8828 | Train Accuracy:  78.24%\n",
      "Epoch 7.\n",
      "Loss:  0.8126 | Train Accuracy:  80.44%\n",
      "Epoch 8.\n",
      "Loss:  0.7541 | Train Accuracy:  81.44%\n",
      "Epoch 9.\n",
      "Loss:  0.7069 | Train Accuracy:  82.55%\n",
      "Epoch 10.\n",
      "Loss:  0.6698 | Train Accuracy:  83.47%\n",
      "Epoch 11.\n",
      "Loss:  0.6341 | Train Accuracy:  84.16%\n",
      "Epoch 12.\n",
      "Loss:  0.6102 | Train Accuracy:  84.08%\n",
      "Epoch 13.\n",
      "Loss:  0.5852 | Train Accuracy:  84.76%\n",
      "Epoch 14.\n",
      "Loss:  0.5612 | Train Accuracy:  85.57%\n",
      "Epoch 15.\n",
      "Loss:  0.5464 | Train Accuracy:  85.52%\n",
      "Epoch 16.\n",
      "Loss:  0.5311 | Train Accuracy:  85.98%\n",
      "Epoch 17.\n",
      "Loss:  0.5162 | Train Accuracy:  86.13%\n",
      "Epoch 18.\n",
      "Loss:  0.4976 | Train Accuracy:  86.94%\n",
      "Epoch 19.\n",
      "Loss:  0.4935 | Train Accuracy:  86.44%\n",
      "Epoch 20.\n",
      "Loss:  0.4710 | Train Accuracy:  86.67%\n",
      "Epoch 21.\n",
      "Loss:  0.4653 | Train Accuracy:  87.07%\n",
      "Epoch 22.\n",
      "Loss:  0.4563 | Train Accuracy:  87.84%\n",
      "Epoch 23.\n",
      "Loss:  0.4444 | Train Accuracy:  87.66%\n",
      "Epoch 24.\n",
      "Loss:  0.4463 | Train Accuracy:  87.33%\n",
      "Epoch 25.\n",
      "Loss:  0.4322 | Train Accuracy:  88.09%\n",
      "Epoch 26.\n",
      "Loss:  0.4257 | Train Accuracy:  87.92%\n",
      "Epoch 27.\n",
      "Loss:  0.4174 | Train Accuracy:  87.83%\n",
      "Epoch 28.\n",
      "Loss:  0.4111 | Train Accuracy:  88.35%\n",
      "Epoch 29.\n",
      "Loss:  0.4029 | Train Accuracy:  88.35%\n",
      "Epoch 30.\n",
      "Loss:  0.4044 | Train Accuracy:  87.58%\n",
      "Epoch 31.\n",
      "Loss:  0.3953 | Train Accuracy:  88.39%\n",
      "Epoch 32.\n",
      "Loss:  0.3939 | Train Accuracy:  88.30%\n",
      "Epoch 33.\n",
      "Loss:  0.3904 | Train Accuracy:  88.21%\n",
      "Epoch 34.\n",
      "Loss:  0.3837 | Train Accuracy:  88.58%\n",
      "Epoch 35.\n",
      "Loss:  0.3778 | Train Accuracy:  88.70%\n",
      "Epoch 36.\n",
      "Loss:  0.3725 | Train Accuracy:  89.10%\n",
      "Epoch 37.\n",
      "Loss:  0.3704 | Train Accuracy:  88.91%\n",
      "Epoch 38.\n",
      "Loss:  0.3652 | Train Accuracy:  89.15%\n",
      "Epoch 39.\n",
      "Loss:  0.3625 | Train Accuracy:  89.10%\n",
      "Epoch 40.\n",
      "Loss:  0.3603 | Train Accuracy:  89.03%\n",
      "Epoch 41.\n",
      "Loss:  0.3586 | Train Accuracy:  88.55%\n",
      "Epoch 42.\n",
      "Loss:  0.3545 | Train Accuracy:  89.23%\n",
      "Epoch 43.\n",
      "Loss:  0.3503 | Train Accuracy:  89.33%\n",
      "Epoch 44.\n",
      "Loss:  0.3448 | Train Accuracy:  89.18%\n",
      "Epoch 45.\n",
      "Loss:  0.3410 | Train Accuracy:  89.61%\n",
      "Epoch 46.\n",
      "Loss:  0.3435 | Train Accuracy:  89.95%\n",
      "Epoch 47.\n",
      "Loss:  0.3369 | Train Accuracy:  90.14%\n",
      "Epoch 48.\n",
      "Loss:  0.3418 | Train Accuracy:  89.19%\n",
      "Epoch 49.\n",
      "Loss:  0.3385 | Train Accuracy:  89.69%\n",
      "Epoch 50.\n",
      "Loss:  0.3350 | Train Accuracy:  89.43%\n"
     ]
    }
   ],
   "source": [
    "train_acc = 0\n",
    "num_epochs = 50\n",
    "for epoch in range(num_epochs):\n",
    "    train_loss, train_acc = train_epoch(model, source_loader, criterion, optim, device)\n",
    "    print(f\"Epoch {epoch+1}.\")\n",
    "    print(f\"Loss:  {train_loss:.4f} | Train Accuracy:  {train_acc:.2f}%\")"
   ]
  },
  {
   "cell_type": "markdown",
   "metadata": {},
   "source": [
    "### Evaluation on Source Domains"
   ]
  },
  {
   "cell_type": "code",
   "execution_count": 7,
   "metadata": {},
   "outputs": [
    {
     "name": "stdout",
     "output_type": "stream",
     "text": [
      "Art Accuracy: 88.53%\n",
      "Cartoon Accuracy: 88.61%\n",
      "Photo Accuracy: 97.90%\n",
      "\n",
      "All Source Domains Accuracy: 91.14%\n"
     ]
    }
   ],
   "source": [
    "art_accuracy = evaluate(model, art_loader, device)\n",
    "print(f\"Art Accuracy: {art_accuracy:.2f}%\")\n",
    "\n",
    "cartoon_accuracy = evaluate(model, cartoon_loader, device)\n",
    "print(f\"Cartoon Accuracy: {cartoon_accuracy:.2f}%\")\n",
    "\n",
    "photo_accuracy = evaluate(model, photo_loader, device)\n",
    "print(f\"Photo Accuracy: {photo_accuracy:.2f}%\")\n",
    "\n",
    "source_accuracy = evaluate(model, source_loader, device)\n",
    "print(f\"\\nAll Source Domains Accuracy: {source_accuracy:.2f}%\")"
   ]
  },
  {
   "cell_type": "markdown",
   "metadata": {},
   "source": [
    "### Evaluation on Test Domain"
   ]
  },
  {
   "cell_type": "code",
   "execution_count": 8,
   "metadata": {},
   "outputs": [
    {
     "name": "stdout",
     "output_type": "stream",
     "text": [
      "Sketch Accuracy: 39.83%\n"
     ]
    }
   ],
   "source": [
    "sketch_accuracy = evaluate(model, sketch_loader, device)\n",
    "print(f\"Sketch Accuracy: {sketch_accuracy:.2f}%\")"
   ]
  }
 ],
 "metadata": {
  "kernelspec": {
   "display_name": "Python 3",
   "language": "python",
   "name": "python3"
  },
  "language_info": {
   "codemirror_mode": {
    "name": "ipython",
    "version": 3
   },
   "file_extension": ".py",
   "mimetype": "text/x-python",
   "name": "python",
   "nbconvert_exporter": "python",
   "pygments_lexer": "ipython3",
   "version": "3.13.0"
  }
 },
 "nbformat": 4,
 "nbformat_minor": 2
}
