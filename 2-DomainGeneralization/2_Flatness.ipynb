{
 "cells": [
  {
   "cell_type": "code",
   "execution_count": 1,
   "id": "48b6d5fe",
   "metadata": {},
   "outputs": [],
   "source": [
    "import torch\n",
    "import torch.nn as nn\n",
    "import matplotlib.pyplot as plt\n",
    "from torchvision import datasets, transforms, models\n",
    "from torch.utils.data import DataLoader, ConcatDataset, random_split\n",
    "from domainbed import algorithms, networks\n",
    "import random\n",
    "import numpy as np\n",
    "import os\n",
    "\n",
    "device = \"cuda\" if torch.cuda.is_available() else \"cpu\""
   ]
  },
  {
   "cell_type": "code",
   "execution_count": 2,
   "id": "d72af086",
   "metadata": {},
   "outputs": [
    {
     "name": "stdout",
     "output_type": "stream",
     "text": [
      "Fixed random seed: 42\n"
     ]
    }
   ],
   "source": [
    "def fix_random_seed(seed=42):\n",
    "    random.seed(seed)\n",
    "    np.random.seed(seed)\n",
    "    os.environ[\"PYTHONHASHSEED\"] = str(seed)\n",
    "    torch.manual_seed(seed)\n",
    "    torch.cuda.manual_seed(seed)\n",
    "    torch.cuda.manual_seed_all(seed)\n",
    "    torch.backends.cudnn.deterministic = True\n",
    "    torch.backends.cudnn.benchmark = False\n",
    "    print(f\"Fixed random seed: {seed}\")\n",
    "\n",
    "fix_random_seed(42)\n",
    "\n",
    "# For deterministic DataLoader behavior\n",
    "def seed_worker(worker_id):\n",
    "    worker_seed = torch.initial_seed() % 2**32\n",
    "    np.random.seed(worker_seed)\n",
    "    random.seed(worker_seed)"
   ]
  },
  {
   "cell_type": "code",
   "execution_count": 3,
   "id": "2c99a88b",
   "metadata": {},
   "outputs": [],
   "source": [
    "# --- Constants ---\n",
    "imagenet_mean = [0.485, 0.456, 0.406]\n",
    "imagenet_std = [0.229, 0.224, 0.225]\n",
    "BATCH_SIZE = 64\n",
    "NUM_WORKERS = 0\n",
    "TRAIN_RATIO = 0.95\n",
    "VAL_RATIO = 0.05\n",
    "\n",
    "# --- Transform ---\n",
    "transform = transforms.Compose([\n",
    "    transforms.Resize((224, 224)),\n",
    "    transforms.ToTensor(),\n",
    "    transforms.Normalize(imagenet_mean, imagenet_std)\n",
    "])\n",
    "\n",
    "# --- Directories ---\n",
    "art_dir = \"data/pacs_data/pacs_data/art_painting\"\n",
    "cartoon_dir = \"data/pacs_data/pacs_data/cartoon\"\n",
    "photo_dir = \"data/pacs_data/pacs_data/photo\"\n",
    "sketch_dir = \"data/pacs_data/pacs_data/sketch\"\n",
    "\n",
    "# --- Datasets ---\n",
    "art_dataset = datasets.ImageFolder(root=art_dir, transform=transform)\n",
    "cartoon_dataset = datasets.ImageFolder(root=cartoon_dir, transform=transform)\n",
    "photo_dataset = datasets.ImageFolder(root=photo_dir, transform=transform)\n",
    "sketch_dataset = datasets.ImageFolder(root=sketch_dir, transform=transform)  # target domain\n",
    "\n",
    "# --- Seed setup for reproducibility ---\n",
    "g = torch.Generator()\n",
    "g.manual_seed(42)\n",
    "\n",
    "def seed_worker(worker_id):\n",
    "    worker_seed = torch.initial_seed() % 2**32\n",
    "    torch.manual_seed(worker_seed)\n",
    "    torch.cuda.manual_seed_all(worker_seed)\n",
    "\n",
    "# --- Split each train domain into train/val ---\n",
    "def split_dataset(dataset, ratio=TRAIN_RATIO, generator=g):\n",
    "    total_size = len(dataset)\n",
    "    train_size = int(ratio * total_size)\n",
    "    val_size = total_size - train_size\n",
    "    return random_split(dataset, [train_size, val_size], generator=generator)\n",
    "\n",
    "art_train, art_val = split_dataset(art_dataset)\n",
    "cartoon_train, cartoon_val = split_dataset(cartoon_dataset)\n",
    "photo_train, photo_val = split_dataset(photo_dataset)\n",
    "\n",
    "combined_train_dataset = ConcatDataset([art_train, cartoon_train, photo_train])\n",
    "combined_val_dataset = ConcatDataset([art_val, cartoon_val, photo_val])\n",
    "\n",
    "train_loader = DataLoader(\n",
    "    combined_train_dataset,\n",
    "    batch_size=BATCH_SIZE,\n",
    "    shuffle=True,\n",
    "    num_workers=NUM_WORKERS,\n",
    "    pin_memory=True,\n",
    "    worker_init_fn=seed_worker,\n",
    "    generator=g\n",
    ")\n",
    "\n",
    "val_loader = DataLoader(\n",
    "    combined_val_dataset,\n",
    "    batch_size=BATCH_SIZE,\n",
    "    shuffle=False,\n",
    "    num_workers=NUM_WORKERS,\n",
    "    pin_memory=True,\n",
    "    worker_init_fn=seed_worker,\n",
    "    generator=g\n",
    ")"
   ]
  },
  {
   "cell_type": "code",
   "execution_count": 4,
   "id": "3cc61069",
   "metadata": {},
   "outputs": [
    {
     "name": "stdout",
     "output_type": "stream",
     "text": [
      "Subset created: 230 samples out of 5757\n"
     ]
    }
   ],
   "source": [
    "# --- Create a smaller subset of training data for gradient-based flatness analysis ---\n",
    "from torch.utils.data import Subset\n",
    "\n",
    "# Fraction of training data to use (e.g. 2%)\n",
    "SMALL_TRAIN_FRACTION = .04\n",
    "\n",
    "small_train_size = int(len(combined_train_dataset) * SMALL_TRAIN_FRACTION)\n",
    "small_indices = torch.randperm(len(combined_train_dataset), generator=g)[:small_train_size]\n",
    "\n",
    "small_train_subset = Subset(combined_train_dataset, small_indices)\n",
    "\n",
    "small_train_loader = DataLoader(\n",
    "    small_train_subset,\n",
    "    batch_size=512,  # smaller batch helps keep GPU memory low\n",
    "    shuffle=True,\n",
    "    num_workers=0,\n",
    "    pin_memory=True,\n",
    "    worker_init_fn=seed_worker,\n",
    "    generator=g\n",
    ")\n",
    "\n",
    "print(f\"Subset created: {len(small_train_subset)} samples out of {len(combined_train_dataset)}\")\n"
   ]
  },
  {
   "cell_type": "code",
   "execution_count": 5,
   "id": "b32156ba",
   "metadata": {},
   "outputs": [
    {
     "data": {
      "text/plain": [
       "<All keys matched successfully>"
      ]
     },
     "execution_count": 5,
     "metadata": {},
     "output_type": "execute_result"
    }
   ],
   "source": [
    "# Same architecture for both\n",
    "def get_model():\n",
    "    model = models.resnet18(weights=None)\n",
    "    model.fc = nn.Linear(model.fc.in_features, 7)\n",
    "    return model.to(device)\n",
    "\n",
    "erm_sgd_model = get_model()\n",
    "erm_sgd_model.load_state_dict(torch.load(\"models/erm_sgd_512.pth\", map_location=device))\n",
    "\n",
    "sam_model = get_model()\n",
    "sam_model.load_state_dict(torch.load(\"models/sam_512.pth\", map_location=device))\n",
    "\n",
    "erm_adam_model = get_model()\n",
    "erm_adam_model.load_state_dict(torch.load(\"models/erm_adam.pth\", map_location=device))\n"
   ]
  },
  {
   "cell_type": "code",
   "execution_count": 6,
   "id": "abc519d3",
   "metadata": {},
   "outputs": [
    {
     "name": "stderr",
     "output_type": "stream",
     "text": [
      "c:\\Program Files\\Python313\\Lib\\site-packages\\torchvision\\models\\_utils.py:208: UserWarning: The parameter 'pretrained' is deprecated since 0.13 and may be removed in the future, please use 'weights' instead.\n",
      "  warnings.warn(\n",
      "c:\\Program Files\\Python313\\Lib\\site-packages\\torchvision\\models\\_utils.py:223: UserWarning: Arguments other than a weight enum or `None` for 'weights' are deprecated since 0.13 and may be removed in the future. The current behavior is equivalent to passing `weights=ResNet18_Weights.IMAGENET1K_V1`. You can also use `weights=ResNet18_Weights.DEFAULT` to get the most up-to-date weights.\n",
      "  warnings.warn(msg)\n"
     ]
    },
    {
     "data": {
      "text/plain": [
       "<All keys matched successfully>"
      ]
     },
     "execution_count": 6,
     "metadata": {},
     "output_type": "execute_result"
    }
   ],
   "source": [
    "hparams = {\n",
    "    'lr': 0.001,\n",
    "    'weight_decay': 0,\n",
    "    'irm_lambda': 1,\n",
    "    'irm_penalty_anneal_iters': 75,\n",
    "\n",
    "    'nonlinear_classifier': 0,\n",
    "    'resnet18': 1,\n",
    "    'resnet_dropout': 0.0,\n",
    "    'freeze_bn': 0,\n",
    "\n",
    "    'mlp_width': 1024,\n",
    "    'mlp_depth': 3,\n",
    "    'mlp_dropout': 0.1,\n",
    "    'vit': 0,\n",
    "    'dinov2': 0,\n",
    "    'vit_dropout': 0.0,\n",
    "    'vit_attn_tune': 0,\n",
    "}\n",
    "\n",
    "\n",
    "# --- Initialize IRM ---\n",
    "irm = algorithms.IRM(\n",
    "    input_shape=(3, 224, 224),\n",
    "    num_classes=7,\n",
    "    num_domains=3,\n",
    "    hparams=hparams\n",
    ").to(device)\n",
    "\n",
    "state_dict = torch.load(\"models/irm_lambda1.pth\", map_location=device)\n",
    "irm.load_state_dict(state_dict, strict=False)"
   ]
  },
  {
   "cell_type": "code",
   "execution_count": 7,
   "id": "a0739c90",
   "metadata": {},
   "outputs": [
    {
     "name": "stdout",
     "output_type": "stream",
     "text": [
      "⚙️  Fixing GroupDRO.q → shape (3,)\n",
      "✅ GroupDRO checkpoint loaded successfully.\n"
     ]
    }
   ],
   "source": [
    "import torch\n",
    "from domainbed import algorithms\n",
    "\n",
    "# --- Hyperparameters ---\n",
    "hparams = {\n",
    "    'lr': 0.001,\n",
    "    'weight_decay': 0.0,\n",
    "    'groupdro_eta': 1e-2,\n",
    "\n",
    "    'nonlinear_classifier': 0,\n",
    "    'resnet18': 1,\n",
    "    'resnet_dropout': 0.0,\n",
    "    'freeze_bn': 0,\n",
    "\n",
    "    'mlp_width': 1024,\n",
    "    'mlp_depth': 3,\n",
    "    'mlp_dropout': 0.1,\n",
    "    'vit': 0,\n",
    "    'dinov2': 0,\n",
    "    'vit_dropout': 0.0,\n",
    "    'vit_attn_tune': 0,\n",
    "}\n",
    "\n",
    "device = \"cuda\" if torch.cuda.is_available() else \"cpu\"\n",
    "num_domains = 3\n",
    "\n",
    "# --- Initialize GroupDRO ---\n",
    "groupDRO = algorithms.GroupDRO(\n",
    "    input_shape=(3, 224, 224),\n",
    "    num_classes=7,\n",
    "    num_domains=num_domains,\n",
    "    hparams=hparams\n",
    ").to(device)\n",
    "\n",
    "# --- Manually fix q before loading ---\n",
    "# DomainBed initializes q lazily in __init__, sometimes as empty tensor\n",
    "if not hasattr(groupDRO, \"q\") or groupDRO.q.numel() == 0:\n",
    "    print(f\"⚙️  Fixing GroupDRO.q → shape ({num_domains},)\")\n",
    "    groupDRO.q = torch.nn.Parameter(torch.ones(num_domains) / num_domains)\n",
    "\n",
    "# --- Load state dict ---\n",
    "state_dict = torch.load(\"models/groupDRO.pth\", map_location=device)\n",
    "\n",
    "# Fix checkpoint q if mismatch\n",
    "if \"q\" in state_dict and state_dict[\"q\"].shape[0] != num_domains:\n",
    "    print(f\"⚙️  Adjusting checkpoint q from {state_dict['q'].shape} → ({num_domains},)\")\n",
    "    state_dict[\"q\"] = torch.ones(num_domains) / num_domains\n",
    "\n",
    "groupDRO.load_state_dict(state_dict, strict=False)\n",
    "print(\"✅ GroupDRO checkpoint loaded successfully.\")\n"
   ]
  },
  {
   "cell_type": "code",
   "execution_count": 8,
   "id": "5eb9c8eb",
   "metadata": {},
   "outputs": [],
   "source": [
    "def compute_loss(model, loader, criterion):\n",
    "    model.eval()\n",
    "    total_loss = 0.0\n",
    "    with torch.no_grad():\n",
    "        for x, y in loader:\n",
    "            x, y = x.to(device), y.to(device)\n",
    "            outputs = model(x)\n",
    "            loss = criterion(outputs, y)\n",
    "            total_loss += loss.item() * x.size(0)\n",
    "    return total_loss / len(loader.dataset)\n"
   ]
  },
  {
   "cell_type": "code",
   "execution_count": 9,
   "id": "0cd47977",
   "metadata": {},
   "outputs": [],
   "source": [
    "# def gradient_direction_perturbation(model, loader, criterion, epsilons, device, fwd):\n",
    "#     model.to(device)\n",
    "#     model.eval()\n",
    "    \n",
    "#     # 1️⃣ Compute gradient of training loss (use val loader or small batch)\n",
    "#     inputs, labels = next(iter(loader))\n",
    "#     inputs, labels = inputs.to(device), labels.to(device)\n",
    "\n",
    "#     # zero grad\n",
    "#     for p in model.parameters():\n",
    "#         if p.grad is not None:\n",
    "#             p.grad.zero_()\n",
    "    \n",
    "#     if not fwd:\n",
    "#         outputs = model(inputs)\n",
    "#     else:\n",
    "#         outputs = model.predict(inputs)\n",
    "#     loss = criterion(outputs, labels)\n",
    "#     loss.backward()\n",
    "\n",
    "#     # collect gradients and their L2 norm\n",
    "#     grads = [p.grad.clone() for p in model.parameters() if p.grad is not None]\n",
    "#     grad_norm = torch.sqrt(sum((g**2).sum() for g in grads))\n",
    "\n",
    "#     # normalize direction\n",
    "#     grads = [g / (grad_norm + 1e-12) for g in grads]\n",
    "\n",
    "#     # store original params\n",
    "#     original_params = [p.clone() for p in model.parameters()]\n",
    "#     losses = []\n",
    "\n",
    "#     # 2️⃣ Perturb along gradient direction\n",
    "#     for eps in epsilons:\n",
    "#         with torch.no_grad():\n",
    "#             for p, g in zip(model.parameters(), grads):\n",
    "#                 p.add_(eps * g)\n",
    "\n",
    "#         # evaluate loss on val set\n",
    "#         total_loss, total_samples = 0.0, 0\n",
    "#         with torch.no_grad():\n",
    "#             for x, y in loader:\n",
    "#                 x, y = x.to(device), y.to(device)\n",
    "#                 if not fwd:\n",
    "#                     preds = model(x)\n",
    "#                 else:\n",
    "#                     preds = model.predict(x)\n",
    "#                 l = criterion(preds, y)\n",
    "#                 total_loss += l.item() * x.size(0)\n",
    "#                 total_samples += x.size(0)\n",
    "#         losses.append(total_loss / total_samples)\n",
    "\n",
    "#         # restore params\n",
    "#         with torch.no_grad():\n",
    "#             for p, orig in zip(model.parameters(), original_params):\n",
    "#                 p.copy_(orig)\n",
    "\n",
    "#     return losses"
   ]
  },
  {
   "cell_type": "code",
   "execution_count": 10,
   "id": "d9ce035d",
   "metadata": {},
   "outputs": [],
   "source": [
    "def gradient_direction_perturbation(model, loader, criterion, epsilons, device):\n",
    "    model.eval()\n",
    "    model.to(device)\n",
    "    losses = []\n",
    "\n",
    "    # --- One small batch for computing gradient direction ---\n",
    "    inputs, labels = next(iter(loader))\n",
    "    inputs, labels = inputs.to(device), labels.to(device)\n",
    "\n",
    "    # --- Forward pass ---\n",
    "    try:\n",
    "        outputs = model.predict(inputs)  # for DomainBed algorithms\n",
    "    except AttributeError:\n",
    "        outputs = model(inputs)\n",
    "\n",
    "    loss = criterion(outputs, labels)\n",
    "\n",
    "    # --- Compute gradients ---\n",
    "    grads = torch.autograd.grad(\n",
    "        loss,\n",
    "        [p for p in model.parameters() if p.requires_grad],\n",
    "        allow_unused=True,\n",
    "        create_graph=False\n",
    "    )\n",
    "\n",
    "    # --- Replace None with zeros ---\n",
    "    params = [p for p in model.parameters() if p.requires_grad]\n",
    "    grads = [torch.zeros_like(p) if g is None else g for p, g in zip(params, grads)]\n",
    "\n",
    "    # --- Normalize direction ---\n",
    "    grad_norm = torch.sqrt(sum((g ** 2).sum() for g in grads))\n",
    "    grads = [g / (grad_norm + 1e-12) for g in grads]\n",
    "\n",
    "    # --- Evaluate perturbed losses ---\n",
    "    for eps in epsilons:\n",
    "        # Save original params\n",
    "        original_params = [p.detach().clone() for p in params]\n",
    "\n",
    "        # Apply perturbation\n",
    "        with torch.no_grad():\n",
    "            for p, g in zip(params, grads):\n",
    "                p.add_(eps * g)\n",
    "\n",
    "        # Evaluate perturbed loss\n",
    "        total_loss, total_samples = 0.0, 0\n",
    "        with torch.no_grad():\n",
    "            for x, y in loader:\n",
    "                x, y = x.to(device), y.to(device)\n",
    "                try:\n",
    "                    preds = model.predict(x)\n",
    "                except AttributeError:\n",
    "                    preds = model(x)\n",
    "                l = criterion(preds, y)\n",
    "                total_loss += l.item() * x.size(0)\n",
    "                total_samples += x.size(0)\n",
    "        losses.append(total_loss / total_samples)\n",
    "\n",
    "        # Restore params\n",
    "        with torch.no_grad():\n",
    "            for p, orig in zip(params, original_params):\n",
    "                p.copy_(orig)\n",
    "\n",
    "    return losses\n"
   ]
  },
  {
   "cell_type": "code",
   "execution_count": 11,
   "id": "2fc35524",
   "metadata": {},
   "outputs": [],
   "source": [
    "criterion = nn.CrossEntropyLoss()\n",
    "epsilons = torch.linspace(-0.1, 0.1, 40).tolist()  # adjust range if needed\n",
    "\n",
    "erm_adam_losses = gradient_direction_perturbation(erm_adam_model, small_train_loader, criterion, epsilons, device)\n",
    "erm_sgd_losses = gradient_direction_perturbation(erm_sgd_model, small_train_loader, criterion, epsilons, device)\n",
    "irm_losses = gradient_direction_perturbation(irm, small_train_loader, criterion, epsilons, device)\n",
    "groupDRO_losses = gradient_direction_perturbation(groupDRO, small_train_loader, criterion, epsilons, device)\n",
    "sam_losses = gradient_direction_perturbation(sam_model, small_train_loader, criterion, epsilons, device)"
   ]
  },
  {
   "cell_type": "code",
   "execution_count": 14,
   "id": "af1a8b9c",
   "metadata": {},
   "outputs": [
    {
     "data": {
      "image/png": "[encoded data removed]",
      "text/plain": [
       "<Figure size 700x500 with 1 Axes>"
      ]
     },
     "metadata": {},
     "output_type": "display_data"
    }
   ],
   "source": [
    "plt.figure(figsize=(7,5))\n",
    "plt.plot(epsilons, erm_adam_losses, 'black', label='ERM-Adam')\n",
    "plt.plot(epsilons, erm_sgd_losses, 'r', label='ERM-SGD')\n",
    "plt.plot(epsilons, irm_losses, 'g', label='IRM')\n",
    "plt.plot(epsilons, groupDRO_losses, 'y', label='GroupDRO')\n",
    "plt.plot(epsilons, sam_losses, 'b', label='SAM')\n",
    "plt.xlabel(\"Perturbation (ε)\", fontsize= 14)\n",
    "plt.ylabel(\"Training Loss\", fontsize= 14)\n",
    "plt.title(\"Flatness along gradient direction\", fontsize= 14)\n",
    "plt.xticks(fontsize= 12)\n",
    "plt.yticks(fontsize= 14)\n",
    "plt.legend(fontsize= 14)\n",
    "plt.grid(True)\n",
    "plt.show()"
   ]
  },
  {
   "cell_type": "code",
   "execution_count": 15,
   "id": "21b4b01e",
   "metadata": {},
   "outputs": [
    {
     "name": "stdout",
     "output_type": "stream",
     "text": [
      "[0.030375121161341667, 0.019757932052016258, 0.012609915807843208, 0.007951609790325165, 0.005033068358898163, 0.0032772719860076904, 0.0022372594103217125, 0.0016267196042463183, 0.0012633833102881908, 0.0010414381977170706, 0.0009040661389008164, 0.00082188326632604, 0.0007786882924847305, 0.0007672103238292038, 0.0007855779258534312, 0.0008356964681297541, 0.0009257274214178324, 0.0010695935925468802, 0.0012848813785240054, 0.0015989727107807994, 0.0020531429909169674, 0.002687151078134775, 0.0035576997324824333, 0.004726162645965815, 0.006263668183237314, 0.00824824534356594, 0.01073046587407589, 0.013739789836108685, 0.01728816330432892, 0.021380893886089325, 0.025998562574386597, 0.031066620722413063, 0.036625102162361145, 0.04264407232403755, 0.049109455198049545, 0.0560954324901104, 0.06354794651269913, 0.07150513678789139, 0.07997953146696091, 0.08898575603961945]\n"
     ]
    }
   ],
   "source": [
    "print(sam_losses)"
   ]
  },
  {
   "cell_type": "code",
   "execution_count": 16,
   "id": "e976d3b3",
   "metadata": {},
   "outputs": [
    {
     "name": "stdout",
     "output_type": "stream",
     "text": [
      "[0.06668607890605927, 0.05016809701919556, 0.03672225400805473, 0.026200467720627785, 0.018157660961151123, 0.01221542339771986, 0.007977543398737907, 0.005155147053301334, 0.003399315057322383, 0.0023176586255431175, 0.0016456613084301353, 0.001225887332111597, 0.0009641238139010966, 0.0008025707793422043, 0.000705287849996239, 0.0006577693275175989, 0.0006536641158163548, 0.0006972537375986576, 0.0008081055129878223, 0.001062926254235208, 0.0017348055262118578, 0.003657390596345067, 0.007962712086737156, 0.014718824997544289, 0.022651145234704018, 0.03133146092295647, 0.040924590080976486, 0.05148889124393463, 0.06321274489164352, 0.07633043080568314, 0.09103039652109146, 0.10734493285417557, 0.12529973685741425, 0.14498576521873474, 0.16590464115142822, 0.18801893293857574, 0.21088820695877075, 0.23457495868206024, 0.2590371370315552, 0.2840893268585205]\n"
     ]
    }
   ],
   "source": [
    "print(erm_sgd_losses)"
   ]
  },
  {
   "cell_type": "code",
   "execution_count": 17,
   "id": "3a3ab84b",
   "metadata": {},
   "outputs": [
    {
     "name": "stdout",
     "output_type": "stream",
     "text": [
      "Index of epsilon closest to 0: 19\n"
     ]
    }
   ],
   "source": [
    "index_zero = min(range(len(epsilons)), key=lambda i: abs(epsilons[i] - 0))\n",
    "\n",
    "print(\"Index of epsilon closest to 0:\", index_zero)"
   ]
  },
  {
   "cell_type": "code",
   "execution_count": 18,
   "id": "c0fa80ba",
   "metadata": {},
   "outputs": [
    {
     "name": "stdout",
     "output_type": "stream",
     "text": [
      "0.0015989727107807994\n",
      "0.001062926254235208\n"
     ]
    }
   ],
   "source": [
    "print(sam_losses[19])\n",
    "print(erm_sgd_losses[19])"
   ]
  }
 ],
 "metadata": {
  "kernelspec": {
   "display_name": "Python 3",
   "language": "python",
   "name": "python3"
  },
  "language_info": {
   "codemirror_mode": {
    "name": "ipython",
    "version": 3
   },
   "file_extension": ".py",
   "mimetype": "text/x-python",
   "name": "python",
   "nbconvert_exporter": "python",
   "pygments_lexer": "ipython3",
   "version": "3.13.0"
  }
 },
 "nbformat": 4,
 "nbformat_minor": 5
}
