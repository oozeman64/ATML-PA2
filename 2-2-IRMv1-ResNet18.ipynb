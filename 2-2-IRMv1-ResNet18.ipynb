{
 "cells": [
  {
   "cell_type": "code",
   "execution_count": 1,
   "metadata": {},
   "outputs": [],
   "source": [
    "import torch\n",
    "import torch.nn as nn\n",
    "from domainbed.algorithms import IRM\n",
    "from domainbed import algorithms, networks\n",
    "import torchvision\n",
    "from torchvision import datasets\n",
    "from torch.utils.data import DataLoader, ConcatDataset\n",
    "\n",
    "device = \"cuda\" if torch.cuda.is_available() else \"mps\" if torch.mps.is_available() else \"cpu\""
   ]
  },
  {
   "cell_type": "code",
   "execution_count": 2,
   "metadata": {},
   "outputs": [],
   "source": [
    "imagenet_mean = [0.485, 0.456, 0.406]\n",
    "imagenet_std = [0.229, 0.224, 0.225]\n",
    "\n",
    "transform = torchvision.transforms.Compose([\n",
    "    torchvision.transforms.Resize((224, 224)),\n",
    "    torchvision.transforms.ToTensor(),\n",
    "    torchvision.transforms.Normalize(imagenet_mean, imagenet_std)\n",
    "])\n",
    "\n",
    "art_dir = \"data/pacs_data/pacs_data/art_painting\"\n",
    "cartoon_dir = \"data/pacs_data/pacs_data/cartoon\"\n",
    "photo_dir = \"data/pacs_data/pacs_data/photo\"\n",
    "sketch_dir = \"data/pacs_data/pacs_data/sketch\"\n",
    "\n",
    "art_dataset = datasets.ImageFolder(root=art_dir, transform=transform)\n",
    "cartoon_dataset = datasets.ImageFolder(root=cartoon_dir, transform=transform)\n",
    "photo_dataset = datasets.ImageFolder(root=photo_dir, transform=transform)\n",
    "sketch_dataset = datasets.ImageFolder(root=sketch_dir, transform=transform)\n",
    "\n",
    "art_loader = DataLoader(\n",
    "    art_dataset,\n",
    "    batch_size=64,\n",
    "    shuffle=True,\n",
    "    num_workers=4,\n",
    "    pin_memory=True\n",
    ")\n",
    "\n",
    "cartoon_loader = DataLoader(\n",
    "    cartoon_dataset,\n",
    "    batch_size=64,\n",
    "    shuffle=True,\n",
    "    num_workers=4,\n",
    "    pin_memory=True\n",
    ")\n",
    "\n",
    "photo_loader = DataLoader(\n",
    "    photo_dataset,\n",
    "    batch_size=64,\n",
    "    shuffle=True,\n",
    "    num_workers=4,\n",
    "    pin_memory=True\n",
    ")\n",
    "\n",
    "sketch_loader = DataLoader( # This is also the test domain loader\n",
    "    sketch_dataset,\n",
    "    batch_size=64,\n",
    "    shuffle=True,\n",
    "    num_workers=4,\n",
    "    pin_memory=True\n",
    ")\n",
    "\n",
    "source_dataset = ConcatDataset([art_dataset, cartoon_dataset, photo_dataset])\n",
    "\n",
    "source_loader = DataLoader(\n",
    "    source_dataset,\n",
    "    batch_size=64,\n",
    "    shuffle=True,\n",
    "    num_workers=4,\n",
    "    pin_memory=True\n",
    ")\n",
    "\n",
    "pacs_classes = sketch_dataset.classes\n",
    "\n",
    "envs = [art_loader, cartoon_loader, photo_loader]"
   ]
  },
  {
   "cell_type": "code",
   "execution_count": 3,
   "metadata": {},
   "outputs": [],
   "source": [
    "def evaluate(model, loader, device):\n",
    "    model.eval()\n",
    "    correct = total = 0\n",
    "    with torch.no_grad():\n",
    "        for x, y in loader:\n",
    "            x, y = x.to(device), y.to(device)\n",
    "            preds = model.predict(x)\n",
    "            correct += (torch.argmax(preds, dim=1) == y).sum().item()\n",
    "            total += y.size(0)\n",
    "    return 100 * correct / total"
   ]
  },
  {
   "cell_type": "code",
   "execution_count": 4,
   "metadata": {},
   "outputs": [
    {
     "name": "stderr",
     "output_type": "stream",
     "text": [
      "/Library/Frameworks/Python.framework/Versions/3.13/lib/python3.13/site-packages/torchvision/models/_utils.py:208: UserWarning: The parameter 'pretrained' is deprecated since 0.13 and may be removed in the future, please use 'weights' instead.\n",
      "  warnings.warn(\n",
      "/Library/Frameworks/Python.framework/Versions/3.13/lib/python3.13/site-packages/torchvision/models/_utils.py:223: UserWarning: Arguments other than a weight enum or `None` for 'weights' are deprecated since 0.13 and may be removed in the future. The current behavior is equivalent to passing `weights=ResNet18_Weights.IMAGENET1K_V1`. You can also use `weights=ResNet18_Weights.DEFAULT` to get the most up-to-date weights.\n",
      "  warnings.warn(msg)\n"
     ]
    }
   ],
   "source": [
    "\n",
    "\n",
    "# --- Hyperparameters ---\n",
    "hparams = {\n",
    "    'lr': 5e-5,\n",
    "    'weight_decay': 0.0,\n",
    "    'irm_lambda': 1e2,\n",
    "    'irm_penalty_anneal_iters': 500,\n",
    "\n",
    "    'nonlinear_classifier': 0,\n",
    "    'resnet18': 1,\n",
    "    'resnet_dropout': 0.0,\n",
    "    'freeze_bn': 1,\n",
    "\n",
    "    'mlp_width': 1024,\n",
    "    'mlp_depth': 3,\n",
    "    'mlp_dropout': 0.1,\n",
    "    'vit': 0,\n",
    "    'dinov2': 0,\n",
    "    'vit_dropout': 0.0,\n",
    "    'vit_attn_tune': 0,\n",
    "}\n",
    "\n",
    "# --- Initialize IRM ---\n",
    "irm = algorithms.IRM(\n",
    "    input_shape=(3, 224, 224),\n",
    "    num_classes=7,\n",
    "    num_domains=3,\n",
    "    hparams=hparams\n",
    ").to(device)\n"
   ]
  },
  {
   "cell_type": "code",
   "execution_count": 5,
   "metadata": {},
   "outputs": [
    {
     "name": "stdout",
     "output_type": "stream",
     "text": [
      "Epoch 1: Loss 2.2166 | Penalty 0.1015\n",
      "Epoch 2: Loss 1.9204 | Penalty 0.0162\n",
      "Epoch 3: Loss 1.8127 | Penalty -0.0013\n",
      "Epoch 4: Loss 1.6622 | Penalty 0.0477\n",
      "Epoch 5: Loss 1.6526 | Penalty 0.0169\n",
      "Epoch 6: Loss 1.5255 | Penalty 0.0485\n",
      "Epoch 7: Loss 1.4924 | Penalty 0.0088\n",
      "Epoch 8: Loss 1.3164 | Penalty 0.0422\n",
      "Epoch 9: Loss 1.2221 | Penalty 0.0117\n",
      "Epoch 10: Loss 1.1644 | Penalty 0.0120\n",
      "Epoch 11: Loss 1.0406 | Penalty 0.0412\n",
      "Epoch 12: Loss 1.0359 | Penalty -0.0061\n",
      "Epoch 13: Loss 0.9561 | Penalty -0.0026\n",
      "Epoch 14: Loss 0.9030 | Penalty 0.0094\n",
      "Epoch 15: Loss 0.7852 | Penalty 0.0322\n",
      "Epoch 16: Loss 0.6839 | Penalty 0.0271\n",
      "Epoch 17: Loss 0.6375 | Penalty 0.0352\n",
      "Epoch 18: Loss 0.5507 | Penalty 0.0427\n",
      "Epoch 19: Loss 0.5138 | Penalty -0.0035\n",
      "Epoch 20: Loss 0.6030 | Penalty -0.0077\n",
      "Epoch 21: Loss 0.4151 | Penalty -0.0039\n",
      "Epoch 22: Loss 0.5079 | Penalty 0.0080\n",
      "Epoch 23: Loss 0.4733 | Penalty 0.0053\n",
      "Epoch 24: Loss 0.3145 | Penalty 0.0077\n",
      "Epoch 25: Loss 0.4888 | Penalty -0.0229\n",
      "Epoch 26: Loss 0.4213 | Penalty -0.0023\n",
      "Epoch 27: Loss 0.4195 | Penalty -0.0040\n",
      "Epoch 28: Loss 0.3227 | Penalty 0.0151\n",
      "Epoch 29: Loss 0.4217 | Penalty -0.0191\n",
      "Epoch 30: Loss 0.5335 | Penalty 0.0272\n",
      "Epoch 31: Loss 0.3465 | Penalty -0.0041\n",
      "Epoch 32: Loss 0.3319 | Penalty -0.0024\n",
      "Epoch 33: Loss 0.2906 | Penalty -0.0164\n",
      "Epoch 34: Loss 0.3128 | Penalty 0.0078\n",
      "Epoch 35: Loss 0.3414 | Penalty -0.0112\n",
      "Epoch 36: Loss 0.3033 | Penalty 0.0030\n",
      "Epoch 37: Loss 0.2728 | Penalty 0.0027\n",
      "Epoch 38: Loss 0.3053 | Penalty 0.0027\n",
      "Epoch 39: Loss 0.2422 | Penalty 0.0190\n",
      "Epoch 40: Loss 0.2957 | Penalty 0.0010\n",
      "Epoch 41: Loss 0.2826 | Penalty -0.0028\n",
      "Epoch 42: Loss 0.1995 | Penalty 0.0094\n",
      "Epoch 43: Loss 0.2412 | Penalty 0.0088\n",
      "Epoch 44: Loss 0.2970 | Penalty -0.0082\n",
      "Epoch 45: Loss 0.2237 | Penalty 0.0029\n",
      "Epoch 46: Loss 0.2442 | Penalty -0.0021\n",
      "Epoch 47: Loss 0.1402 | Penalty 0.0071\n",
      "Epoch 48: Loss 0.1519 | Penalty -0.0024\n",
      "Epoch 49: Loss 0.2785 | Penalty -0.0014\n",
      "Epoch 50: Loss 0.1776 | Penalty 0.0039\n"
     ]
    }
   ],
   "source": [
    "env_iters = [iter(loader) for loader in envs]\n",
    "\n",
    "num_epochs = 50\n",
    "for epoch in range(num_epochs):\n",
    "    minibatches = []\n",
    "\n",
    "    for i, env_iter in enumerate(env_iters):\n",
    "        try:\n",
    "            x, y = next(env_iter)\n",
    "        except StopIteration:\n",
    "            # Restart iterator when one env runs out\n",
    "            env_iters[i] = iter(envs[i])\n",
    "            x, y = next(env_iters[i])\n",
    "\n",
    "        minibatches.append((x.to(device), y.to(device)))\n",
    "\n",
    "    metrics = irm.update(minibatches)\n",
    "    print(f\"Epoch {epoch+1}: Loss {metrics['loss']:.4f} | Penalty {metrics['penalty']:.4f}\")"
   ]
  },
  {
   "cell_type": "code",
   "execution_count": 6,
   "metadata": {},
   "outputs": [
    {
     "name": "stdout",
     "output_type": "stream",
     "text": [
      "Sketch Accuracy: 55.23%\n"
     ]
    }
   ],
   "source": [
    "\n",
    "\n",
    "sketch_acc = evaluate(irm, sketch_loader, device)\n",
    "print(f\"Sketch Accuracy: {sketch_acc:.2f}%\")\n"
   ]
  },
  {
   "cell_type": "code",
   "execution_count": 7,
   "metadata": {},
   "outputs": [
    {
     "name": "stdout",
     "output_type": "stream",
     "text": [
      "Art Accuracy: 92.63%\n",
      "Cartoon Accuracy: 91.42%\n",
      "Photo Accuracy: 97.31%\n",
      "\n",
      "All Source Domains Accuracy: 93.45%\n"
     ]
    }
   ],
   "source": [
    "art_accuracy = evaluate(irm, art_loader, device)\n",
    "print(f\"Art Accuracy: {art_accuracy:.2f}%\")\n",
    "\n",
    "cartoon_accuracy = evaluate(irm, cartoon_loader, device)\n",
    "print(f\"Cartoon Accuracy: {cartoon_accuracy:.2f}%\")\n",
    "\n",
    "photo_accuracy = evaluate(irm, photo_loader, device)\n",
    "print(f\"Photo Accuracy: {photo_accuracy:.2f}%\")\n",
    "\n",
    "source_accuracy = evaluate(irm, source_loader, device)\n",
    "print(f\"\\nAll Source Domains Accuracy: {source_accuracy:.2f}%\")"
   ]
  }
 ],
 "metadata": {
  "kernelspec": {
   "display_name": "Python 3",
   "language": "python",
   "name": "python3"
  },
  "language_info": {
   "codemirror_mode": {
    "name": "ipython",
    "version": 3
   },
   "file_extension": ".py",
   "mimetype": "text/x-python",
   "name": "python",
   "nbconvert_exporter": "python",
   "pygments_lexer": "ipython3",
   "version": "3.13.1"
  }
 },
 "nbformat": 4,
 "nbformat_minor": 2
}
