{
 "cells": [
  {
   "cell_type": "code",
   "execution_count": 1,
   "metadata": {},
   "outputs": [],
   "source": [
    "import torch\n",
    "import torch.nn as nn\n",
    "from domainbed.algorithms import IRM\n",
    "from domainbed import algorithms, networks\n",
    "import torchvision\n",
    "from torchvision import datasets\n",
    "from torch.utils.data import DataLoader, ConcatDataset\n",
    "\n",
    "device = \"cuda\" if torch.cuda.is_available() else \"mps\" if torch.mps.is_available() else \"cpu\""
   ]
  },
  {
   "cell_type": "code",
   "execution_count": 2,
   "metadata": {},
   "outputs": [],
   "source": [
    "imagenet_mean = [0.485, 0.456, 0.406]\n",
    "imagenet_std = [0.229, 0.224, 0.225]\n",
    "\n",
    "transform = torchvision.transforms.Compose([\n",
    "    torchvision.transforms.Resize((224, 224)),\n",
    "    torchvision.transforms.ToTensor(),\n",
    "    torchvision.transforms.Normalize(imagenet_mean, imagenet_std)\n",
    "])\n",
    "\n",
    "art_dir = \"data/pacs_data/pacs_data/art_painting\"\n",
    "cartoon_dir = \"data/pacs_data/pacs_data/cartoon\"\n",
    "photo_dir = \"data/pacs_data/pacs_data/photo\"\n",
    "sketch_dir = \"data/pacs_data/pacs_data/sketch\"\n",
    "\n",
    "art_dataset = datasets.ImageFolder(root=art_dir, transform=transform)\n",
    "cartoon_dataset = datasets.ImageFolder(root=cartoon_dir, transform=transform)\n",
    "photo_dataset = datasets.ImageFolder(root=photo_dir, transform=transform)\n",
    "sketch_dataset = datasets.ImageFolder(root=sketch_dir, transform=transform)\n",
    "\n",
    "art_loader = DataLoader(\n",
    "    art_dataset,\n",
    "    batch_size=64,\n",
    "    shuffle=True,\n",
    "    num_workers=4,\n",
    "    pin_memory=True\n",
    ")\n",
    "\n",
    "cartoon_loader = DataLoader(\n",
    "    cartoon_dataset,\n",
    "    batch_size=64,\n",
    "    shuffle=True,\n",
    "    num_workers=4,\n",
    "    pin_memory=True\n",
    ")\n",
    "\n",
    "photo_loader = DataLoader(\n",
    "    photo_dataset,\n",
    "    batch_size=64,\n",
    "    shuffle=True,\n",
    "    num_workers=4,\n",
    "    pin_memory=True\n",
    ")\n",
    "\n",
    "sketch_loader = DataLoader( # This is also the test domain loader\n",
    "    sketch_dataset,\n",
    "    batch_size=64,\n",
    "    shuffle=True,\n",
    "    num_workers=4,\n",
    "    pin_memory=True\n",
    ")\n",
    "\n",
    "source_dataset = ConcatDataset([art_dataset, cartoon_dataset, photo_dataset])\n",
    "\n",
    "source_loader = DataLoader(\n",
    "    source_dataset,\n",
    "    batch_size=64,\n",
    "    shuffle=True,\n",
    "    num_workers=4,\n",
    "    pin_memory=True\n",
    ")\n",
    "\n",
    "pacs_classes = sketch_dataset.classes\n",
    "\n",
    "envs = [art_loader, cartoon_loader, photo_loader]"
   ]
  },
  {
   "cell_type": "code",
   "execution_count": 3,
   "metadata": {},
   "outputs": [],
   "source": [
    "def evaluate(model, loader, device):\n",
    "    model.eval()\n",
    "    correct = total = 0\n",
    "    with torch.no_grad():\n",
    "        for x, y in loader:\n",
    "            x, y = x.to(device), y.to(device)\n",
    "            preds = model.predict(x)\n",
    "            correct += (torch.argmax(preds, dim=1) == y).sum().item()\n",
    "            total += y.size(0)\n",
    "    return 100 * correct / total"
   ]
  },
  {
   "cell_type": "code",
   "execution_count": 4,
   "metadata": {},
   "outputs": [
    {
     "name": "stderr",
     "output_type": "stream",
     "text": [
      "/Library/Frameworks/Python.framework/Versions/3.13/lib/python3.13/site-packages/torchvision/models/_utils.py:208: UserWarning: The parameter 'pretrained' is deprecated since 0.13 and may be removed in the future, please use 'weights' instead.\n",
      "  warnings.warn(\n",
      "/Library/Frameworks/Python.framework/Versions/3.13/lib/python3.13/site-packages/torchvision/models/_utils.py:223: UserWarning: Arguments other than a weight enum or `None` for 'weights' are deprecated since 0.13 and may be removed in the future. The current behavior is equivalent to passing `weights=ResNet50_Weights.IMAGENET1K_V1`. You can also use `weights=ResNet50_Weights.DEFAULT` to get the most up-to-date weights.\n",
      "  warnings.warn(msg)\n"
     ]
    }
   ],
   "source": [
    "\n",
    "\n",
    "# --- Hyperparameters ---\n",
    "hparams = {\n",
    "    'lr': 5e-5,\n",
    "    'weight_decay': 0.0,\n",
    "    'groupdro_eta': 1e-2,\n",
    "\n",
    "    'nonlinear_classifier': 0,\n",
    "    'resnet18': 0,\n",
    "    'resnet_dropout': 0.0,\n",
    "    'freeze_bn': 1,\n",
    "\n",
    "    'mlp_width': 1024,\n",
    "    'mlp_depth': 3,\n",
    "    'mlp_dropout': 0.1,\n",
    "    'vit': 0,\n",
    "    'dinov2': 0,\n",
    "    'vit_dropout': 0.0,\n",
    "    'vit_attn_tune': 0,\n",
    "}\n",
    "\n",
    "# --- Initialize IRM ---\n",
    "groupDRO = algorithms.GroupDRO(\n",
    "    input_shape=(3, 224, 224),\n",
    "    num_classes=7,\n",
    "    num_domains=3,\n",
    "    hparams=hparams\n",
    ").to(device)\n"
   ]
  },
  {
   "cell_type": "code",
   "execution_count": 5,
   "metadata": {},
   "outputs": [
    {
     "name": "stdout",
     "output_type": "stream",
     "text": [
      "Epoch 1: Loss 1.9550 | Avg Train Acc: 11.98% | Worst Group Acc: 3.12%\n",
      "Epoch 2: Loss 1.7985 | Avg Train Acc: 36.98% | Worst Group Acc: 28.12%\n",
      "Epoch 3: Loss 1.6149 | Avg Train Acc: 50.00% | Worst Group Acc: 35.94%\n",
      "Epoch 4: Loss 1.4233 | Avg Train Acc: 53.65% | Worst Group Acc: 40.62%\n"
     ]
    }
   ],
   "source": [
    "env_iters = [iter(loader) for loader in envs]\n",
    "\n",
    "num_epochs = 50\n",
    "for epoch in range(num_epochs):\n",
    "    minibatches = []\n",
    "\n",
    "    for i, env_iter in enumerate(env_iters):\n",
    "        try:\n",
    "            x, y = next(env_iter)\n",
    "        except StopIteration:\n",
    "            # Restart iterator when one env runs out\n",
    "            env_iters[i] = iter(envs[i])\n",
    "            x, y = next(env_iters[i])\n",
    "\n",
    "        minibatches.append((x.to(device), y.to(device)))\n",
    "\n",
    "    metrics = groupDRO.update(minibatches)\n",
    "    print(f\"Epoch {epoch+1}: Loss {metrics['loss']:.4f} | Avg Train Acc: {metrics['avg_acc']:.2f}% | Worst Group Acc: {metrics['worst_acc']:.2f}%\")"
   ]
  },
  {
   "cell_type": "code",
   "execution_count": null,
   "metadata": {},
   "outputs": [
    {
     "name": "stdout",
     "output_type": "stream",
     "text": [
      "Sketch Accuracy: 53.12%\n"
     ]
    }
   ],
   "source": [
    "\n",
    "\n",
    "sketch_acc = evaluate(groupDRO, sketch_loader, device)\n",
    "print(f\"Sketch Accuracy: {sketch_acc:.2f}%\")\n"
   ]
  },
  {
   "cell_type": "code",
   "execution_count": null,
   "metadata": {},
   "outputs": [
    {
     "name": "stdout",
     "output_type": "stream",
     "text": [
      "Art Accuracy: 95.51%\n",
      "Cartoon Accuracy: 93.26%\n",
      "Photo Accuracy: 98.62%\n",
      "\n",
      "All Source Domains Accuracy: 95.50%\n"
     ]
    }
   ],
   "source": [
    "art_accuracy = evaluate(groupDRO, art_loader, device)\n",
    "print(f\"Art Accuracy: {art_accuracy:.2f}%\")\n",
    "\n",
    "cartoon_accuracy = evaluate(groupDRO, cartoon_loader, device)\n",
    "print(f\"Cartoon Accuracy: {cartoon_accuracy:.2f}%\")\n",
    "\n",
    "photo_accuracy = evaluate(groupDRO, photo_loader, device)\n",
    "print(f\"Photo Accuracy: {photo_accuracy:.2f}%\")\n",
    "\n",
    "source_accuracy = evaluate(groupDRO, source_loader, device)\n",
    "print(f\"\\nAll Source Domains Accuracy: {source_accuracy:.2f}%\")"
   ]
  }
 ],
 "metadata": {
  "kernelspec": {
   "display_name": "Python 3",
   "language": "python",
   "name": "python3"
  },
  "language_info": {
   "codemirror_mode": {
    "name": "ipython",
    "version": 3
   },
   "file_extension": ".py",
   "mimetype": "text/x-python",
   "name": "python",
   "nbconvert_exporter": "python",
   "pygments_lexer": "ipython3",
   "version": "3.13.1"
  }
 },
 "nbformat": 4,
 "nbformat_minor": 2
}
