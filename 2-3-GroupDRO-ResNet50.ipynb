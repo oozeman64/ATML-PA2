{
 "cells": [
  {
   "cell_type": "code",
   "execution_count": 1,
   "metadata": {},
   "outputs": [],
   "source": [
    "import torch\n",
    "import torch.nn as nn\n",
    "from domainbed.algorithms import IRM\n",
    "from domainbed import algorithms, networks\n",
    "import torchvision\n",
    "from torchvision import datasets\n",
    "from torch.utils.data import DataLoader, ConcatDataset\n",
    "\n",
    "device = \"cuda\" if torch.cuda.is_available() else \"mps\" if torch.mps.is_available() else \"cpu\""
   ]
  },
  {
   "cell_type": "code",
   "execution_count": 2,
   "metadata": {},
   "outputs": [],
   "source": [
    "imagenet_mean = [0.485, 0.456, 0.406]\n",
    "imagenet_std = [0.229, 0.224, 0.225]\n",
    "\n",
    "transform = torchvision.transforms.Compose([\n",
    "    torchvision.transforms.Resize((224, 224)),\n",
    "    torchvision.transforms.ToTensor(),\n",
    "    torchvision.transforms.Normalize(imagenet_mean, imagenet_std)\n",
    "])\n",
    "\n",
    "art_dir = \"data/pacs_data/pacs_data/art_painting\"\n",
    "cartoon_dir = \"data/pacs_data/pacs_data/cartoon\"\n",
    "photo_dir = \"data/pacs_data/pacs_data/photo\"\n",
    "sketch_dir = \"data/pacs_data/pacs_data/sketch\"\n",
    "\n",
    "art_dataset = datasets.ImageFolder(root=art_dir, transform=transform)\n",
    "cartoon_dataset = datasets.ImageFolder(root=cartoon_dir, transform=transform)\n",
    "photo_dataset = datasets.ImageFolder(root=photo_dir, transform=transform)\n",
    "sketch_dataset = datasets.ImageFolder(root=sketch_dir, transform=transform)\n",
    "\n",
    "art_loader = DataLoader(\n",
    "    art_dataset,\n",
    "    batch_size=32,\n",
    "    shuffle=True,\n",
    "    num_workers=2,\n",
    "    pin_memory=True\n",
    ")\n",
    "\n",
    "cartoon_loader = DataLoader(\n",
    "    cartoon_dataset,\n",
    "    batch_size=32,\n",
    "    shuffle=True,\n",
    "    num_workers=2,\n",
    "    pin_memory=True\n",
    ")\n",
    "\n",
    "photo_loader = DataLoader(\n",
    "    photo_dataset,\n",
    "    batch_size=32,\n",
    "    shuffle=True,\n",
    "    num_workers=2,\n",
    "    pin_memory=True\n",
    ")\n",
    "\n",
    "sketch_loader = DataLoader( # This is also the test domain loader\n",
    "    sketch_dataset,\n",
    "    batch_size=32,\n",
    "    shuffle=True,\n",
    "    num_workers=2,\n",
    "    pin_memory=True\n",
    ")\n",
    "\n",
    "source_dataset = ConcatDataset([art_dataset, cartoon_dataset, photo_dataset])\n",
    "\n",
    "source_loader = DataLoader(\n",
    "    source_dataset,\n",
    "    batch_size=64,\n",
    "    shuffle=True,\n",
    "    num_workers=4,\n",
    "    pin_memory=True\n",
    ")\n",
    "\n",
    "pacs_classes = sketch_dataset.classes\n",
    "\n",
    "envs = [art_loader, cartoon_loader, photo_loader]"
   ]
  },
  {
   "cell_type": "code",
   "execution_count": 3,
   "metadata": {},
   "outputs": [],
   "source": [
    "def evaluate(model, loader, device):\n",
    "    model.eval()\n",
    "    correct = total = 0\n",
    "    with torch.no_grad():\n",
    "        for x, y in loader:\n",
    "            x, y = x.to(device), y.to(device)\n",
    "            preds = model.predict(x)\n",
    "            correct += (torch.argmax(preds, dim=1) == y).sum().item()\n",
    "            total += y.size(0)\n",
    "    return 100 * correct / total"
   ]
  },
  {
   "cell_type": "code",
   "execution_count": 4,
   "metadata": {},
   "outputs": [
    {
     "name": "stderr",
     "output_type": "stream",
     "text": [
      "c:\\Program Files\\Python313\\Lib\\site-packages\\torchvision\\models\\_utils.py:208: UserWarning: The parameter 'pretrained' is deprecated since 0.13 and may be removed in the future, please use 'weights' instead.\n",
      "  warnings.warn(\n",
      "c:\\Program Files\\Python313\\Lib\\site-packages\\torchvision\\models\\_utils.py:223: UserWarning: Arguments other than a weight enum or `None` for 'weights' are deprecated since 0.13 and may be removed in the future. The current behavior is equivalent to passing `weights=ResNet50_Weights.IMAGENET1K_V1`. You can also use `weights=ResNet50_Weights.DEFAULT` to get the most up-to-date weights.\n",
      "  warnings.warn(msg)\n"
     ]
    }
   ],
   "source": [
    "\n",
    "\n",
    "# --- Hyperparameters ---\n",
    "hparams = {\n",
    "    'lr': 5e-5,\n",
    "    'weight_decay': 0.0,\n",
    "    'groupdro_eta': 1e-2,\n",
    "\n",
    "    'nonlinear_classifier': 0,\n",
    "    'resnet18': 0,\n",
    "    'resnet_dropout': 0.0,\n",
    "    'freeze_bn': 1,\n",
    "\n",
    "    'mlp_width': 1024,\n",
    "    'mlp_depth': 3,\n",
    "    'mlp_dropout': 0.1,\n",
    "    'vit': 0,\n",
    "    'dinov2': 0,\n",
    "    'vit_dropout': 0.0,\n",
    "    'vit_attn_tune': 0,\n",
    "}\n",
    "\n",
    "# --- Initialize IRM ---\n",
    "groupDRO = algorithms.GroupDRO(\n",
    "    input_shape=(3, 224, 224),\n",
    "    num_classes=7,\n",
    "    num_domains=3,\n",
    "    hparams=hparams\n",
    ").to(device)\n"
   ]
  },
  {
   "cell_type": "code",
   "execution_count": 5,
   "metadata": {},
   "outputs": [
    {
     "name": "stdout",
     "output_type": "stream",
     "text": [
      "Epoch 1: Loss 1.9553 | Avg Train Acc: 16.67% | Worst Group Acc: 9.38%\n",
      "Epoch 2: Loss 1.8626 | Avg Train Acc: 23.96% | Worst Group Acc: 15.62%\n",
      "Epoch 3: Loss 1.8198 | Avg Train Acc: 21.88% | Worst Group Acc: 12.50%\n",
      "Epoch 4: Loss 1.5525 | Avg Train Acc: 46.88% | Worst Group Acc: 40.62%\n",
      "Epoch 5: Loss 1.4965 | Avg Train Acc: 53.12% | Worst Group Acc: 46.88%\n",
      "Epoch 6: Loss 1.3373 | Avg Train Acc: 60.42% | Worst Group Acc: 40.62%\n",
      "Epoch 7: Loss 1.0165 | Avg Train Acc: 68.75% | Worst Group Acc: 59.38%\n",
      "Epoch 8: Loss 0.8852 | Avg Train Acc: 69.79% | Worst Group Acc: 50.00%\n",
      "Epoch 9: Loss 0.7103 | Avg Train Acc: 77.08% | Worst Group Acc: 53.12%\n",
      "Epoch 10: Loss 0.6347 | Avg Train Acc: 73.96% | Worst Group Acc: 56.25%\n",
      "Epoch 11: Loss 0.5088 | Avg Train Acc: 82.29% | Worst Group Acc: 75.00%\n",
      "Epoch 12: Loss 0.6877 | Avg Train Acc: 79.17% | Worst Group Acc: 75.00%\n",
      "Epoch 13: Loss 0.5159 | Avg Train Acc: 80.21% | Worst Group Acc: 71.88%\n",
      "Epoch 14: Loss 0.4878 | Avg Train Acc: 83.33% | Worst Group Acc: 68.75%\n",
      "Epoch 15: Loss 0.4934 | Avg Train Acc: 85.42% | Worst Group Acc: 81.25%\n",
      "Epoch 16: Loss 0.5588 | Avg Train Acc: 80.21% | Worst Group Acc: 68.75%\n",
      "Epoch 17: Loss 0.4259 | Avg Train Acc: 88.54% | Worst Group Acc: 81.25%\n",
      "Epoch 18: Loss 0.4542 | Avg Train Acc: 84.38% | Worst Group Acc: 75.00%\n",
      "Epoch 19: Loss 0.4949 | Avg Train Acc: 85.42% | Worst Group Acc: 75.00%\n",
      "Epoch 20: Loss 0.5815 | Avg Train Acc: 84.38% | Worst Group Acc: 78.12%\n",
      "Epoch 21: Loss 0.3653 | Avg Train Acc: 90.62% | Worst Group Acc: 78.12%\n",
      "Epoch 22: Loss 0.3389 | Avg Train Acc: 91.67% | Worst Group Acc: 84.38%\n",
      "Epoch 23: Loss 0.2855 | Avg Train Acc: 90.62% | Worst Group Acc: 81.25%\n",
      "Epoch 24: Loss 0.3323 | Avg Train Acc: 91.67% | Worst Group Acc: 87.50%\n",
      "Epoch 25: Loss 0.3197 | Avg Train Acc: 88.54% | Worst Group Acc: 81.25%\n",
      "Epoch 26: Loss 0.3821 | Avg Train Acc: 87.50% | Worst Group Acc: 81.25%\n",
      "Epoch 27: Loss 0.1947 | Avg Train Acc: 92.71% | Worst Group Acc: 84.38%\n",
      "Epoch 28: Loss 0.4315 | Avg Train Acc: 86.46% | Worst Group Acc: 68.75%\n",
      "Epoch 29: Loss 0.4263 | Avg Train Acc: 85.42% | Worst Group Acc: 81.25%\n",
      "Epoch 30: Loss 0.2392 | Avg Train Acc: 93.75% | Worst Group Acc: 81.25%\n",
      "Epoch 31: Loss 0.4229 | Avg Train Acc: 89.58% | Worst Group Acc: 84.38%\n",
      "Epoch 32: Loss 0.2898 | Avg Train Acc: 87.50% | Worst Group Acc: 81.25%\n",
      "Epoch 33: Loss 0.3499 | Avg Train Acc: 88.54% | Worst Group Acc: 81.25%\n",
      "Epoch 34: Loss 0.1554 | Avg Train Acc: 92.71% | Worst Group Acc: 81.25%\n",
      "Epoch 35: Loss 0.3450 | Avg Train Acc: 89.58% | Worst Group Acc: 81.25%\n",
      "Epoch 36: Loss 0.1631 | Avg Train Acc: 95.83% | Worst Group Acc: 90.62%\n",
      "Epoch 37: Loss 0.2310 | Avg Train Acc: 91.67% | Worst Group Acc: 87.50%\n",
      "Epoch 38: Loss 0.3436 | Avg Train Acc: 87.50% | Worst Group Acc: 81.25%\n",
      "Epoch 39: Loss 0.1913 | Avg Train Acc: 93.75% | Worst Group Acc: 90.62%\n",
      "Epoch 40: Loss 0.1476 | Avg Train Acc: 96.88% | Worst Group Acc: 93.75%\n",
      "Epoch 41: Loss 0.3458 | Avg Train Acc: 89.58% | Worst Group Acc: 81.25%\n",
      "Epoch 42: Loss 0.2106 | Avg Train Acc: 93.75% | Worst Group Acc: 84.38%\n",
      "Epoch 43: Loss 0.2968 | Avg Train Acc: 90.62% | Worst Group Acc: 84.38%\n",
      "Epoch 44: Loss 0.1941 | Avg Train Acc: 93.75% | Worst Group Acc: 90.62%\n",
      "Epoch 45: Loss 0.1743 | Avg Train Acc: 93.75% | Worst Group Acc: 90.62%\n",
      "Epoch 46: Loss 0.2844 | Avg Train Acc: 91.67% | Worst Group Acc: 87.50%\n",
      "Epoch 47: Loss 0.2726 | Avg Train Acc: 90.62% | Worst Group Acc: 81.25%\n",
      "Epoch 48: Loss 0.2215 | Avg Train Acc: 91.67% | Worst Group Acc: 87.50%\n",
      "Epoch 49: Loss 0.1845 | Avg Train Acc: 95.83% | Worst Group Acc: 90.62%\n",
      "Epoch 50: Loss 0.1599 | Avg Train Acc: 95.83% | Worst Group Acc: 90.62%\n"
     ]
    }
   ],
   "source": [
    "env_iters = [iter(loader) for loader in envs]\n",
    "\n",
    "num_epochs = 50\n",
    "for epoch in range(num_epochs):\n",
    "    minibatches = []\n",
    "\n",
    "    for i, env_iter in enumerate(env_iters):\n",
    "        try:\n",
    "            x, y = next(env_iter)\n",
    "        except StopIteration:\n",
    "            # Restart iterator when one env runs out\n",
    "            env_iters[i] = iter(envs[i])\n",
    "            x, y = next(env_iters[i])\n",
    "\n",
    "        minibatches.append((x.to(device), y.to(device)))\n",
    "\n",
    "    metrics = groupDRO.update(minibatches)\n",
    "    print(f\"Epoch {epoch+1}: Loss {metrics['loss']:.4f} | Avg Train Acc: {metrics['avg_acc']:.2f}% | Worst Group Acc: {metrics['worst_acc']:.2f}%\")"
   ]
  },
  {
   "cell_type": "code",
   "execution_count": 6,
   "metadata": {},
   "outputs": [
    {
     "name": "stdout",
     "output_type": "stream",
     "text": [
      "Sketch Accuracy: 63.63%\n"
     ]
    }
   ],
   "source": [
    "\n",
    "\n",
    "sketch_acc = evaluate(groupDRO, sketch_loader, device)\n",
    "print(f\"Sketch Accuracy: {sketch_acc:.2f}%\")\n"
   ]
  },
  {
   "cell_type": "code",
   "execution_count": 7,
   "metadata": {},
   "outputs": [
    {
     "name": "stdout",
     "output_type": "stream",
     "text": [
      "Art Accuracy: 93.90%\n",
      "Cartoon Accuracy: 89.04%\n",
      "Photo Accuracy: 97.90%\n",
      "\n",
      "All Source Domains Accuracy: 93.12%\n"
     ]
    }
   ],
   "source": [
    "art_accuracy = evaluate(groupDRO, art_loader, device)\n",
    "print(f\"Art Accuracy: {art_accuracy:.2f}%\")\n",
    "\n",
    "cartoon_accuracy = evaluate(groupDRO, cartoon_loader, device)\n",
    "print(f\"Cartoon Accuracy: {cartoon_accuracy:.2f}%\")\n",
    "\n",
    "photo_accuracy = evaluate(groupDRO, photo_loader, device)\n",
    "print(f\"Photo Accuracy: {photo_accuracy:.2f}%\")\n",
    "\n",
    "source_accuracy = evaluate(groupDRO, source_loader, device)\n",
    "print(f\"\\nAll Source Domains Accuracy: {source_accuracy:.2f}%\")"
   ]
  }
 ],
 "metadata": {
  "kernelspec": {
   "display_name": "Python 3",
   "language": "python",
   "name": "python3"
  },
  "language_info": {
   "codemirror_mode": {
    "name": "ipython",
    "version": 3
   },
   "file_extension": ".py",
   "mimetype": "text/x-python",
   "name": "python",
   "nbconvert_exporter": "python",
   "pygments_lexer": "ipython3",
   "version": "3.13.0"
  }
 },
 "nbformat": 4,
 "nbformat_minor": 2
}
