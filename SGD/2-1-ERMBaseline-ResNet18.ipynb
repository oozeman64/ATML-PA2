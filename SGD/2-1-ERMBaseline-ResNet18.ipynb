{
 "cells": [
  {
   "cell_type": "markdown",
   "metadata": {},
   "source": [
    "## ERM with ResNet18 - No-Adaption Baseline\n",
    "\n",
    "#### Source Domains: PACS Art/Painting, Cartoon, Photo\n",
    "#### Target Domain: PACS Sketch"
   ]
  },
  {
   "cell_type": "code",
   "execution_count": 1,
   "metadata": {},
   "outputs": [],
   "source": [
    "import torch\n",
    "import torchvision\n",
    "from torchvision import datasets\n",
    "from torch.utils.data import DataLoader, ConcatDataset\n",
    "from torch.optim.lr_scheduler import LambdaLR\n",
    "import random\n",
    "import numpy as np\n",
    "import os\n",
    "\n",
    "device = \"cuda\" if torch.cuda.is_available() else \"mps\" if torch.mps.is_available() else \"cpu\""
   ]
  },
  {
   "cell_type": "code",
   "execution_count": 2,
   "metadata": {},
   "outputs": [
    {
     "name": "stdout",
     "output_type": "stream",
     "text": [
      "Fixed random seed: 42\n"
     ]
    }
   ],
   "source": [
    "def fix_random_seed(seed=42):\n",
    "    random.seed(seed)\n",
    "    np.random.seed(seed)\n",
    "    os.environ[\"PYTHONHASHSEED\"] = str(seed)\n",
    "    torch.manual_seed(seed)\n",
    "    torch.cuda.manual_seed(seed)\n",
    "    torch.cuda.manual_seed_all(seed)\n",
    "    torch.backends.cudnn.deterministic = True\n",
    "    torch.backends.cudnn.benchmark = False\n",
    "    print(f\"Fixed random seed: {seed}\")\n",
    "\n",
    "fix_random_seed(42)\n",
    "\n",
    "# For deterministic DataLoader behavior\n",
    "def seed_worker(worker_id):\n",
    "    worker_seed = torch.initial_seed() % 2**32\n",
    "    np.random.seed(worker_seed)\n",
    "    random.seed(worker_seed)"
   ]
  },
  {
   "cell_type": "code",
   "execution_count": 3,
   "metadata": {},
   "outputs": [],
   "source": [
    "model = torchvision.models.resnet18(weights='IMAGENET1K_V1')\n",
    "\n",
    "for param in model.parameters():\n",
    "    param.requires_grad = False\n",
    "model.fc = torch.nn.Linear(model.fc.in_features, 7)\n",
    "\n",
    "base_lr = 0.01\n",
    "weight_decay = 1e-4\n",
    "warmup_epochs = 3\n",
    "num_epochs = 30\n",
    "optim = torch.optim.SGD(\n",
    "        model.parameters(),\n",
    "        lr=base_lr,\n",
    "        momentum=0.9,\n",
    "        weight_decay=weight_decay\n",
    "    )\n",
    "\n",
    "def lr_lambda(current_epoch):\n",
    "    if current_epoch < warmup_epochs:\n",
    "        # Linear warmup from 0 -> 1\n",
    "        return float(current_epoch + 1) / float(max(1, warmup_epochs))\n",
    "    else:\n",
    "        # Cosine annealing from 1 -> 0\n",
    "        progress = (current_epoch - warmup_epochs) / float(max(1, num_epochs - warmup_epochs))\n",
    "        return 0.5 * (1.0 + torch.cos(torch.tensor(progress * 3.1415926535)))\n",
    "\n",
    "scheduler = LambdaLR(optim, lr_lambda=lr_lambda)\n",
    "\n",
    "criterion = torch.nn.CrossEntropyLoss()"
   ]
  },
  {
   "cell_type": "code",
   "execution_count": 4,
   "metadata": {},
   "outputs": [],
   "source": [
    "imagenet_mean = [0.485, 0.456, 0.406]\n",
    "imagenet_std = [0.229, 0.224, 0.225]\n",
    "\n",
    "transform = torchvision.transforms.Compose([\n",
    "    torchvision.transforms.Resize((224, 224)),\n",
    "    torchvision.transforms.ToTensor(),\n",
    "    torchvision.transforms.Normalize(imagenet_mean, imagenet_std)\n",
    "])\n",
    "\n",
    "art_dir = \"../data/pacs_data/pacs_data/art_painting\"\n",
    "cartoon_dir = \"../data/pacs_data/pacs_data/cartoon\"\n",
    "photo_dir = \"../data/pacs_data/pacs_data/photo\"\n",
    "sketch_dir = \"../data/pacs_data/pacs_data/sketch\"\n",
    "\n",
    "art_dataset = datasets.ImageFolder(root=art_dir, transform=transform)\n",
    "cartoon_dataset = datasets.ImageFolder(root=cartoon_dir, transform=transform)\n",
    "photo_dataset = datasets.ImageFolder(root=photo_dir, transform=transform)\n",
    "sketch_dataset = datasets.ImageFolder(root=sketch_dir, transform=transform)\n",
    "\n",
    "g = torch.Generator()\n",
    "g.manual_seed(42)\n",
    "\n",
    "art_loader = DataLoader(\n",
    "    art_dataset,\n",
    "    batch_size=32,\n",
    "    shuffle=True,\n",
    "    num_workers=0,\n",
    "    pin_memory=True,\n",
    "    worker_init_fn=seed_worker,\n",
    "    generator=g\n",
    ")\n",
    "\n",
    "cartoon_loader = DataLoader(\n",
    "    cartoon_dataset,\n",
    "    batch_size=32,\n",
    "    shuffle=True,\n",
    "    num_workers=0,\n",
    "    pin_memory=True,\n",
    "    worker_init_fn=seed_worker,\n",
    "    generator=g\n",
    ")\n",
    "\n",
    "photo_loader = DataLoader(\n",
    "    photo_dataset,\n",
    "    batch_size=32,\n",
    "    shuffle=True,\n",
    "    num_workers=0,\n",
    "    pin_memory=True,\n",
    "    worker_init_fn=seed_worker,\n",
    "    generator=g\n",
    ")\n",
    "\n",
    "sketch_loader = DataLoader( # This is also the test domain loader\n",
    "    sketch_dataset,\n",
    "    batch_size=32,\n",
    "    shuffle=True,\n",
    "    num_workers=0,\n",
    "    pin_memory=True,\n",
    "    worker_init_fn=seed_worker,\n",
    "    generator=g\n",
    ")\n",
    "\n",
    "source_dataset = ConcatDataset([art_dataset, cartoon_dataset, photo_dataset])\n",
    "\n",
    "source_loader = DataLoader(\n",
    "    source_dataset,\n",
    "    batch_size=32,\n",
    "    shuffle=True,\n",
    "    num_workers=0,\n",
    "    pin_memory=True,\n",
    "    worker_init_fn=seed_worker,\n",
    "    generator=g\n",
    ")\n",
    "\n",
    "pacs_classes = sketch_dataset.classes"
   ]
  },
  {
   "cell_type": "code",
   "execution_count": 5,
   "metadata": {},
   "outputs": [],
   "source": [
    "def train_epoch(model, loader, criterion, optimizer, device):\n",
    "    model.to(device)\n",
    "    model.train()\n",
    "    running_loss, correct, total = 0.0, 0, 0\n",
    "\n",
    "    for inputs, labels in loader:\n",
    "        inputs, labels = inputs.to(device), labels.to(device)\n",
    "\n",
    "        optimizer.zero_grad()\n",
    "        outputs = model(inputs)\n",
    "        loss = criterion(outputs, labels)\n",
    "        loss.backward()\n",
    "        optimizer.step()\n",
    "\n",
    "        running_loss += loss.item() * inputs.size(0)\n",
    "        _, predicted = outputs.max(1)\n",
    "        total += labels.size(0)\n",
    "        correct += predicted.eq(labels).sum().item()\n",
    "\n",
    "    avg_loss = running_loss / total\n",
    "    accuracy = 100. * correct / total\n",
    "    return avg_loss, accuracy"
   ]
  },
  {
   "cell_type": "code",
   "execution_count": 6,
   "metadata": {},
   "outputs": [],
   "source": [
    "def evaluate(model, test_loader, device):\n",
    "    model.to(device)\n",
    "    model.eval()\n",
    "    correct = 0\n",
    "    total = 0\n",
    "\n",
    "    with torch.no_grad():\n",
    "        for images, labels in test_loader:\n",
    "            images = images.to(device)\n",
    "            labels = labels.to(device)\n",
    "            preds = model.forward(images)\n",
    "            preds = torch.argmax(preds, dim=1)\n",
    "            correct += (preds == labels).sum().item()\n",
    "            total += labels.size(0)\n",
    "    accuracy = correct / total * 100\n",
    "    return accuracy"
   ]
  },
  {
   "cell_type": "code",
   "execution_count": 7,
   "metadata": {},
   "outputs": [
    {
     "name": "stdout",
     "output_type": "stream",
     "text": [
      "Epoch 1/30 | Loss: 0.6437 | Train Acc: 78.72% | LR: 0.00667\n",
      "Epoch 2/30 | Loss: 0.3962 | Train Acc: 86.51% | LR: 0.01000\n",
      "Epoch 3/30 | Loss: 0.3993 | Train Acc: 86.92% | LR: 0.01000\n",
      "Epoch 4/30 | Loss: 0.3691 | Train Acc: 87.83% | LR: 0.00997\n",
      "Epoch 5/30 | Loss: 0.3248 | Train Acc: 88.82% | LR: 0.00987\n",
      "Epoch 6/30 | Loss: 0.3568 | Train Acc: 88.49% | LR: 0.00970\n",
      "Epoch 7/30 | Loss: 0.2794 | Train Acc: 90.48% | LR: 0.00947\n",
      "Epoch 8/30 | Loss: 0.2874 | Train Acc: 90.53% | LR: 0.00918\n",
      "Epoch 9/30 | Loss: 0.2776 | Train Acc: 91.06% | LR: 0.00883\n",
      "Epoch 10/30 | Loss: 0.2645 | Train Acc: 90.91% | LR: 0.00843\n",
      "Epoch 11/30 | Loss: 0.2702 | Train Acc: 90.58% | LR: 0.00799\n",
      "Epoch 12/30 | Loss: 0.2434 | Train Acc: 91.55% | LR: 0.00750\n",
      "Epoch 13/30 | Loss: 0.2492 | Train Acc: 91.49% | LR: 0.00698\n",
      "Epoch 14/30 | Loss: 0.2383 | Train Acc: 92.00% | LR: 0.00643\n",
      "Epoch 15/30 | Loss: 0.2194 | Train Acc: 92.56% | LR: 0.00587\n",
      "Epoch 16/30 | Loss: 0.2347 | Train Acc: 92.21% | LR: 0.00529\n",
      "Epoch 17/30 | Loss: 0.2065 | Train Acc: 92.53% | LR: 0.00471\n",
      "Epoch 18/30 | Loss: 0.1984 | Train Acc: 93.34% | LR: 0.00413\n",
      "Epoch 19/30 | Loss: 0.2024 | Train Acc: 93.06% | LR: 0.00357\n",
      "Epoch 20/30 | Loss: 0.1869 | Train Acc: 93.42% | LR: 0.00302\n",
      "Epoch 21/30 | Loss: 0.1878 | Train Acc: 93.34% | LR: 0.00250\n",
      "Epoch 22/30 | Loss: 0.1807 | Train Acc: 93.78% | LR: 0.00201\n",
      "Epoch 23/30 | Loss: 0.1801 | Train Acc: 93.76% | LR: 0.00157\n",
      "Epoch 24/30 | Loss: 0.1800 | Train Acc: 93.55% | LR: 0.00117\n",
      "Epoch 25/30 | Loss: 0.1654 | Train Acc: 94.36% | LR: 0.00082\n",
      "Epoch 26/30 | Loss: 0.1628 | Train Acc: 94.09% | LR: 0.00053\n",
      "Epoch 27/30 | Loss: 0.1633 | Train Acc: 94.42% | LR: 0.00030\n",
      "Epoch 28/30 | Loss: 0.1622 | Train Acc: 94.61% | LR: 0.00013\n",
      "Epoch 29/30 | Loss: 0.1613 | Train Acc: 94.28% | LR: 0.00003\n",
      "Epoch 30/30 | Loss: 0.1612 | Train Acc: 94.13% | LR: 0.00000\n"
     ]
    }
   ],
   "source": [
    "\n",
    "for epoch in range(num_epochs):\n",
    "    train_loss, train_acc = train_epoch(model, source_loader, criterion, optim, device)\n",
    "    scheduler.step() \n",
    "    print(f\"Epoch {epoch+1}/{num_epochs} | \"\n",
    "          f\"Loss: {train_loss:.4f} | Train Acc: {train_acc:.2f}% | \"\n",
    "          f\"LR: {scheduler.get_last_lr()[0]:.5f}\")"
   ]
  },
  {
   "cell_type": "markdown",
   "metadata": {},
   "source": [
    "### Evaluation on Source Domains"
   ]
  },
  {
   "cell_type": "code",
   "execution_count": 8,
   "metadata": {},
   "outputs": [
    {
     "name": "stdout",
     "output_type": "stream",
     "text": [
      "Art Accuracy: 95.70%\n",
      "Cartoon Accuracy: 95.90%\n",
      "Photo Accuracy: 99.34%\n",
      "\n",
      "All Source Domains Accuracy: 96.78%\n"
     ]
    }
   ],
   "source": [
    "art_accuracy = evaluate(model, art_loader, device)\n",
    "print(f\"Art Accuracy: {art_accuracy:.2f}%\")\n",
    "\n",
    "cartoon_accuracy = evaluate(model, cartoon_loader, device)\n",
    "print(f\"Cartoon Accuracy: {cartoon_accuracy:.2f}%\")\n",
    "\n",
    "photo_accuracy = evaluate(model, photo_loader, device)\n",
    "print(f\"Photo Accuracy: {photo_accuracy:.2f}%\")\n",
    "\n",
    "source_accuracy = evaluate(model, source_loader, device)\n",
    "print(f\"\\nAll Source Domains Accuracy: {source_accuracy:.2f}%\")"
   ]
  },
  {
   "cell_type": "markdown",
   "metadata": {},
   "source": [
    "### Evaluation on Test Domain"
   ]
  },
  {
   "cell_type": "code",
   "execution_count": 9,
   "metadata": {},
   "outputs": [
    {
     "name": "stdout",
     "output_type": "stream",
     "text": [
      "Sketch Accuracy: 42.73%\n"
     ]
    }
   ],
   "source": [
    "sketch_accuracy = evaluate(model, sketch_loader, device)\n",
    "print(f\"Sketch Accuracy: {sketch_accuracy:.2f}%\")"
   ]
  }
 ],
 "metadata": {
  "kernelspec": {
   "display_name": "Python 3",
   "language": "python",
   "name": "python3"
  },
  "language_info": {
   "codemirror_mode": {
    "name": "ipython",
    "version": 3
   },
   "file_extension": ".py",
   "mimetype": "text/x-python",
   "name": "python",
   "nbconvert_exporter": "python",
   "pygments_lexer": "ipython3",
   "version": "3.13.0"
  }
 },
 "nbformat": 4,
 "nbformat_minor": 2
}
