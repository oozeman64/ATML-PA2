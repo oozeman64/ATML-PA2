{
 "cells": [
  {
   "cell_type": "markdown",
   "metadata": {},
   "source": [
    "## SAM with ResNet18\n",
    "\n",
    "#### Source Domains: PACS Art/Painting, Cartoon, Photo\n",
    "#### Target Domain: PACS Sketch"
   ]
  },
  {
   "cell_type": "code",
   "execution_count": 5,
   "metadata": {},
   "outputs": [],
   "source": [
    "import torch\n",
    "import torchvision\n",
    "from torchvision import datasets\n",
    "from torch.utils.data import DataLoader, ConcatDataset\n",
    "from torch.optim.lr_scheduler import LambdaLR\n",
    "import random\n",
    "import numpy as np\n",
    "import os\n",
    "\n",
    "device = \"cuda\" if torch.cuda.is_available() else \"mps\" if torch.mps.is_available() else \"cpu\""
   ]
  },
  {
   "cell_type": "code",
   "execution_count": 6,
   "metadata": {},
   "outputs": [
    {
     "name": "stdout",
     "output_type": "stream",
     "text": [
      "Fixed random seed: 42\n"
     ]
    }
   ],
   "source": [
    "def fix_random_seed(seed=42):\n",
    "    random.seed(seed)\n",
    "    np.random.seed(seed)\n",
    "    os.environ[\"PYTHONHASHSEED\"] = str(seed)\n",
    "    torch.manual_seed(seed)\n",
    "    torch.cuda.manual_seed(seed)\n",
    "    torch.cuda.manual_seed_all(seed)\n",
    "    torch.backends.cudnn.deterministic = True\n",
    "    torch.backends.cudnn.benchmark = False\n",
    "    print(f\"Fixed random seed: {seed}\")\n",
    "\n",
    "fix_random_seed(42)\n",
    "\n",
    "# For deterministic DataLoader behavior\n",
    "def seed_worker(worker_id):\n",
    "    worker_seed = torch.initial_seed() % 2**32\n",
    "    np.random.seed(worker_seed)\n",
    "    random.seed(worker_seed)"
   ]
  },
  {
   "cell_type": "code",
   "execution_count": 7,
   "metadata": {},
   "outputs": [],
   "source": [
    "class SAM(torch.optim.Optimizer):\n",
    "    def __init__(self, params, base_optimizer, rho=0.05, adaptive=False, **kwargs):\n",
    "        self.rho = rho\n",
    "        self.adaptive = adaptive\n",
    "        defaults = dict(rho=rho, adaptive=adaptive, **kwargs)\n",
    "        super(SAM, self).__init__(params, defaults)\n",
    "        self.base_optimizer = base_optimizer(self.param_groups, **kwargs)\n",
    "        self.param_groups = self.base_optimizer.param_groups\n",
    "\n",
    "    @torch.no_grad()\n",
    "    def first_step(self, zero_grad=False):\n",
    "        grad_norm = self._grad_norm()\n",
    "        scale = self.rho / (grad_norm + 1e-12)\n",
    "\n",
    "        for group in self.param_groups:\n",
    "            for p in group['params']:\n",
    "                if p.grad is None:\n",
    "                    continue\n",
    "                e_w = (torch.pow(p, 2) if self.adaptive else 1.0) * p.grad * scale.to(p)\n",
    "                p.add_(e_w)  # ascent step\n",
    "                self.state[p]['e_w'] = e_w\n",
    "\n",
    "        if zero_grad:\n",
    "            self.zero_grad()\n",
    "\n",
    "    @torch.no_grad()\n",
    "    def second_step(self, zero_grad=False):\n",
    "        for group in self.param_groups:\n",
    "            for p in group['params']:\n",
    "                if p.grad is None:\n",
    "                    continue\n",
    "                p.sub_(self.state[p]['e_w'])  # restore original weights\n",
    "        self.base_optimizer.step()\n",
    "        if zero_grad:\n",
    "            self.zero_grad()\n",
    "\n",
    "    @torch.no_grad()\n",
    "    def step(self, closure=None):\n",
    "        raise NotImplementedError\n",
    "\n",
    "    def _grad_norm(self):\n",
    "        shared_device = self.param_groups[0]['params'][0].device\n",
    "        norm = torch.norm(\n",
    "            torch.stack([\n",
    "                ((torch.abs(p) if self.adaptive else 1.0) * p.grad).norm(p=2).to(shared_device)\n",
    "                for group in self.param_groups for p in group['params']\n",
    "                if p.grad is not None\n",
    "            ]),\n",
    "            p=2\n",
    "        )\n",
    "        return norm"
   ]
  },
  {
   "cell_type": "code",
   "execution_count": 8,
   "metadata": {},
   "outputs": [],
   "source": [
    "model = torchvision.models.resnet18(weights='IMAGENET1K_V1')\n",
    "\n",
    "for param in model.parameters():\n",
    "    param.requires_grad = False\n",
    "model.fc = torch.nn.Linear(model.fc.in_features, 7)\n",
    "\n",
    "base_lr = 0.01\n",
    "weight_decay = 1e-4\n",
    "warmup_epochs = 3\n",
    "num_epochs = 30\n",
    "base_optimizer = torch.optim.SGD(\n",
    "        model.parameters(),\n",
    "        lr=base_lr,\n",
    "        momentum=0.9,\n",
    "        weight_decay=weight_decay\n",
    "    )\n",
    "\n",
    "def lr_lambda(current_epoch):\n",
    "    if current_epoch < warmup_epochs:\n",
    "        # Linear warmup from 0 -> 1\n",
    "        return float(current_epoch + 1) / float(max(1, warmup_epochs))\n",
    "    else:\n",
    "        # Cosine annealing from 1 -> 0\n",
    "        progress = (current_epoch - warmup_epochs) / float(max(1, num_epochs - warmup_epochs))\n",
    "        return 0.5 * (1.0 + torch.cos(torch.tensor(progress * 3.1415926535)))\n",
    "\n",
    "optim = SAM(model.parameters(), torch.optim.SGD,\n",
    "            lr=base_lr, momentum=0.9, weight_decay=weight_decay, rho=0.05)\n",
    "\n",
    "scheduler = LambdaLR(optim.base_optimizer, lr_lambda=lr_lambda)\n",
    "\n",
    "\n",
    "criterion = torch.nn.CrossEntropyLoss()"
   ]
  },
  {
   "cell_type": "code",
   "execution_count": 9,
   "metadata": {},
   "outputs": [],
   "source": [
    "imagenet_mean = [0.485, 0.456, 0.406]\n",
    "imagenet_std = [0.229, 0.224, 0.225]\n",
    "\n",
    "transform = torchvision.transforms.Compose([\n",
    "    torchvision.transforms.Resize((224, 224)),\n",
    "    torchvision.transforms.ToTensor(),\n",
    "    torchvision.transforms.Normalize(imagenet_mean, imagenet_std)\n",
    "])\n",
    "\n",
    "art_dir = \"../data/pacs_data/pacs_data/art_painting\"\n",
    "cartoon_dir = \"../data/pacs_data/pacs_data/cartoon\"\n",
    "photo_dir = \"../data/pacs_data/pacs_data/photo\"\n",
    "sketch_dir = \"../data/pacs_data/pacs_data/sketch\"\n",
    "\n",
    "art_dataset = datasets.ImageFolder(root=art_dir, transform=transform)\n",
    "cartoon_dataset = datasets.ImageFolder(root=cartoon_dir, transform=transform)\n",
    "photo_dataset = datasets.ImageFolder(root=photo_dir, transform=transform)\n",
    "sketch_dataset = datasets.ImageFolder(root=sketch_dir, transform=transform)\n",
    "\n",
    "g = torch.Generator()\n",
    "g.manual_seed(42)\n",
    "\n",
    "art_loader = DataLoader(\n",
    "    art_dataset,\n",
    "    batch_size=32,\n",
    "    shuffle=True,\n",
    "    num_workers=0,\n",
    "    pin_memory=True,\n",
    "    worker_init_fn=seed_worker,\n",
    "    generator=g\n",
    ")\n",
    "\n",
    "cartoon_loader = DataLoader(\n",
    "    cartoon_dataset,\n",
    "    batch_size=32,\n",
    "    shuffle=True,\n",
    "    num_workers=0,\n",
    "    pin_memory=True,\n",
    "    worker_init_fn=seed_worker,\n",
    "    generator=g\n",
    ")\n",
    "\n",
    "photo_loader = DataLoader(\n",
    "    photo_dataset,\n",
    "    batch_size=32,\n",
    "    shuffle=True,\n",
    "    num_workers=0,\n",
    "    pin_memory=True,\n",
    "    worker_init_fn=seed_worker,\n",
    "    generator=g\n",
    ")\n",
    "\n",
    "sketch_loader = DataLoader( # This is also the test domain loader\n",
    "    sketch_dataset,\n",
    "    batch_size=32,\n",
    "    shuffle=True,\n",
    "    num_workers=0,\n",
    "    pin_memory=True,\n",
    "    worker_init_fn=seed_worker,\n",
    "    generator=g\n",
    ")\n",
    "\n",
    "source_dataset = ConcatDataset([art_dataset, cartoon_dataset, photo_dataset])\n",
    "\n",
    "source_loader = DataLoader(\n",
    "    source_dataset,\n",
    "    batch_size=32,\n",
    "    shuffle=True,\n",
    "    num_workers=0,\n",
    "    pin_memory=True,\n",
    "    worker_init_fn=seed_worker,\n",
    "    generator=g\n",
    ")\n",
    "\n",
    "pacs_classes = sketch_dataset.classes"
   ]
  },
  {
   "cell_type": "code",
   "execution_count": 10,
   "metadata": {},
   "outputs": [],
   "source": [
    "def train_epoch(model, loader, criterion, optimizer, device):\n",
    "    model.to(device)\n",
    "    model.train()\n",
    "    running_loss, correct, total = 0.0, 0, 0\n",
    "\n",
    "    for inputs, labels in loader:\n",
    "        inputs, labels = inputs.to(device), labels.to(device)\n",
    "\n",
    "        # ---- SAM first step (ascent) ----\n",
    "        outputs = model(inputs)\n",
    "        loss = criterion(outputs, labels)\n",
    "        loss.backward()\n",
    "        optimizer.first_step(zero_grad=True)  # perturb weights\n",
    "\n",
    "        # ---- SAM second step (descent) ----\n",
    "        criterion(model(inputs), labels).backward()\n",
    "        optimizer.second_step(zero_grad=True)\n",
    "\n",
    "        running_loss += loss.item() * inputs.size(0)\n",
    "        _, predicted = outputs.max(1)\n",
    "        total += labels.size(0)\n",
    "        correct += predicted.eq(labels).sum().item()\n",
    "\n",
    "    avg_loss = running_loss / total\n",
    "    accuracy = 100. * correct / total\n",
    "    return avg_loss, accuracy\n"
   ]
  },
  {
   "cell_type": "code",
   "execution_count": 11,
   "metadata": {},
   "outputs": [],
   "source": [
    "def evaluate(model, test_loader, device):\n",
    "    model.to(device)\n",
    "    model.eval()\n",
    "    correct = 0\n",
    "    total = 0\n",
    "\n",
    "    with torch.no_grad():\n",
    "        for images, labels in test_loader:\n",
    "            images = images.to(device)\n",
    "            labels = labels.to(device)\n",
    "            preds = model(images)\n",
    "            preds = torch.argmax(preds, dim=1)\n",
    "            correct += (preds == labels).sum().item()\n",
    "            total += labels.size(0)\n",
    "    accuracy = correct / total * 100\n",
    "    return accuracy"
   ]
  },
  {
   "cell_type": "code",
   "execution_count": 12,
   "metadata": {},
   "outputs": [
    {
     "name": "stdout",
     "output_type": "stream",
     "text": [
      "Epoch 1/30 | Loss: 0.6476 | Train Acc: 77.88% | LR: 0.00667\n",
      "Epoch 2/30 | Loss: 0.4093 | Train Acc: 86.28% | LR: 0.01000\n",
      "Epoch 3/30 | Loss: 0.4471 | Train Acc: 86.23% | LR: 0.01000\n",
      "Epoch 4/30 | Loss: 0.4075 | Train Acc: 87.23% | LR: 0.00997\n",
      "Epoch 5/30 | Loss: 0.3564 | Train Acc: 88.45% | LR: 0.00987\n",
      "Epoch 6/30 | Loss: 0.3973 | Train Acc: 88.45% | LR: 0.00970\n",
      "Epoch 7/30 | Loss: 0.3091 | Train Acc: 90.38% | LR: 0.00947\n",
      "Epoch 8/30 | Loss: 0.3287 | Train Acc: 89.90% | LR: 0.00918\n",
      "Epoch 9/30 | Loss: 0.3117 | Train Acc: 90.71% | LR: 0.00883\n",
      "Epoch 10/30 | Loss: 0.2958 | Train Acc: 90.53% | LR: 0.00843\n",
      "Epoch 11/30 | Loss: 0.2977 | Train Acc: 90.60% | LR: 0.00799\n",
      "Epoch 12/30 | Loss: 0.2659 | Train Acc: 91.62% | LR: 0.00750\n",
      "Epoch 13/30 | Loss: 0.2731 | Train Acc: 91.41% | LR: 0.00698\n",
      "Epoch 14/30 | Loss: 0.2600 | Train Acc: 91.92% | LR: 0.00643\n",
      "Epoch 15/30 | Loss: 0.2379 | Train Acc: 92.33% | LR: 0.00587\n",
      "Epoch 16/30 | Loss: 0.2540 | Train Acc: 92.16% | LR: 0.00529\n",
      "Epoch 17/30 | Loss: 0.2197 | Train Acc: 92.59% | LR: 0.00471\n",
      "Epoch 18/30 | Loss: 0.2115 | Train Acc: 93.27% | LR: 0.00413\n",
      "Epoch 19/30 | Loss: 0.2155 | Train Acc: 92.82% | LR: 0.00357\n",
      "Epoch 20/30 | Loss: 0.1964 | Train Acc: 93.35% | LR: 0.00302\n",
      "Epoch 21/30 | Loss: 0.1979 | Train Acc: 93.30% | LR: 0.00250\n",
      "Epoch 22/30 | Loss: 0.1890 | Train Acc: 93.58% | LR: 0.00201\n",
      "Epoch 23/30 | Loss: 0.1869 | Train Acc: 93.78% | LR: 0.00157\n",
      "Epoch 24/30 | Loss: 0.1867 | Train Acc: 93.45% | LR: 0.00117\n",
      "Epoch 25/30 | Loss: 0.1689 | Train Acc: 94.44% | LR: 0.00082\n",
      "Epoch 26/30 | Loss: 0.1650 | Train Acc: 94.01% | LR: 0.00053\n",
      "Epoch 27/30 | Loss: 0.1650 | Train Acc: 94.34% | LR: 0.00030\n",
      "Epoch 28/30 | Loss: 0.1650 | Train Acc: 94.44% | LR: 0.00013\n",
      "Epoch 29/30 | Loss: 0.1627 | Train Acc: 94.31% | LR: 0.00003\n",
      "Epoch 30/30 | Loss: 0.1627 | Train Acc: 94.06% | LR: 0.00000\n"
     ]
    }
   ],
   "source": [
    "for epoch in range(num_epochs):\n",
    "    train_loss, train_acc = train_epoch(model, source_loader, criterion, optim, device)\n",
    "    scheduler.step()\n",
    "    print(f\"Epoch {epoch+1}/{num_epochs} | Loss: {train_loss:.4f} | Train Acc: {train_acc:.2f}% | LR: {scheduler.get_last_lr()[0]:.5f}\")"
   ]
  },
  {
   "cell_type": "markdown",
   "metadata": {},
   "source": [
    "### Evaluation on Source Domains"
   ]
  },
  {
   "cell_type": "code",
   "execution_count": 13,
   "metadata": {},
   "outputs": [
    {
     "name": "stdout",
     "output_type": "stream",
     "text": [
      "Art Accuracy: 95.31%\n",
      "Cartoon Accuracy: 95.26%\n",
      "Photo Accuracy: 99.40%\n",
      "\n",
      "All Source Domains Accuracy: 96.42%\n"
     ]
    }
   ],
   "source": [
    "art_accuracy = evaluate(model, art_loader, device)\n",
    "print(f\"Art Accuracy: {art_accuracy:.2f}%\")\n",
    "\n",
    "cartoon_accuracy = evaluate(model, cartoon_loader, device)\n",
    "print(f\"Cartoon Accuracy: {cartoon_accuracy:.2f}%\")\n",
    "\n",
    "photo_accuracy = evaluate(model, photo_loader, device)\n",
    "print(f\"Photo Accuracy: {photo_accuracy:.2f}%\")\n",
    "\n",
    "source_accuracy = evaluate(model, source_loader, device)\n",
    "print(f\"\\nAll Source Domains Accuracy: {source_accuracy:.2f}%\")"
   ]
  },
  {
   "cell_type": "markdown",
   "metadata": {},
   "source": [
    "### Evaluation on Test Domain"
   ]
  },
  {
   "cell_type": "code",
   "execution_count": 14,
   "metadata": {},
   "outputs": [
    {
     "name": "stdout",
     "output_type": "stream",
     "text": [
      "Sketch Accuracy: 42.35%\n"
     ]
    }
   ],
   "source": [
    "sketch_accuracy = evaluate(model, sketch_loader, device)\n",
    "print(f\"Sketch Accuracy: {sketch_accuracy:.2f}%\")"
   ]
  }
 ],
 "metadata": {
  "kernelspec": {
   "display_name": "Python 3",
   "language": "python",
   "name": "python3"
  },
  "language_info": {
   "codemirror_mode": {
    "name": "ipython",
    "version": 3
   },
   "file_extension": ".py",
   "mimetype": "text/x-python",
   "name": "python",
   "nbconvert_exporter": "python",
   "pygments_lexer": "ipython3",
   "version": "3.13.0"
  }
 },
 "nbformat": 4,
 "nbformat_minor": 2
}
