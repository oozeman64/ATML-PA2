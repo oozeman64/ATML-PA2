{
  "cells": [
    {
      "cell_type": "markdown",
      "metadata": {
        "id": "wW9j4GVuB-Lw"
      },
      "source": [
        "## ERM Baseline with ResNet18 (Adam)\n",
        "\n",
        "#### Source Domains: PACS Art/Painting, Cartoon, Photo\n",
        "#### Target Domain: PACS Sketch"
      ]
    },
    {
      "cell_type": "code",
      "execution_count": 161,
      "metadata": {
        "id": "UQc2GiCVB-Ly"
      },
      "outputs": [],
      "source": [
        "import torch\n",
        "import torchvision\n",
        "from torchvision import datasets, transforms\n",
        "from torch.utils.data import DataLoader, ConcatDataset, random_split\n",
        "from torch.optim.lr_scheduler import LambdaLR\n",
        "import random\n",
        "import numpy as np\n",
        "import os\n",
        "\n",
        "\n",
        "device = \"cuda\" if torch.cuda.is_available() else \"mps\" if torch.mps.is_available() else \"cpu\""
      ]
    },
    {
      "cell_type": "code",
      "source": [
        "# from google.colab import drive\n",
        "# drive.mount('/content/drive', force_remount=True)\n",
        "# !unzip /content/drive/MyDrive/PA2-Data/Archive.zip"
      ],
      "metadata": {
        "id": "xjYgHAW_CJrn"
      },
      "execution_count": 162,
      "outputs": []
    },
    {
      "cell_type": "code",
      "execution_count": 163,
      "metadata": {
        "colab": {
          "base_uri": "https://localhost:8080/"
        },
        "id": "VGmTDHeEB-Lz",
        "outputId": "d4865be0-e1a9-463a-e03a-a69c95608039"
      },
      "outputs": [
        {
          "output_type": "stream",
          "name": "stdout",
          "text": [
            "Fixed random seed: 42\n"
          ]
        }
      ],
      "source": [
        "def fix_random_seed(seed=42):\n",
        "    random.seed(seed)\n",
        "    np.random.seed(seed)\n",
        "    os.environ[\"PYTHONHASHSEED\"] = str(seed)\n",
        "    torch.manual_seed(seed)\n",
        "    torch.cuda.manual_seed(seed)\n",
        "    torch.cuda.manual_seed_all(seed)\n",
        "    torch.backends.cudnn.deterministic = True\n",
        "    torch.backends.cudnn.benchmark = False\n",
        "    print(f\"Fixed random seed: {seed}\")\n",
        "\n",
        "fix_random_seed(42)\n",
        "\n",
        "# For deterministic DataLoader behavior\n",
        "def seed_worker(worker_id):\n",
        "    worker_seed = torch.initial_seed() % 2**32\n",
        "    np.random.seed(worker_seed)\n",
        "    random.seed(worker_seed)"
      ]
    },
    {
      "cell_type": "code",
      "execution_count": 164,
      "metadata": {
        "id": "CjbVGvcFB-Lz"
      },
      "outputs": [],
      "source": [
        "model = torchvision.models.resnet18(weights='IMAGENET1K_V1')\n",
        "\n",
        "model.fc = torch.nn.Linear(model.fc.in_features, 7)\n",
        "\n",
        "model = torchvision.models.resnet18(weights='IMAGENET1K_V1')\n",
        "\n",
        "for param in model.parameters():\n",
        "    param.requires_grad = False\n",
        "model.fc = torch.nn.Linear(model.fc.in_features, 7)\n",
        "optim = torch.optim.Adam(model.fc.parameters(), lr=0.008)\n",
        "\n",
        "criterion = torch.nn.CrossEntropyLoss()"
      ]
    },
    {
      "cell_type": "code",
      "execution_count": 165,
      "metadata": {
        "colab": {
          "base_uri": "https://localhost:8080/"
        },
        "id": "IYQOLbqTB-L0",
        "outputId": "e589a510-ea68-41b7-8234-0cd924c50962"
      },
      "outputs": [
        {
          "output_type": "stream",
          "name": "stdout",
          "text": [
            "Samples per domain:\n",
            "  Art total: 2048 | Train: 1945 | Val: 103\n",
            "  Cartoon total: 2344 | Train: 2226 | Val: 118\n",
            "  Photo total: 1670 | Train: 1586 | Val: 84\n",
            "  Sketch total (target): 3929\n",
            "\n",
            "Combined Train Samples: 5757\n",
            "Combined Val Samples:   305\n"
          ]
        }
      ],
      "source": [
        "# --- Constants ---\n",
        "imagenet_mean = [0.485, 0.456, 0.406]\n",
        "imagenet_std = [0.229, 0.224, 0.225]\n",
        "BATCH_SIZE = 512\n",
        "NUM_WORKERS = 2\n",
        "TRAIN_RATIO = 0.95\n",
        "VAL_RATIO = 0.05\n",
        "\n",
        "# --- Transform ---\n",
        "transform = transforms.Compose([\n",
        "    transforms.Resize((224, 224)),\n",
        "    transforms.ToTensor(),\n",
        "    transforms.Normalize(imagenet_mean, imagenet_std)\n",
        "])\n",
        "\n",
        "# --- Directories ---\n",
        "art_dir = \"/content/PA2-Data/pacs_data/pacs_data/art_painting\"\n",
        "cartoon_dir = \"/content/PA2-Data/pacs_data/pacs_data/cartoon\"\n",
        "photo_dir = \"/content/PA2-Data/pacs_data/pacs_data/photo\"\n",
        "sketch_dir = \"/content/PA2-Data/pacs_data/pacs_data/sketch\"\n",
        "\n",
        "# --- Datasets ---\n",
        "art_dataset = datasets.ImageFolder(root=art_dir, transform=transform)\n",
        "cartoon_dataset = datasets.ImageFolder(root=cartoon_dir, transform=transform)\n",
        "photo_dataset = datasets.ImageFolder(root=photo_dir, transform=transform)\n",
        "sketch_dataset = datasets.ImageFolder(root=sketch_dir, transform=transform)  # target domain\n",
        "\n",
        "# --- Seed setup for reproducibility ---\n",
        "g = torch.Generator()\n",
        "g.manual_seed(42)\n",
        "\n",
        "def seed_worker(worker_id):\n",
        "    worker_seed = torch.initial_seed() % 2**32\n",
        "    torch.manual_seed(worker_seed)\n",
        "    torch.cuda.manual_seed_all(worker_seed)\n",
        "\n",
        "# --- Split each train domain into train/val ---\n",
        "def split_dataset(dataset, ratio=TRAIN_RATIO, generator=g):\n",
        "    total_size = len(dataset)\n",
        "    train_size = int(ratio * total_size)\n",
        "    val_size = total_size - train_size\n",
        "    return random_split(dataset, [train_size, val_size], generator=generator)\n",
        "\n",
        "art_train, art_val = split_dataset(art_dataset)\n",
        "cartoon_train, cartoon_val = split_dataset(cartoon_dataset)\n",
        "photo_train, photo_val = split_dataset(photo_dataset)\n",
        "\n",
        "# --- Loaders for each val domain ---\n",
        "art_val_loader = DataLoader(\n",
        "    art_val,\n",
        "    batch_size=BATCH_SIZE,\n",
        "    shuffle=False,\n",
        "    num_workers=NUM_WORKERS,\n",
        "    pin_memory=True,\n",
        "    worker_init_fn=seed_worker,\n",
        "    generator=g\n",
        ")\n",
        "\n",
        "cartoon_val_loader = DataLoader(\n",
        "    cartoon_val,\n",
        "    batch_size=BATCH_SIZE,\n",
        "    shuffle=False,\n",
        "    num_workers=NUM_WORKERS,\n",
        "    pin_memory=True,\n",
        "    worker_init_fn=seed_worker,\n",
        "    generator=g\n",
        ")\n",
        "\n",
        "photo_val_loader = DataLoader(\n",
        "    photo_val,\n",
        "    batch_size=BATCH_SIZE,\n",
        "    shuffle=False,\n",
        "    num_workers=NUM_WORKERS,\n",
        "    pin_memory=True,\n",
        "    worker_init_fn=seed_worker,\n",
        "    generator=g\n",
        ")\n",
        "\n",
        "# --- Combined train and val datasets for all source domains ---\n",
        "combined_train_dataset = ConcatDataset([art_train, cartoon_train, photo_train])\n",
        "combined_val_dataset = ConcatDataset([art_val, cartoon_val, photo_val])\n",
        "\n",
        "combined_train_loader = DataLoader(\n",
        "    combined_train_dataset,\n",
        "    batch_size=BATCH_SIZE,\n",
        "    shuffle=True,\n",
        "    num_workers=NUM_WORKERS,\n",
        "    pin_memory=True,\n",
        "    worker_init_fn=seed_worker,\n",
        "    generator=g\n",
        ")\n",
        "\n",
        "combined_val_loader = DataLoader(\n",
        "    combined_val_dataset,\n",
        "    batch_size=BATCH_SIZE,\n",
        "    shuffle=False,\n",
        "    num_workers=NUM_WORKERS,\n",
        "    pin_memory=True,\n",
        "    worker_init_fn=seed_worker,\n",
        "    generator=g\n",
        ")\n",
        "\n",
        "# --- Sketch loader (target domain) ---\n",
        "sketch_loader = DataLoader(\n",
        "    sketch_dataset,\n",
        "    batch_size=BATCH_SIZE,\n",
        "    shuffle=False,\n",
        "    num_workers=NUM_WORKERS,\n",
        "    pin_memory=True,\n",
        "    worker_init_fn=seed_worker,\n",
        "    generator=g\n",
        ")\n",
        "\n",
        "# --- Debug info ---\n",
        "print(\"Samples per domain:\")\n",
        "print(f\"  Art total: {len(art_dataset)} | Train: {len(art_train)} | Val: {len(art_val)}\")\n",
        "print(f\"  Cartoon total: {len(cartoon_dataset)} | Train: {len(cartoon_train)} | Val: {len(cartoon_val)}\")\n",
        "print(f\"  Photo total: {len(photo_dataset)} | Train: {len(photo_train)} | Val: {len(photo_val)}\")\n",
        "print(f\"  Sketch total (target): {len(sketch_dataset)}\")\n",
        "print()\n",
        "print(f\"Combined Train Samples: {len(combined_train_dataset)}\")\n",
        "print(f\"Combined Val Samples:   {len(combined_val_dataset)}\")\n",
        "\n",
        "# --- Classes ---\n",
        "pacs_classes = sketch_dataset.classes"
      ]
    },
    {
      "cell_type": "code",
      "execution_count": 166,
      "metadata": {
        "id": "sfObKYOaB-L0"
      },
      "outputs": [],
      "source": [
        "def train_epoch(model, loader, criterion, optimizer, device):\n",
        "    model.to(device)\n",
        "    model.train()\n",
        "    running_loss, correct, total = 0.0, 0, 0\n",
        "\n",
        "    for inputs, labels in loader:\n",
        "        inputs, labels = inputs.to(device), labels.to(device)\n",
        "\n",
        "        optimizer.zero_grad()\n",
        "        outputs = model(inputs)\n",
        "        loss = criterion(outputs, labels)\n",
        "        loss.backward()\n",
        "        optimizer.step()\n",
        "\n",
        "        running_loss += loss.item() * inputs.size(0)\n",
        "        _, predicted = outputs.max(1)\n",
        "        total += labels.size(0)\n",
        "        correct += predicted.eq(labels).sum().item()\n",
        "\n",
        "    avg_loss = running_loss / total\n",
        "    accuracy = 100. * correct / total\n",
        "    return avg_loss, accuracy"
      ]
    },
    {
      "cell_type": "code",
      "execution_count": 167,
      "metadata": {
        "id": "fbhFeIEdB-L0"
      },
      "outputs": [],
      "source": [
        "def evaluate(model, test_loader, device):\n",
        "    model.to(device)\n",
        "    model.eval()\n",
        "    correct = 0\n",
        "    total = 0\n",
        "\n",
        "    with torch.no_grad():\n",
        "        for images, labels in test_loader:\n",
        "            images = images.to(device)\n",
        "            labels = labels.to(device)\n",
        "            preds = model(images)\n",
        "            preds = torch.argmax(preds, dim=1)\n",
        "            correct += (preds == labels).sum().item()\n",
        "            total += labels.size(0)\n",
        "    accuracy = correct / total * 100\n",
        "    return accuracy"
      ]
    },
    {
      "cell_type": "code",
      "execution_count": 168,
      "metadata": {
        "colab": {
          "base_uri": "https://localhost:8080/"
        },
        "id": "bYhcjsuCB-L0",
        "outputId": "1676ee64-5af9-4139-a3c6-ac5e28488536"
      },
      "outputs": [
        {
          "output_type": "stream",
          "name": "stdout",
          "text": [
            "Epoch 1/9 | Loss: 1.7000 | Train Acc: 44.54%\n",
            "Epoch 2/9 | Loss: 0.6410 | Train Acc: 78.79%\n",
            "Epoch 3/9 | Loss: 0.4630 | Train Acc: 84.68%\n",
            "Epoch 4/9 | Loss: 0.3586 | Train Acc: 88.62%\n",
            "Epoch 5/9 | Loss: 0.3210 | Train Acc: 89.77%\n",
            "Epoch 6/9 | Loss: 0.3080 | Train Acc: 90.17%\n",
            "Epoch 7/9 | Loss: 0.2935 | Train Acc: 90.29%\n",
            "Epoch 8/9 | Loss: 0.2795 | Train Acc: 90.93%\n",
            "Epoch 9/9 | Loss: 0.2674 | Train Acc: 91.40%\n"
          ]
        }
      ],
      "source": [
        "num_epochs = 9\n",
        "for epoch in range(num_epochs):\n",
        "    train_loss, train_acc = train_epoch(model, combined_train_loader, criterion, optim, device)\n",
        "    print(f\"Epoch {epoch+1}/{num_epochs} | Loss: {train_loss:.4f} | Train Acc: {train_acc:.2f}%\")\n",
        ""
      ]
    },
    {
      "cell_type": "markdown",
      "metadata": {
        "id": "bglvXrX7B-L0"
      },
      "source": [
        "### Evaluation on Source Domains"
      ]
    },
    {
      "cell_type": "code",
      "execution_count": 169,
      "metadata": {
        "colab": {
          "base_uri": "https://localhost:8080/"
        },
        "id": "KCo6I9fmB-L0",
        "outputId": "fa1b2893-ddfb-49d4-bed3-db02d7be28cd"
      },
      "outputs": [
        {
          "output_type": "stream",
          "name": "stdout",
          "text": [
            "Art Accuracy: 83.50%\n",
            "Cartoon Accuracy: 81.36%\n",
            "Photo Accuracy: 98.81%\n",
            "\n",
            "All Source Domains Accuracy: 86.89%\n"
          ]
        }
      ],
      "source": [
        "art_accuracy = evaluate(model, art_val_loader, device)\n",
        "print(f\"Art Accuracy: {art_accuracy:.2f}%\")\n",
        "\n",
        "cartoon_accuracy = evaluate(model, cartoon_val_loader, device)\n",
        "print(f\"Cartoon Accuracy: {cartoon_accuracy:.2f}%\")\n",
        "\n",
        "photo_accuracy = evaluate(model, photo_val_loader, device)\n",
        "print(f\"Photo Accuracy: {photo_accuracy:.2f}%\")\n",
        "\n",
        "source_accuracy = evaluate(model, combined_val_loader, device)\n",
        "print(f\"\\nAll Source Domains Accuracy: {source_accuracy:.2f}%\")"
      ]
    },
    {
      "cell_type": "markdown",
      "metadata": {
        "id": "QoHIIF6mB-L1"
      },
      "source": [
        "### Evaluation on Test Domain"
      ]
    },
    {
      "cell_type": "code",
      "execution_count": 170,
      "metadata": {
        "colab": {
          "base_uri": "https://localhost:8080/"
        },
        "id": "1I0vH2HUB-L1",
        "outputId": "02caf4c1-529e-499e-9f65-f28c3806d544"
      },
      "outputs": [
        {
          "output_type": "stream",
          "name": "stdout",
          "text": [
            "Sketch Accuracy: 41.66%\n"
          ]
        }
      ],
      "source": [
        "sketch_accuracy = evaluate(model, sketch_loader, device)\n",
        "print(f\"Sketch Accuracy: {sketch_accuracy:.2f}%\")"
      ]
    }
  ],
  "metadata": {
    "kernelspec": {
      "display_name": "Python 3",
      "name": "python3"
    },
    "language_info": {
      "codemirror_mode": {
        "name": "ipython",
        "version": 3
      },
      "file_extension": ".py",
      "mimetype": "text/x-python",
      "name": "python",
      "nbconvert_exporter": "python",
      "pygments_lexer": "ipython3",
      "version": "3.13.0"
    },
    "colab": {
      "provenance": [],
      "gpuType": "T4"
    },
    "accelerator": "GPU"
  },
  "nbformat": 4,
  "nbformat_minor": 0
}