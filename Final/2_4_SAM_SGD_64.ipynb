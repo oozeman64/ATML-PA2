{
  "cells": [
    {
      "cell_type": "markdown",
      "metadata": {
        "id": "wW9j4GVuB-Lw"
      },
      "source": [
        "## SAM with ResNet18\n",
        "\n",
        "#### Source Domains: PACS Art/Painting, Cartoon, Photo\n",
        "#### Target Domain: PACS Sketch"
      ]
    },
    {
      "cell_type": "code",
      "execution_count": 7,
      "metadata": {
        "id": "UQc2GiCVB-Ly"
      },
      "outputs": [],
      "source": [
        "import torch\n",
        "import torchvision\n",
        "from torchvision import datasets, transforms\n",
        "from torch.utils.data import DataLoader, ConcatDataset, random_split\n",
        "from torch.optim.lr_scheduler import LambdaLR\n",
        "import random\n",
        "import numpy as np\n",
        "import os\n",
        "\n",
        "\n",
        "device = \"cuda\" if torch.cuda.is_available() else \"mps\" if torch.mps.is_available() else \"cpu\""
      ]
    },
    {
      "cell_type": "code",
      "execution_count": 8,
      "metadata": {
        "id": "xjYgHAW_CJrn"
      },
      "outputs": [],
      "source": [
        "# from google.colab import drive\n",
        "# drive.mount('/content/drive', force_remount=True)\n",
        "# !unzip /content/drive/MyDrive/PA2-Data/Archive.zip"
      ]
    },
    {
      "cell_type": "code",
      "execution_count": 9,
      "metadata": {
        "colab": {
          "base_uri": "https://localhost:8080/"
        },
        "id": "VGmTDHeEB-Lz",
        "outputId": "95c199bc-f928-40f5-ff6b-c844eab038f5"
      },
      "outputs": [
        {
          "name": "stdout",
          "output_type": "stream",
          "text": [
            "Fixed random seed: 42\n"
          ]
        }
      ],
      "source": [
        "def fix_random_seed(seed=42):\n",
        "    random.seed(seed)\n",
        "    np.random.seed(seed)\n",
        "    os.environ[\"PYTHONHASHSEED\"] = str(seed)\n",
        "    torch.manual_seed(seed)\n",
        "    torch.cuda.manual_seed(seed)\n",
        "    torch.cuda.manual_seed_all(seed)\n",
        "    torch.backends.cudnn.deterministic = True\n",
        "    torch.backends.cudnn.benchmark = False\n",
        "    print(f\"Fixed random seed: {seed}\")\n",
        "\n",
        "fix_random_seed(42)\n",
        "\n",
        "# For deterministic DataLoader behavior\n",
        "def seed_worker(worker_id):\n",
        "    worker_seed = torch.initial_seed() % 2**32\n",
        "    np.random.seed(worker_seed)\n",
        "    random.seed(worker_seed)"
      ]
    },
    {
      "cell_type": "code",
      "execution_count": 10,
      "metadata": {
        "id": "XcX4o7hNB-Lz"
      },
      "outputs": [],
      "source": [
        "class SAM(torch.optim.Optimizer):\n",
        "    def __init__(self, params, base_optimizer, rho=0.05, adaptive=False, **kwargs):\n",
        "        self.rho = rho\n",
        "        self.adaptive = adaptive\n",
        "        defaults = dict(rho=rho, adaptive=adaptive, **kwargs)\n",
        "        super(SAM, self).__init__(params, defaults)\n",
        "        self.base_optimizer = base_optimizer(self.param_groups, **kwargs)\n",
        "        self.param_groups = self.base_optimizer.param_groups\n",
        "\n",
        "    @torch.no_grad()\n",
        "    def first_step(self, zero_grad=False):\n",
        "        grad_norm = self._grad_norm()\n",
        "        scale = self.rho / (grad_norm + 1e-12)\n",
        "\n",
        "        for group in self.param_groups:\n",
        "            for p in group['params']:\n",
        "                if p.grad is None:\n",
        "                    continue\n",
        "                e_w = (torch.pow(p, 2) if self.adaptive else 1.0) * p.grad * scale.to(p)\n",
        "                p.add_(e_w)  # ascent step\n",
        "                self.state[p]['e_w'] = e_w\n",
        "\n",
        "        if zero_grad:\n",
        "            self.zero_grad()\n",
        "\n",
        "    @torch.no_grad()\n",
        "    def second_step(self, zero_grad=False):\n",
        "        for group in self.param_groups:\n",
        "            for p in group['params']:\n",
        "                if p.grad is None:\n",
        "                    continue\n",
        "                p.sub_(self.state[p]['e_w'])  # restore original weights\n",
        "        self.base_optimizer.step()\n",
        "        if zero_grad:\n",
        "            self.zero_grad()\n",
        "\n",
        "    @torch.no_grad()\n",
        "    def step(self, closure=None):\n",
        "        raise NotImplementedError\n",
        "\n",
        "    def _grad_norm(self):\n",
        "        shared_device = self.param_groups[0]['params'][0].device\n",
        "        norm = torch.norm(\n",
        "            torch.stack([\n",
        "                ((torch.abs(p) if self.adaptive else 1.0) * p.grad).norm(p=2).to(shared_device)\n",
        "                for group in self.param_groups for p in group['params']\n",
        "                if p.grad is not None\n",
        "            ]),\n",
        "            p=2\n",
        "        )\n",
        "        return norm"
      ]
    },
    {
      "cell_type": "code",
      "execution_count": 11,
      "metadata": {
        "id": "CjbVGvcFB-Lz"
      },
      "outputs": [],
      "source": [
        "model = torchvision.models.resnet18(weights='IMAGENET1K_V1')\n",
        "\n",
        "model.fc = torch.nn.Linear(model.fc.in_features, 7)\n",
        "\n",
        "base_lr = 0.01\n",
        "weight_decay = 1e-4\n",
        "warmup_epochs = 3\n",
        "num_epochs = 9\n",
        "base_optimizer = torch.optim.SGD(\n",
        "        model.parameters(),\n",
        "        lr=base_lr,\n",
        "        momentum=0.9,\n",
        "        weight_decay=weight_decay\n",
        "    )\n",
        "\n",
        "def lr_lambda(current_epoch):\n",
        "    if current_epoch < warmup_epochs:\n",
        "        # Linear warmup from 0 -> 1\n",
        "        return float(current_epoch + 1) / float(max(1, warmup_epochs))\n",
        "    else:\n",
        "        # Cosine annealing from 1 -> 0\n",
        "        progress = (current_epoch - warmup_epochs) / float(max(1, num_epochs - warmup_epochs))\n",
        "        return 0.5 * (1.0 + torch.cos(torch.tensor(progress * 3.1415926535)))\n",
        "\n",
        "optim = SAM(model.parameters(), torch.optim.SGD,\n",
        "            lr=base_lr, momentum=0.9, weight_decay=weight_decay, rho=0.05)\n",
        "\n",
        "scheduler = LambdaLR(optim.base_optimizer, lr_lambda=lr_lambda)\n",
        "\n",
        "\n",
        "criterion = torch.nn.CrossEntropyLoss()"
      ]
    },
    {
      "cell_type": "code",
      "execution_count": 12,
      "metadata": {
        "colab": {
          "base_uri": "https://localhost:8080/"
        },
        "id": "IYQOLbqTB-L0",
        "outputId": "6439d388-588c-45de-e252-6e3dcae932a3"
      },
      "outputs": [
        {
          "name": "stdout",
          "output_type": "stream",
          "text": [
            "Samples per domain:\n",
            "  Art total: 2048 | Train: 1945 | Val: 103\n",
            "  Cartoon total: 2344 | Train: 2226 | Val: 118\n",
            "  Photo total: 1670 | Train: 1586 | Val: 84\n",
            "  Sketch total (target): 3929\n",
            "\n",
            "Combined Train Samples: 5757\n",
            "Combined Val Samples:   305\n"
          ]
        }
      ],
      "source": [
        "# --- Constants ---\n",
        "imagenet_mean = [0.485, 0.456, 0.406]\n",
        "imagenet_std = [0.229, 0.224, 0.225]\n",
        "BATCH_SIZE = 64\n",
        "NUM_WORKERS = 0\n",
        "TRAIN_RATIO = 0.95\n",
        "VAL_RATIO = 0.05\n",
        "\n",
        "# --- Transform ---\n",
        "transform = transforms.Compose([\n",
        "    transforms.Resize((224, 224)),\n",
        "    transforms.ToTensor(),\n",
        "    transforms.Normalize(imagenet_mean, imagenet_std)\n",
        "])\n",
        "\n",
        "# --- Directories ---\n",
        "art_dir = \"data/pacs_data/pacs_data/art_painting\"\n",
        "cartoon_dir = \"data/pacs_data/pacs_data/cartoon\"\n",
        "photo_dir = \"data/pacs_data/pacs_data/photo\"\n",
        "sketch_dir = \"data/pacs_data/pacs_data/sketch\"\n",
        "\n",
        "# --- Datasets ---\n",
        "art_dataset = datasets.ImageFolder(root=art_dir, transform=transform)\n",
        "cartoon_dataset = datasets.ImageFolder(root=cartoon_dir, transform=transform)\n",
        "photo_dataset = datasets.ImageFolder(root=photo_dir, transform=transform)\n",
        "sketch_dataset = datasets.ImageFolder(root=sketch_dir, transform=transform)  # target domain\n",
        "\n",
        "# --- Seed setup for reproducibility ---\n",
        "g = torch.Generator()\n",
        "g.manual_seed(42)\n",
        "\n",
        "def seed_worker(worker_id):\n",
        "    worker_seed = torch.initial_seed() % 2**32\n",
        "    torch.manual_seed(worker_seed)\n",
        "    torch.cuda.manual_seed_all(worker_seed)\n",
        "\n",
        "# --- Split each train domain into train/val ---\n",
        "def split_dataset(dataset, ratio=TRAIN_RATIO, generator=g):\n",
        "    total_size = len(dataset)\n",
        "    train_size = int(ratio * total_size)\n",
        "    val_size = total_size - train_size\n",
        "    return random_split(dataset, [train_size, val_size], generator=generator)\n",
        "\n",
        "art_train, art_val = split_dataset(art_dataset)\n",
        "cartoon_train, cartoon_val = split_dataset(cartoon_dataset)\n",
        "photo_train, photo_val = split_dataset(photo_dataset)\n",
        "\n",
        "# --- Loaders for each val domain ---\n",
        "art_val_loader = DataLoader(\n",
        "    art_val,\n",
        "    batch_size=BATCH_SIZE,\n",
        "    shuffle=False,\n",
        "    num_workers=NUM_WORKERS,\n",
        "    pin_memory=True,\n",
        "    worker_init_fn=seed_worker,\n",
        "    generator=g\n",
        ")\n",
        "\n",
        "cartoon_val_loader = DataLoader(\n",
        "    cartoon_val,\n",
        "    batch_size=BATCH_SIZE,\n",
        "    shuffle=False,\n",
        "    num_workers=NUM_WORKERS,\n",
        "    pin_memory=True,\n",
        "    worker_init_fn=seed_worker,\n",
        "    generator=g\n",
        ")\n",
        "\n",
        "photo_val_loader = DataLoader(\n",
        "    photo_val,\n",
        "    batch_size=BATCH_SIZE,\n",
        "    shuffle=False,\n",
        "    num_workers=NUM_WORKERS,\n",
        "    pin_memory=True,\n",
        "    worker_init_fn=seed_worker,\n",
        "    generator=g\n",
        ")\n",
        "\n",
        "# --- Combined train and val datasets for all source domains ---\n",
        "combined_train_dataset = ConcatDataset([art_train, cartoon_train, photo_train])\n",
        "combined_val_dataset = ConcatDataset([art_val, cartoon_val, photo_val])\n",
        "\n",
        "combined_train_loader = DataLoader(\n",
        "    combined_train_dataset,\n",
        "    batch_size=BATCH_SIZE,\n",
        "    shuffle=True,\n",
        "    num_workers=NUM_WORKERS,\n",
        "    pin_memory=True,\n",
        "    worker_init_fn=seed_worker,\n",
        "    generator=g\n",
        ")\n",
        "\n",
        "combined_val_loader = DataLoader(\n",
        "    combined_val_dataset,\n",
        "    batch_size=BATCH_SIZE,\n",
        "    shuffle=False,\n",
        "    num_workers=NUM_WORKERS,\n",
        "    pin_memory=True,\n",
        "    worker_init_fn=seed_worker,\n",
        "    generator=g\n",
        ")\n",
        "\n",
        "# --- Sketch loader (target domain) ---\n",
        "sketch_loader = DataLoader(\n",
        "    sketch_dataset,\n",
        "    batch_size=BATCH_SIZE,\n",
        "    shuffle=False,\n",
        "    num_workers=NUM_WORKERS,\n",
        "    pin_memory=True,\n",
        "    worker_init_fn=seed_worker,\n",
        "    generator=g\n",
        ")\n",
        "\n",
        "# --- Debug info ---\n",
        "print(\"Samples per domain:\")\n",
        "print(f\"  Art total: {len(art_dataset)} | Train: {len(art_train)} | Val: {len(art_val)}\")\n",
        "print(f\"  Cartoon total: {len(cartoon_dataset)} | Train: {len(cartoon_train)} | Val: {len(cartoon_val)}\")\n",
        "print(f\"  Photo total: {len(photo_dataset)} | Train: {len(photo_train)} | Val: {len(photo_val)}\")\n",
        "print(f\"  Sketch total (target): {len(sketch_dataset)}\")\n",
        "print()\n",
        "print(f\"Combined Train Samples: {len(combined_train_dataset)}\")\n",
        "print(f\"Combined Val Samples:   {len(combined_val_dataset)}\")\n",
        "\n",
        "# --- Classes ---\n",
        "pacs_classes = sketch_dataset.classes"
      ]
    },
    {
      "cell_type": "code",
      "execution_count": 13,
      "metadata": {
        "id": "sfObKYOaB-L0"
      },
      "outputs": [],
      "source": [
        "def train_epoch(model, loader, criterion, optimizer, device):\n",
        "    model.to(device)\n",
        "    model.train()\n",
        "    running_loss, correct, total = 0.0, 0, 0\n",
        "\n",
        "    for inputs, labels in loader:\n",
        "        inputs, labels = inputs.to(device), labels.to(device)\n",
        "\n",
        "        # ---- SAM first step (ascent) ----\n",
        "        outputs = model(inputs)\n",
        "        loss = criterion(outputs, labels)\n",
        "        loss.backward()\n",
        "        optimizer.first_step(zero_grad=True)  # perturb weights\n",
        "\n",
        "        # ---- SAM second step (descent) ----\n",
        "        criterion(model(inputs), labels).backward()\n",
        "        optimizer.second_step(zero_grad=True)\n",
        "\n",
        "        running_loss += loss.item() * inputs.size(0)\n",
        "        _, predicted = outputs.max(1)\n",
        "        total += labels.size(0)\n",
        "        correct += predicted.eq(labels).sum().item()\n",
        "\n",
        "    avg_loss = running_loss / total\n",
        "    accuracy = 100. * correct / total\n",
        "    return avg_loss, accuracy\n"
      ]
    },
    {
      "cell_type": "code",
      "execution_count": 14,
      "metadata": {
        "id": "fbhFeIEdB-L0"
      },
      "outputs": [],
      "source": [
        "def evaluate(model, test_loader, device):\n",
        "    model.to(device)\n",
        "    model.eval()\n",
        "    correct = 0\n",
        "    total = 0\n",
        "\n",
        "    with torch.no_grad():\n",
        "        for images, labels in test_loader:\n",
        "            images = images.to(device)\n",
        "            labels = labels.to(device)\n",
        "            preds = model(images)\n",
        "            preds = torch.argmax(preds, dim=1)\n",
        "            correct += (preds == labels).sum().item()\n",
        "            total += labels.size(0)\n",
        "    accuracy = correct / total * 100\n",
        "    return accuracy"
      ]
    },
    {
      "cell_type": "code",
      "execution_count": 15,
      "metadata": {
        "colab": {
          "base_uri": "https://localhost:8080/"
        },
        "id": "bYhcjsuCB-L0",
        "outputId": "bc6d9a0d-d02e-44eb-b126-e6793045982e"
      },
      "outputs": [
        {
          "name": "stdout",
          "output_type": "stream",
          "text": [
            "Epoch 1/9 | Loss: 0.5741 | Train Acc: 80.70% | LR: 0.00667\n",
            "Epoch 2/9 | Loss: 0.1326 | Train Acc: 96.09% | LR: 0.01000\n",
            "Epoch 3/9 | Loss: 0.0743 | Train Acc: 97.97% | LR: 0.01000\n",
            "Epoch 4/9 | Loss: 0.0293 | Train Acc: 99.46% | LR: 0.00933\n",
            "Epoch 5/9 | Loss: 0.0120 | Train Acc: 99.86% | LR: 0.00750\n",
            "Epoch 6/9 | Loss: 0.0055 | Train Acc: 99.97% | LR: 0.00500\n",
            "Epoch 7/9 | Loss: 0.0029 | Train Acc: 99.97% | LR: 0.00250\n",
            "Epoch 8/9 | Loss: 0.0014 | Train Acc: 100.00% | LR: 0.00067\n",
            "Epoch 9/9 | Loss: 0.0010 | Train Acc: 100.00% | LR: 0.00000\n"
          ]
        }
      ],
      "source": [
        "for epoch in range(num_epochs):\n",
        "    train_loss, train_acc = train_epoch(model, combined_train_loader, criterion, optim, device)\n",
        "    scheduler.step()\n",
        "    print(f\"Epoch {epoch+1}/{num_epochs} | Loss: {train_loss:.4f} | Train Acc: {train_acc:.2f}% | LR: {scheduler.get_last_lr()[0]:.5f}\")\n"
      ]
    },
    {
      "cell_type": "markdown",
      "metadata": {
        "id": "bglvXrX7B-L0"
      },
      "source": [
        "### Evaluation on Source Domains"
      ]
    },
    {
      "cell_type": "code",
      "execution_count": 16,
      "metadata": {
        "colab": {
          "base_uri": "https://localhost:8080/"
        },
        "id": "KCo6I9fmB-L0",
        "outputId": "116908a2-17dc-4ce9-9e6c-9fcb36197c91"
      },
      "outputs": [
        {
          "name": "stdout",
          "output_type": "stream",
          "text": [
            "Art Accuracy: 94.17%\n",
            "Cartoon Accuracy: 95.76%\n",
            "Photo Accuracy: 98.81%\n",
            "\n",
            "All Source Domains Accuracy: 96.07%\n"
          ]
        }
      ],
      "source": [
        "art_accuracy = evaluate(model, art_val_loader, device)\n",
        "print(f\"Art Accuracy: {art_accuracy:.2f}%\")\n",
        "\n",
        "cartoon_accuracy = evaluate(model, cartoon_val_loader, device)\n",
        "print(f\"Cartoon Accuracy: {cartoon_accuracy:.2f}%\")\n",
        "\n",
        "photo_accuracy = evaluate(model, photo_val_loader, device)\n",
        "print(f\"Photo Accuracy: {photo_accuracy:.2f}%\")\n",
        "\n",
        "source_accuracy = evaluate(model, combined_val_loader, device)\n",
        "print(f\"\\nAll Source Domains Accuracy: {source_accuracy:.2f}%\")"
      ]
    },
    {
      "cell_type": "markdown",
      "metadata": {
        "id": "QoHIIF6mB-L1"
      },
      "source": [
        "### Evaluation on Test Domain"
      ]
    },
    {
      "cell_type": "code",
      "execution_count": 17,
      "metadata": {
        "colab": {
          "base_uri": "https://localhost:8080/"
        },
        "id": "1I0vH2HUB-L1",
        "outputId": "f19f79d9-4d21-4e63-ca1c-88144c4732ca"
      },
      "outputs": [
        {
          "name": "stdout",
          "output_type": "stream",
          "text": [
            "Sketch Accuracy: 71.29%\n"
          ]
        }
      ],
      "source": [
        "sketch_accuracy = evaluate(model, sketch_loader, device)\n",
        "print(f\"Sketch Accuracy: {sketch_accuracy:.2f}%\")"
      ]
    }
  ],
  "metadata": {
    "accelerator": "GPU",
    "colab": {
      "gpuType": "T4",
      "provenance": []
    },
    "kernelspec": {
      "display_name": "Python 3",
      "name": "python3"
    },
    "language_info": {
      "codemirror_mode": {
        "name": "ipython",
        "version": 3
      },
      "file_extension": ".py",
      "mimetype": "text/x-python",
      "name": "python",
      "nbconvert_exporter": "python",
      "pygments_lexer": "ipython3",
      "version": "3.13.0"
    }
  },
  "nbformat": 4,
  "nbformat_minor": 0
}
